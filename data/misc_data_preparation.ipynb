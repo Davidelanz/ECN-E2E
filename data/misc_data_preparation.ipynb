{
 "cells": [
  {
   "cell_type": "code",
   "execution_count": 8,
   "metadata": {},
   "outputs": [],
   "source": [
    "import pandas as pd"
   ]
  },
  {
   "cell_type": "code",
   "execution_count": 9,
   "metadata": {},
   "outputs": [],
   "source": [
    "df_ch2 = pd.read_csv('hybrid_CH2_002_output.csv')\n",
    "df_ch3_1 = pd.read_csv('hybrid_CH3_001_output.csv')\n",
    "df_ch3_2 = pd.read_csv('hybrid_CH3_002_output.csv')"
   ]
  },
  {
   "cell_type": "code",
   "execution_count": 10,
   "metadata": {},
   "outputs": [],
   "source": [
    "df = pd.concat([df_ch2, df_ch3_1, df_ch3_2])"
   ]
  },
  {
   "cell_type": "code",
   "execution_count": 11,
   "metadata": {},
   "outputs": [],
   "source": [
    "def datasetSeparate(dataframe):\n",
    "    \"\"\"\n",
    "    Separate dataframe into training set (80%) and validation set (20%)\n",
    "    \n",
    "    :param dataframe:\n",
    "    \n",
    "    :return:\n",
    "        training_df, validation_df\n",
    "    \"\"\"\n",
    "    # shuffle dataframe\n",
    "    dataframe = dataframe.sample(frac=1).reset_index(drop=True)\n",
    "    # separate\n",
    "    training_end = int(0.8 * len(dataframe))\n",
    "    training_df = dataframe.iloc[: training_end, :]\n",
    "    validation_df = dataframe.iloc[training_end: , :]\n",
    "    \n",
    "    return training_df, validation_df"
   ]
  },
  {
   "cell_type": "code",
   "execution_count": 12,
   "metadata": {},
   "outputs": [],
   "source": [
    "training_df, validation_df = datasetSeparate(df)"
   ]
  },
  {
   "cell_type": "code",
   "execution_count": 15,
   "metadata": {},
   "outputs": [],
   "source": [
    "training_df.to_csv('hybrid_training.csv')"
   ]
  },
  {
   "cell_type": "code",
   "execution_count": 18,
   "metadata": {},
   "outputs": [],
   "source": [
    "validation_df.to_csv('hybrid_validation.csv')"
   ]
  },
  {
   "cell_type": "code",
   "execution_count": null,
   "metadata": {},
   "outputs": [],
   "source": []
  }
 ],
 "metadata": {
  "kernelspec": {
   "display_name": "Python 3",
   "language": "python",
   "name": "python3"
  },
  "language_info": {
   "codemirror_mode": {
    "name": "ipython",
    "version": 3
   },
   "file_extension": ".py",
   "mimetype": "text/x-python",
   "name": "python",
   "nbconvert_exporter": "python",
   "pygments_lexer": "ipython3",
   "version": "3.6.6"
  }
 },
 "nbformat": 4,
 "nbformat_minor": 2
}
