{
 "cells": [
  {
   "cell_type": "code",
   "execution_count": 1,
   "metadata": {},
   "outputs": [],
   "source": [
    "import pandas as pd\n",
    "import numpy as np\n",
    "import matplotlib.pyplot as plt"
   ]
  },
  {
   "cell_type": "code",
   "execution_count": 49,
   "metadata": {},
   "outputs": [],
   "source": [
    "df = pd.read_csv('interpolated.csv')\n",
    "# extract row corresponding to center_camera\n",
    "df = df.loc[df['frame_id']=='center_camera']\n",
    "df.angle *= 180 / np.pi "
   ]
  },
  {
   "cell_type": "markdown",
   "metadata": {},
   "source": [
    "## Original steering angle distribution"
   ]
  },
  {
   "cell_type": "code",
   "execution_count": 50,
   "metadata": {},
   "outputs": [
    {
     "data": {
      "image/png": "[encoded data removed]",
      "text/plain": [
       "<Figure size 432x288 with 1 Axes>"
      ]
     },
     "metadata": {
      "needs_background": "light"
     },
     "output_type": "display_data"
    }
   ],
   "source": [
    "bins_cnt, bins,_ = plt.hist(df.angle, bins=10) "
   ]
  },
  {
   "cell_type": "markdown",
   "metadata": {},
   "source": [
    "## Remove bins with too few counts & crop too large bins"
   ]
  },
  {
   "cell_type": "code",
   "execution_count": 51,
   "metadata": {},
   "outputs": [
    {
     "name": "stdout",
     "output_type": "stream",
     "text": [
      "baseline =  3380.8\n",
      "Keep prob:\n",
      " [0.0, 0.0, 0.0, 1.0, 0.4530081736567064, 0.1489273600281926, 1.0, 0.0, 0.0, 0.0]\n"
     ]
    }
   ],
   "source": [
    "bins_list = [(bins[i], bins[i + 1]) for i in range(len(bins) - 1)]\n",
    "# Calculate keep prob for each bins\n",
    "keep_prob = []\n",
    "baseline = 1 * bins_cnt.mean()\n",
    "print('baseline = ', baseline)\n",
    "for cnt in bins_cnt:\n",
    "    if cnt < 0.1 * baseline:\n",
    "        keep_prob.append(0.)\n",
    "    elif cnt < baseline:\n",
    "        keep_prob.append(1.)\n",
    "    else:\n",
    "        keep_prob.append(baseline / cnt)\n",
    "            \n",
    "print('Keep prob:\\n', keep_prob)\n",
    "\n",
    "# Append 'keep' column to df\n",
    "df['keep'] = pd.Series(np.array([False for i in range(len(df.index))]), index=df.index)\n",
    "# Sort df wrt angle\n",
    "df.sort_values('angle', inplace=True)"
   ]
  },
  {
   "cell_type": "code",
   "execution_count": 52,
   "metadata": {},
   "outputs": [],
   "source": [
    "# iterate through every row and decide whether to keep this row according bins' keep_prob\n",
    "bins_idx = 0  # which bins to start testing if this angle is belong to\n",
    "for index, row in df.iterrows():\n",
    "    # Found bins contains this angle\n",
    "    for _idx in range(bins_idx, len(bins_list)):\n",
    "        if row['angle'] >= bins_list[_idx][0] and row['angle'] <= bins_list[_idx][1]:\n",
    "            # Decide whether to keep this angle\n",
    "            if np.random.rand() < keep_prob[_idx]:\n",
    "                df.at[index, 'keep'] = True\n",
    "            # update bins_idx\n",
    "            if _idx != bins_idx:\n",
    "                bins_idx = _idx\n",
    "            break"
   ]
  },
  {
   "cell_type": "markdown",
   "metadata": {},
   "source": [
    "## New steering angle distribution"
   ]
  },
  {
   "cell_type": "code",
   "execution_count": 53,
   "metadata": {},
   "outputs": [
    {
     "data": {
      "image/png": "[encoded data removed]",
      "text/plain": [
       "<Figure size 432x288 with 1 Axes>"
      ]
     },
     "metadata": {
      "needs_background": "light"
     },
     "output_type": "display_data"
    }
   ],
   "source": [
    "n, bins, _ = plt.hist(df.loc[df.keep].angle, bins=10)"
   ]
  },
  {
   "cell_type": "code",
   "execution_count": 54,
   "metadata": {},
   "outputs": [],
   "source": [
    "df.loc[df.keep].to_csv('ch2_train_center_cam.csv')"
   ]
  },
  {
   "cell_type": "markdown",
   "metadata": {},
   "source": [
    "### Test written data"
   ]
  },
  {
   "cell_type": "code",
   "execution_count": 55,
   "metadata": {},
   "outputs": [
    {
     "data": {
      "text/plain": [
       "<matplotlib.axes._subplots.AxesSubplot at 0x7f551f45dd30>"
      ]
     },
     "execution_count": 55,
     "metadata": {},
     "output_type": "execute_result"
    },
    {
     "data": {
      "image/png": "[encoded data removed]",
      "text/plain": [
       "<Figure size 432x288 with 1 Axes>"
      ]
     },
     "metadata": {
      "needs_background": "light"
     },
     "output_type": "display_data"
    }
   ],
   "source": [
    "test_df = pd.read_csv('ch2_train_center_cam.csv')\n",
    "test_df.angle.hist()"
   ]
  },
  {
   "cell_type": "code",
   "execution_count": null,
   "metadata": {},
   "outputs": [],
   "source": []
  }
 ],
 "metadata": {
  "kernelspec": {
   "display_name": "Python 3",
   "language": "python",
   "name": "python3"
  },
  "language_info": {
   "codemirror_mode": {
    "name": "ipython",
    "version": 3
   },
   "file_extension": ".py",
   "mimetype": "text/x-python",
   "name": "python",
   "nbconvert_exporter": "python",
   "pygments_lexer": "ipython3",
   "version": "3.6.6"
  }
 },
 "nbformat": 4,
 "nbformat_minor": 2
}
