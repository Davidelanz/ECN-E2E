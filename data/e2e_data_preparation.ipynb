{
 "cells": [
  {
   "cell_type": "code",
   "execution_count": 58,
   "metadata": {},
   "outputs": [],
   "source": [
    "import pandas as pd\n",
    "import numpy as np\n",
    "import matplotlib.pyplot as plt\n",
    "from scipy.stats import bernoulli"
   ]
  },
  {
   "cell_type": "code",
   "execution_count": 59,
   "metadata": {},
   "outputs": [],
   "source": [
    "df = pd.read_csv('interpolated.csv')"
   ]
  },
  {
   "cell_type": "markdown",
   "metadata": {},
   "source": [
    "## Original steering angle distribution"
   ]
  },
  {
   "cell_type": "code",
   "execution_count": 60,
   "metadata": {},
   "outputs": [
    {
     "data": {
      "image/png": "[encoded data removed]",
      "text/plain": [
       "<Figure size 432x288 with 1 Axes>"
      ]
     },
     "metadata": {
      "needs_background": "light"
     },
     "output_type": "display_data"
    }
   ],
   "source": [
    "bins_cnt, bins,_ = plt.hist(df.angle, bins=10) "
   ]
  },
  {
   "cell_type": "markdown",
   "metadata": {},
   "source": [
    "# Dataset Utils"
   ]
  },
  {
   "cell_type": "code",
   "execution_count": 61,
   "metadata": {},
   "outputs": [],
   "source": [
    "def datasetTreatment(dataframe):\n",
    "    \"\"\"\n",
    "    Make the steering angle has uniform distribution by getting rid of\n",
    "    the bins having too many samples\n",
    "    \n",
    "    :param dataframe:\n",
    "        cotains infor of csv file\n",
    "        \n",
    "    :return:\n",
    "        dataframe with uniform distributed steering angle\n",
    "    \"\"\"\n",
    "    # create histogram of original dataset\n",
    "    bins_cnt, bins,_ = plt.hist(dataframe.angle, bins=10)\n",
    "    \n",
    "    # calculate keep_prob for each bins\n",
    "    bins_list = [(bins[i], bins[i + 1]) for i in range(len(bins) - 1)]\n",
    "    keep_prob = []\n",
    "    baseline = bins_cnt.mean()\n",
    "    for cnt in bins_cnt:\n",
    "        if cnt < baseline:\n",
    "            keep_prob.append(1.)\n",
    "        else:\n",
    "            keep_prob.append(baseline / cnt)\n",
    "    \n",
    "    # Append 'keep' column to dataframe\n",
    "    dataframe['keep'] = pd.Series(np.array([False for i in range(len(dataframe.index))]), index=dataframe.index)\n",
    "    \n",
    "    # Sort dataframe wrt angle\n",
    "    dataframe.sort_values('angle', inplace=True)\n",
    "    \n",
    "    # iterate through every row and decide whether to keep this row according bins' keep_prob\n",
    "    bins_idx = 0  # which bins to start testing if this angle is belong to\n",
    "    for index, row in dataframe.iterrows():\n",
    "        # Find bins contains this angle\n",
    "        for _idx in range(bins_idx, len(bins_list)):\n",
    "            if row['angle'] >= bins_list[_idx][0] and row['angle'] <= bins_list[_idx][1]:\n",
    "                # Decide whether to keep this angle\n",
    "                if bernoulli.rvs(keep_prob[_idx]):\n",
    "                    dataframe.at[index, 'keep'] = True\n",
    "                # update bins_idx\n",
    "                if _idx != bins_idx:\n",
    "                    bins_idx = _idx\n",
    "                break  # stop finding bins for this angle & move on to next row\n",
    "    \n",
    "    return dataframe.loc[dataframe.keep].drop(columns='keep')\n",
    "\n",
    "\n",
    "def datasetSeparateTrainValidation(dataframe):\n",
    "    \"\"\"\n",
    "    Separate dataframe into training set (80%) and validation set (20%)\n",
    "    \n",
    "    :param dataframe:\n",
    "    \n",
    "    :return:\n",
    "        training_df, validation_df\n",
    "    \"\"\"\n",
    "    # shuffle dataframe\n",
    "    dataframe = dataframe.sample(frac=1).reset_index(drop=True)\n",
    "    # separate\n",
    "    training_end = int(0.8 * len(dataframe))\n",
    "    training_df = dataframe.iloc[: training_end, :]\n",
    "    validation_df = dataframe.iloc[training_end: , :]\n",
    "    \n",
    "    return training_df, validation_df\n",
    "    "
   ]
  },
  {
   "cell_type": "markdown",
   "metadata": {},
   "source": [
    "# Uniformize Dataset"
   ]
  },
  {
   "cell_type": "code",
   "execution_count": 67,
   "metadata": {},
   "outputs": [
    {
     "data": {
      "image/png": "[encoded data removed]",
      "text/plain": [
       "<Figure size 432x288 with 1 Axes>"
      ]
     },
     "metadata": {
      "needs_background": "light"
     },
     "output_type": "display_data"
    }
   ],
   "source": [
    "new_df = datasetTreatment(new_df)"
   ]
  },
  {
   "cell_type": "code",
   "execution_count": 68,
   "metadata": {},
   "outputs": [
    {
     "data": {
      "text/plain": [
       "(array([ 179.,  171.,  822., 1452., 1482., 1460., 1507.,  893.,  304.,\n",
       "         177.]),\n",
       " array([-2.05076194, -1.65527033, -1.25977871, -0.8642871 , -0.46879549,\n",
       "        -0.07330388,  0.32218773,  0.71767935,  1.11317096,  1.50866257,\n",
       "         1.90415418]),\n",
       " <a list of 10 Patch objects>)"
      ]
     },
     "execution_count": 68,
     "metadata": {},
     "output_type": "execute_result"
    },
    {
     "data": {
      "image/png": "[encoded data removed]",
      "text/plain": [
       "<Figure size 432x288 with 1 Axes>"
      ]
     },
     "metadata": {
      "needs_background": "light"
     },
     "output_type": "display_data"
    }
   ],
   "source": [
    "plt.hist(new_df.angle, bins=10)"
   ]
  },
  {
   "cell_type": "code",
   "execution_count": 69,
   "metadata": {},
   "outputs": [
    {
     "data": {
      "text/plain": [
       "8447"
      ]
     },
     "execution_count": 69,
     "metadata": {},
     "output_type": "execute_result"
    }
   ],
   "source": [
    "len(new_df)"
   ]
  },
  {
   "cell_type": "markdown",
   "metadata": {},
   "source": [
    "# Get training & validation dataset"
   ]
  },
  {
   "cell_type": "code",
   "execution_count": 70,
   "metadata": {},
   "outputs": [],
   "source": [
    "training_df, validation_df = datasetSeparateTrainValidation(new_df)"
   ]
  },
  {
   "cell_type": "code",
   "execution_count": 71,
   "metadata": {},
   "outputs": [],
   "source": [
    "# Export to csv\n",
    "training_df.to_csv('ch2_training.csv')\n",
    "validation_df.to_csv('ch2_validation.csv')"
   ]
  },
  {
   "cell_type": "markdown",
   "metadata": {},
   "source": [
    "# Test distribution of 2 datasets"
   ]
  },
  {
   "cell_type": "code",
   "execution_count": 73,
   "metadata": {},
   "outputs": [
    {
     "data": {
      "text/plain": [
       "<matplotlib.axes._subplots.AxesSubplot at 0x7f3a10f9c358>"
      ]
     },
     "execution_count": 73,
     "metadata": {},
     "output_type": "execute_result"
    },
    {
     "data": {
      "image/png": "[encoded data removed]",
      "text/plain": [
       "<Figure size 432x288 with 1 Axes>"
      ]
     },
     "metadata": {
      "needs_background": "light"
     },
     "output_type": "display_data"
    }
   ],
   "source": [
    "test_df = pd.read_csv('ch2_training.csv')\n",
    "test_df.angle.hist()"
   ]
  },
  {
   "cell_type": "code",
   "execution_count": 74,
   "metadata": {},
   "outputs": [
    {
     "data": {
      "text/plain": [
       "<matplotlib.axes._subplots.AxesSubplot at 0x7f3a07ffd550>"
      ]
     },
     "execution_count": 74,
     "metadata": {},
     "output_type": "execute_result"
    },
    {
     "data": {
      "image/png": "[encoded data removed]",
      "text/plain": [
       "<Figure size 432x288 with 1 Axes>"
      ]
     },
     "metadata": {
      "needs_background": "light"
     },
     "output_type": "display_data"
    }
   ],
   "source": [
    "test_df = pd.read_csv('ch2_validation.csv')\n",
    "test_df.angle.hist()"
   ]
  },
  {
   "cell_type": "code",
   "execution_count": null,
   "metadata": {},
   "outputs": [],
   "source": []
  }
 ],
 "metadata": {
  "kernelspec": {
   "display_name": "Python 3",
   "language": "python",
   "name": "python3"
  },
  "language_info": {
   "codemirror_mode": {
    "name": "ipython",
    "version": 3
   },
   "file_extension": ".py",
   "mimetype": "text/x-python",
   "name": "python",
   "nbconvert_exporter": "python",
   "pygments_lexer": "ipython3",
   "version": "3.6.6"
  }
 },
 "nbformat": 4,
 "nbformat_minor": 2
}
