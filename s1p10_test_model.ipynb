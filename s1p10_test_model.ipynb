{
 "cells": [
  {
   "cell_type": "code",
   "execution_count": 1,
   "metadata": {},
   "outputs": [
    {
     "name": "stderr",
     "output_type": "stream",
     "text": [
      "Using TensorFlow backend.\n"
     ]
    }
   ],
   "source": [
    "from keras.models import model_from_json\n",
    "import keras\n",
    "from s1p10_training_utils import gen_classifier_dataset\n",
    "import numpy as np\n",
    "import matplotlib.pyplot as plt\n",
    "from scipy.signal import savgol_filter\n",
    "import cv2 as cv"
   ]
  },
  {
   "cell_type": "markdown",
   "metadata": {},
   "source": [
    "# Load Model"
   ]
  },
  {
   "cell_type": "code",
   "execution_count": 2,
   "metadata": {},
   "outputs": [
    {
     "name": "stdout",
     "output_type": "stream",
     "text": [
      "WARNING:tensorflow:From /home/user/venv/lib/python3.6/site-packages/tensorflow/python/framework/op_def_library.py:263: colocate_with (from tensorflow.python.framework.ops) is deprecated and will be removed in a future version.\n",
      "Instructions for updating:\n",
      "Colocations handled automatically by placer.\n",
      "WARNING:tensorflow:From /home/user/venv/lib/python3.6/site-packages/tensorflow/python/training/moving_averages.py:210: calling Zeros.__init__ (from tensorflow.python.ops.init_ops) with dtype is deprecated and will be removed in a future version.\n",
      "Instructions for updating:\n",
      "Call initializer instance with the dtype argument instead of passing it to the constructor\n",
      "WARNING:tensorflow:From /home/user/venv/lib/python3.6/site-packages/keras/backend/tensorflow_backend.py:3445: calling dropout (from tensorflow.python.ops.nn_ops) with keep_prob is deprecated and will be removed in a future version.\n",
      "Instructions for updating:\n",
      "Please use `rate` instead of `keep_prob`. Rate should be set to `rate = 1 - keep_prob`.\n",
      "Loaded model from disk\n",
      "__________________________________________________________________________________________________\n",
      "Layer (type)                    Output Shape         Param #     Connected to                     \n",
      "==================================================================================================\n",
      "image_in (InputLayer)           (None, 200, 200, 1)  0                                            \n",
      "__________________________________________________________________________________________________\n",
      "resnet8 (Model)                 (None, 6272)         309088      image_in[0][0]                   \n",
      "__________________________________________________________________________________________________\n",
      "dropout_1 (Dropout)             (None, 6272)         0           resnet8[1][0]                    \n",
      "__________________________________________________________________________________________________\n",
      "dense_1 (Dense)                 (None, 800)          5018400     dropout_1[0][0]                  \n",
      "__________________________________________________________________________________________________\n",
      "head_0 (Dense)                  (None, 114)          91314       dense_1[0][0]                    \n",
      "__________________________________________________________________________________________________\n",
      "head_1 (Dense)                  (None, 114)          91314       dense_1[0][0]                    \n",
      "__________________________________________________________________________________________________\n",
      "head_2 (Dense)                  (None, 114)          91314       dense_1[0][0]                    \n",
      "__________________________________________________________________________________________________\n",
      "head_3 (Dense)                  (None, 114)          91314       dense_1[0][0]                    \n",
      "__________________________________________________________________________________________________\n",
      "head_4 (Dense)                  (None, 114)          91314       dense_1[0][0]                    \n",
      "==================================================================================================\n",
      "Total params: 5,784,058\n",
      "Trainable params: 5,783,354\n",
      "Non-trainable params: 704\n",
      "__________________________________________________________________________________________________\n"
     ]
    }
   ],
   "source": [
    "MODEL_DIR = \"./s1p10_logs/2019_05_30_21_41/\"\n",
    "MODEL_NAME = \"s1p10_model_2019_05_30_21_41\"\n",
    "# load json and create model\n",
    "with open(MODEL_DIR + \"%s.json\" % MODEL_NAME, 'r') as json_file:\n",
    "    loaded_model_json = json_file.read()\n",
    "\n",
    "model = model_from_json(loaded_model_json)\n",
    "\n",
    "# load weights into new model\n",
    "model.load_weights(MODEL_DIR + \"%s.h5\" % MODEL_NAME)\n",
    "print(\"Loaded model from disk\")\n",
    "\n",
    "model.summary()"
   ]
  },
  {
   "cell_type": "code",
   "execution_count": 3,
   "metadata": {},
   "outputs": [],
   "source": [
    "IMAGE_SHAPE = (200, 200, 1)\n",
    "NUM_LABELS = 5\n",
    "BINS_EDGE = np.load(\"./s1p10_data/s1p10_bins_edge.npy\")\n",
    "NUM_CLASSES = len(BINS_EDGE) - 1  "
   ]
  },
  {
   "cell_type": "markdown",
   "metadata": {},
   "source": [
    "# Load Validation Dataset"
   ]
  },
  {
   "cell_type": "code",
   "execution_count": 4,
   "metadata": {},
   "outputs": [],
   "source": [
    "# X_val, y_val = gen_classifier_dataset(\"./s1p10_data/s1p10_CH2_002_output_validation.csv\", **gen_param)\n",
    "X_val = np.load('./s1p10_data/CH2_validation_X.npy')\n",
    "y_val_arr = np.load('./s1p10_data/CH2_validation_y.npy')\n",
    "y_val = [y_val_arr[i, :, :]for i in range(NUM_LABELS)]"
   ]
  },
  {
   "cell_type": "code",
   "execution_count": 5,
   "metadata": {},
   "outputs": [
    {
     "data": {
      "text/plain": [
       "(2026, 200, 200, 1)"
      ]
     },
     "execution_count": 5,
     "metadata": {},
     "output_type": "execute_result"
    }
   ],
   "source": [
    "X_val.shape"
   ]
  },
  {
   "cell_type": "code",
   "execution_count": 7,
   "metadata": {},
   "outputs": [
    {
     "data": {
      "text/plain": [
       "(2026, 114)"
      ]
     },
     "execution_count": 7,
     "metadata": {},
     "output_type": "execute_result"
    }
   ],
   "source": [
    "y_val[0].shape"
   ]
  },
  {
   "cell_type": "code",
   "execution_count": 8,
   "metadata": {},
   "outputs": [],
   "source": [
    "# Get test data\n",
    "test_sample_X = X_val[:4, :, :, :]\n",
    "test_sample_y = [y_val[i][:4, :] for i in range(NUM_LABELS)]"
   ]
  },
  {
   "cell_type": "code",
   "execution_count": null,
   "metadata": {},
   "outputs": [],
   "source": [
    "# Get model prediction\n",
    "pred_y = model.predict(test_sample_X)"
   ]
  },
  {
   "cell_type": "code",
   "execution_count": 12,
   "metadata": {},
   "outputs": [
    {
     "data": {
      "text/plain": [
       "(4, 114)"
      ]
     },
     "execution_count": 12,
     "metadata": {},
     "output_type": "execute_result"
    }
   ],
   "source": [
    "pred_y[0].shape"
   ]
  },
  {
   "cell_type": "code",
   "execution_count": 21,
   "metadata": {},
   "outputs": [],
   "source": [
    "def one_hot_to_angle(one_hot_arr, bins_edge):\n",
    "    \"\"\"\n",
    "    Decode one hot encoded vector to get angle\n",
    "    \n",
    "    Input:\n",
    "        one_hot_arr (np.ndarray): shape (1, NUM_CLASSES)\n",
    "        bins_edge (np.ndarray): shape (1, NUM_CLASSES + 1)\n",
    "    \"\"\"\n",
    "    angle_id = np.argmax(one_hot_arr)\n",
    "    if angle_id < NUM_CLASSES:\n",
    "        return (bins_edge[angle_id] + bins_edge[angle_id + 1]) / 2.\n",
    "    else:\n",
    "        return bins_edge[angle_id]"
   ]
  },
  {
   "cell_type": "code",
   "execution_count": 17,
   "metadata": {},
   "outputs": [
    {
     "data": {
      "text/plain": [
       "-0.008726713266634212"
      ]
     },
     "execution_count": 17,
     "metadata": {},
     "output_type": "execute_result"
    }
   ],
   "source": [
    "one_hot_to_angle(pred_y[0][-1, :], bins_edge=BINS_EDGE)"
   ]
  },
  {
   "cell_type": "code",
   "execution_count": 23,
   "metadata": {},
   "outputs": [],
   "source": [
    "def steering_angle_to_next_pos(angle, arc_length=2.0):\n",
    "    \"\"\"\n",
    "    Calculate next position in the body frame of the current image frame\n",
    "        Input:\n",
    "            angle (float): steering angle in radian\n",
    "    \"\"\"\n",
    "    if np.absolute(angle) < 1e-5:\n",
    "        next_y = 0\n",
    "        next_x = arc_length\n",
    "    else:\n",
    "        R = arc_length / angle\n",
    "        next_y = R * (1 - np.cos(angle))\n",
    "        next_x = R * np.sin(angle)\n",
    "    return np.array([next_x, next_y])\n",
    "        "
   ]
  },
  {
   "cell_type": "code",
   "execution_count": 32,
   "metadata": {},
   "outputs": [
    {
     "data": {
      "image/png": "[encoded data removed]",
      "text/plain": [
       "<Figure size 432x288 with 3 Axes>"
      ]
     },
     "metadata": {
      "needs_background": "light"
     },
     "output_type": "display_data"
    }
   ],
   "source": [
    "disp_idx = -1\n",
    "\n",
    "# Decode pred_y to get a sequence of steering angle\n",
    "pred_sequence = [one_hot_to_angle(pred_y[i][disp_idx, :], BINS_EDGE) for i in range(NUM_LABELS)]\n",
    "\n",
    "# Interpret pred_sequence to way_pts\n",
    "way_pts = np.zeros((6, 2))\n",
    "for i, angle in enumerate(pred_sequence):\n",
    "    next_pos = steering_angle_to_next_pos(angle)\n",
    "    way_pts[i + 1, :] = way_pts[i, :] + next_pos \n",
    "\n",
    "# smoothen waypts (just for display purpose)\n",
    "way_pts_y = savgol_filter(way_pts[:, 1], 5, 3)\n",
    "\n",
    "# Get real value of sequence of steering angle\n",
    "real_sequence = [one_hot_to_angle(test_sample_y[i][disp_idx, :], BINS_EDGE) for i in range(NUM_LABELS)]\n",
    "\n",
    "# Display\n",
    "plt.subplot(131)\n",
    "plt.imshow(test_sample_X[disp_idx, :, :, 0], cmap='gray')\n",
    "plt.subplot(132)\n",
    "plt.plot(real_sequence, 'b--', label='true')\n",
    "plt.plot(pred_sequence, 'r-*', label='pred')\n",
    "plt.legend()\n",
    "plt.subplot(133)\n",
    "plt.plot(way_pts_y, way_pts[:, 0])\n",
    "plt.show()"
   ]
  },
  {
   "cell_type": "markdown",
   "metadata": {},
   "source": [
    "# TODO Generate driving video"
   ]
  },
  {
   "cell_type": "code",
   "execution_count": 33,
   "metadata": {},
   "outputs": [],
   "source": [
    "from os import walk\n",
    "\n",
    "file_name_list = []\n",
    "for (dirpath, dirnames, filenames) in walk(\"/home/user/Bureau/Dataset/udacity/Ch2_001/center\"):\n",
    "    file_name_list.extend(filenames)\n",
    "    break\n",
    "file_name_list.sort()"
   ]
  },
  {
   "cell_type": "code",
   "execution_count": 34,
   "metadata": {},
   "outputs": [],
   "source": [
    "TEST_IMG_DIR = \"/home/user/Bureau/Dataset/udacity/Ch2_001/center/\"\n",
    "# Read all image in test folder & store in .npy file\n",
    "X_test = np.zeros((len(file_name_list), 200, 200, 1))\n",
    "\n",
    "for i, file_name in enumerate(file_name_list):\n",
    "    # read image\n",
    "    img = cv.imread(TEST_IMG_DIR + file_name, 0)\n",
    "    # resize & reshape image\n",
    "    img = np.float32(cv.resize(img, (200, 200), interpolation=cv.INTER_AREA))\n",
    "    if len(img.shape) == 2:\n",
    "        img = img.reshape((200, 200, 1))\n",
    "    X_test[i, :, :, :] = img"
   ]
  },
  {
   "cell_type": "code",
   "execution_count": 35,
   "metadata": {},
   "outputs": [
    {
     "data": {
      "text/plain": [
       "(5614, 200, 200, 1)"
      ]
     },
     "execution_count": 35,
     "metadata": {},
     "output_type": "execute_result"
    }
   ],
   "source": [
    "X_test.shape"
   ]
  },
  {
   "cell_type": "code",
   "execution_count": 36,
   "metadata": {},
   "outputs": [
    {
     "name": "stdout",
     "output_type": "stream",
     "text": [
      "5614/5614 [==============================] - 6s 981us/step\n"
     ]
    }
   ],
   "source": [
    "y_hat = model.predict(X_test, verbose=1)"
   ]
  },
  {
   "cell_type": "code",
   "execution_count": 37,
   "metadata": {},
   "outputs": [
    {
     "data": {
      "text/plain": [
       "list"
      ]
     },
     "execution_count": 37,
     "metadata": {},
     "output_type": "execute_result"
    }
   ],
   "source": [
    "type(y_hat)"
   ]
  },
  {
   "cell_type": "code",
   "execution_count": 38,
   "metadata": {},
   "outputs": [
    {
     "data": {
      "text/plain": [
       "(5614, 114)"
      ]
     },
     "execution_count": 38,
     "metadata": {},
     "output_type": "execute_result"
    }
   ],
   "source": [
    "y_hat[0].shape"
   ]
  },
  {
   "cell_type": "code",
   "execution_count": 39,
   "metadata": {},
   "outputs": [],
   "source": [
    "np.save(\"./s1p10_data/CH2_001_s1p10_y_hat.npy\", y_hat)"
   ]
  },
  {
   "cell_type": "code",
   "execution_count": null,
   "metadata": {},
   "outputs": [],
   "source": []
  }
 ],
 "metadata": {
  "kernelspec": {
   "display_name": "Python 3",
   "language": "python",
   "name": "python3"
  },
  "language_info": {
   "codemirror_mode": {
    "name": "ipython",
    "version": 3
   },
   "file_extension": ".py",
   "mimetype": "text/x-python",
   "name": "python",
   "nbconvert_exporter": "python",
   "pygments_lexer": "ipython3",
   "version": "3.6.6"
  }
 },
 "nbformat": 4,
 "nbformat_minor": 2
}
