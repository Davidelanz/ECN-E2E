{
 "cells": [
  {
   "cell_type": "code",
   "execution_count": 30,
   "metadata": {},
   "outputs": [],
   "source": [
    "from keras.models import model_from_json\n",
    "from s1p10_training_utils import gen_regressor_dataset\n",
    "import numpy as np\n",
    "import matplotlib.pyplot as plt\n",
    "from scipy.signal import savgol_filter"
   ]
  },
  {
   "cell_type": "markdown",
   "metadata": {},
   "source": [
    "# Load Model"
   ]
  },
  {
   "cell_type": "code",
   "execution_count": 2,
   "metadata": {},
   "outputs": [
    {
     "name": "stdout",
     "output_type": "stream",
     "text": [
      "WARNING:tensorflow:From /home/user/venv/lib/python3.6/site-packages/tensorflow/python/framework/op_def_library.py:263: colocate_with (from tensorflow.python.framework.ops) is deprecated and will be removed in a future version.\n",
      "Instructions for updating:\n",
      "Colocations handled automatically by placer.\n",
      "WARNING:tensorflow:From /home/user/venv/lib/python3.6/site-packages/tensorflow/python/training/moving_averages.py:210: calling Zeros.__init__ (from tensorflow.python.ops.init_ops) with dtype is deprecated and will be removed in a future version.\n",
      "Instructions for updating:\n",
      "Call initializer instance with the dtype argument instead of passing it to the constructor\n",
      "WARNING:tensorflow:From /home/user/venv/lib/python3.6/site-packages/keras/backend/tensorflow_backend.py:3445: calling dropout (from tensorflow.python.ops.nn_ops) with keep_prob is deprecated and will be removed in a future version.\n",
      "Instructions for updating:\n",
      "Please use `rate` instead of `keep_prob`. Rate should be set to `rate = 1 - keep_prob`.\n",
      "Loaded model from disk\n",
      "_________________________________________________________________\n",
      "Layer (type)                 Output Shape              Param #   \n",
      "=================================================================\n",
      "image_in (InputLayer)        (None, 200, 200, 1)       0         \n",
      "_________________________________________________________________\n",
      "resnet8 (Model)              (None, 6272)              309088    \n",
      "_________________________________________________________________\n",
      "regressor (Model)            (None, 5)                 8369405   \n",
      "=================================================================\n",
      "Total params: 8,678,493\n",
      "Trainable params: 8,369,405\n",
      "Non-trainable params: 309,088\n",
      "_________________________________________________________________\n"
     ]
    }
   ],
   "source": [
    "MODEL_DIR = \"./s1p10_model/\"\n",
    "\n",
    "# load json and create model\n",
    "with open(MODEL_DIR + \"s1p10_noLSTM_model_2019_05_29_16_20.json\", 'r') as json_file:\n",
    "    loaded_model_json = json_file.read()\n",
    "\n",
    "model = model_from_json(loaded_model_json)\n",
    "\n",
    "# load weights into new model\n",
    "model.load_weights(MODEL_DIR + \"s1p10_noLSTM_model_2019_05_29_16_20.h5\")\n",
    "print(\"Loaded model from disk\")\n",
    "\n",
    "model.summary()"
   ]
  },
  {
   "cell_type": "markdown",
   "metadata": {},
   "source": [
    "# Load Validation Dataset"
   ]
  },
  {
   "cell_type": "code",
   "execution_count": 5,
   "metadata": {},
   "outputs": [
    {
     "name": "stderr",
     "output_type": "stream",
     "text": [
      "                                                    \r"
     ]
    }
   ],
   "source": [
    "gen_param = {'num_labels': 5, \n",
    "             'image_shape': (200, 200, 1), \n",
    "             'num_samples': None, \n",
    "             'data_root_dir': \"/home/user/Bureau/Dataset/udacity/\", \n",
    "             'flip_prob': 0.5}\n",
    "X_val, y_val = gen_regressor_dataset(\"./s1p10_data/s1p10_CH2_002_output_validation.csv\", **gen_param)"
   ]
  },
  {
   "cell_type": "code",
   "execution_count": 6,
   "metadata": {},
   "outputs": [
    {
     "data": {
      "text/plain": [
       "(2026, 200, 200, 1)"
      ]
     },
     "execution_count": 6,
     "metadata": {},
     "output_type": "execute_result"
    }
   ],
   "source": [
    "X_val.shape"
   ]
  },
  {
   "cell_type": "code",
   "execution_count": 7,
   "metadata": {},
   "outputs": [
    {
     "data": {
      "text/plain": [
       "(2026, 5)"
      ]
     },
     "execution_count": 7,
     "metadata": {},
     "output_type": "execute_result"
    }
   ],
   "source": [
    "y_val.shape"
   ]
  },
  {
   "cell_type": "code",
   "execution_count": 9,
   "metadata": {},
   "outputs": [],
   "source": [
    "# Get test data\n",
    "test_sample_X = X_val[:4, :, :, :]\n",
    "test_sample_y = y_val[:4, :]"
   ]
  },
  {
   "cell_type": "code",
   "execution_count": 11,
   "metadata": {},
   "outputs": [
    {
     "data": {
      "text/plain": [
       "array([[ 6.1549549e-04,  1.2898331e-03,  7.5835153e-05,  8.0024998e-04,\n",
       "        -8.3582301e-04],\n",
       "       [ 6.1549549e-04,  1.2898331e-03,  7.5835153e-05,  8.0024998e-04,\n",
       "        -8.3582301e-04],\n",
       "       [ 6.1549549e-04,  1.2898331e-03,  7.5835153e-05,  8.0024998e-04,\n",
       "        -8.3582301e-04],\n",
       "       [ 6.1549549e-04,  1.2898331e-03,  7.5835153e-05,  8.0024998e-04,\n",
       "        -8.3582301e-04]], dtype=float32)"
      ]
     },
     "execution_count": 11,
     "metadata": {},
     "output_type": "execute_result"
    }
   ],
   "source": [
    "# Get model prediction\n",
    "pred_y = model.predict(test_sample_X)\n",
    "\n",
    "pred_y"
   ]
  },
  {
   "cell_type": "code",
   "execution_count": 22,
   "metadata": {},
   "outputs": [],
   "source": [
    "def steering_angle_to_next_pos(angle, arc_length=2.0):\n",
    "    \"\"\"\n",
    "    Calculate next position in the body frame of the current image frame\n",
    "        Input:\n",
    "            angle (float): steering angle in radian\n",
    "    \"\"\"\n",
    "    if np.absolute(angle) < 1e-5:\n",
    "        next_y = 0\n",
    "        next_x = arc_length\n",
    "    else:\n",
    "        R = arc_length / angle\n",
    "        next_y = R * (1 - np.cos(angle))\n",
    "        next_x = R * np.sin(angle)\n",
    "    return np.array([next_x, next_y])\n",
    "        "
   ]
  },
  {
   "cell_type": "code",
   "execution_count": 44,
   "metadata": {},
   "outputs": [
    {
     "data": {
      "image/png": "[encoded data removed]",
      "text/plain": [
       "<Figure size 432x288 with 3 Axes>"
      ]
     },
     "metadata": {
      "needs_background": "light"
     },
     "output_type": "display_data"
    }
   ],
   "source": [
    "disp_idx = 2\n",
    "\n",
    "# Calculate position along the whole sequence of prediction\n",
    "pred_seq = pred_y[disp_idx, :]\n",
    "way_pts = np.zeros((6, 2))\n",
    "for i, angle in enumerate(pred_seq):\n",
    "    next_pos = steering_angle_to_next_pos(angle)\n",
    "    way_pts[i + 1, :] = way_pts[i, :] + next_pos \n",
    "# print(way_pts)\n",
    "\n",
    "# smoothen waypts (just for display purpose)\n",
    "way_pts_y = savgol_filter(way_pts[:, 1], 5, 3)\n",
    "\n",
    "# Display\n",
    "plt.subplot(131)\n",
    "plt.imshow(test_sample_X[disp_idx, :, :, 0], cmap='gray')\n",
    "plt.subplot(132)\n",
    "plt.plot(test_sample_y[disp_idx, :], 'b-*', label='true')\n",
    "plt.plot(pred_y[disp_idx, :], 'r-*', label='pred')\n",
    "plt.legend()\n",
    "plt.subplot(133)\n",
    "plt.plot(-way_pts_y, way_pts[:, 0])\n",
    "plt.show()"
   ]
  },
  {
   "cell_type": "markdown",
   "metadata": {},
   "source": [
    "# TODO Generate driving video"
   ]
  },
  {
   "cell_type": "code",
   "execution_count": null,
   "metadata": {},
   "outputs": [],
   "source": []
  }
 ],
 "metadata": {
  "kernelspec": {
   "display_name": "Python 3",
   "language": "python",
   "name": "python3"
  },
  "language_info": {
   "codemirror_mode": {
    "name": "ipython",
    "version": 3
   },
   "file_extension": ".py",
   "mimetype": "text/x-python",
   "name": "python",
   "nbconvert_exporter": "python",
   "pygments_lexer": "ipython3",
   "version": "3.6.6"
  }
 },
 "nbformat": 4,
 "nbformat_minor": 2
}
