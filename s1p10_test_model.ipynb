{
 "cells": [
  {
   "cell_type": "code",
   "execution_count": 1,
   "metadata": {},
   "outputs": [
    {
     "name": "stderr",
     "output_type": "stream",
     "text": [
      "Using TensorFlow backend.\n"
     ]
    }
   ],
   "source": [
    "from keras.models import model_from_json\n",
    "import keras\n",
    "import numpy as np\n",
    "import matplotlib.pyplot as plt\n",
    "from sklearn.metrics import explained_variance_score"
   ]
  },
  {
   "cell_type": "markdown",
   "metadata": {},
   "source": [
    "# Load Model"
   ]
  },
  {
   "cell_type": "code",
   "execution_count": 2,
   "metadata": {},
   "outputs": [
    {
     "name": "stdout",
     "output_type": "stream",
     "text": [
      "WARNING:tensorflow:From /home/user/venv/lib/python3.6/site-packages/tensorflow/python/framework/op_def_library.py:263: colocate_with (from tensorflow.python.framework.ops) is deprecated and will be removed in a future version.\n",
      "Instructions for updating:\n",
      "Colocations handled automatically by placer.\n",
      "WARNING:tensorflow:From /home/user/venv/lib/python3.6/site-packages/tensorflow/python/training/moving_averages.py:210: calling Zeros.__init__ (from tensorflow.python.ops.init_ops) with dtype is deprecated and will be removed in a future version.\n",
      "Instructions for updating:\n",
      "Call initializer instance with the dtype argument instead of passing it to the constructor\n",
      "WARNING:tensorflow:From /home/user/venv/lib/python3.6/site-packages/keras/backend/tensorflow_backend.py:3445: calling dropout (from tensorflow.python.ops.nn_ops) with keep_prob is deprecated and will be removed in a future version.\n",
      "Instructions for updating:\n",
      "Please use `rate` instead of `keep_prob`. Rate should be set to `rate = 1 - keep_prob`.\n",
      "Loaded model from disk\n",
      "__________________________________________________________________________________________________\n",
      "Layer (type)                    Output Shape         Param #     Connected to                     \n",
      "==================================================================================================\n",
      "image_in (InputLayer)           (None, 200, 200, 1)  0                                            \n",
      "__________________________________________________________________________________________________\n",
      "resnet8 (Model)                 (None, 6272)         309088      image_in[0][0]                   \n",
      "__________________________________________________________________________________________________\n",
      "dropout_1 (Dropout)             (None, 6272)         0           resnet8[1][0]                    \n",
      "__________________________________________________________________________________________________\n",
      "dense_1 (Dense)                 (None, 800)          5018400     dropout_1[0][0]                  \n",
      "__________________________________________________________________________________________________\n",
      "head_0 (Dense)                  (None, 114)          91314       dense_1[0][0]                    \n",
      "__________________________________________________________________________________________________\n",
      "head_1 (Dense)                  (None, 114)          91314       dense_1[0][0]                    \n",
      "__________________________________________________________________________________________________\n",
      "head_2 (Dense)                  (None, 114)          91314       dense_1[0][0]                    \n",
      "__________________________________________________________________________________________________\n",
      "head_3 (Dense)                  (None, 114)          91314       dense_1[0][0]                    \n",
      "__________________________________________________________________________________________________\n",
      "head_4 (Dense)                  (None, 114)          91314       dense_1[0][0]                    \n",
      "==================================================================================================\n",
      "Total params: 5,784,058\n",
      "Trainable params: 5,783,354\n",
      "Non-trainable params: 704\n",
      "__________________________________________________________________________________________________\n"
     ]
    }
   ],
   "source": [
    "MODEL_DIR = \"./s1p10_logs/2019_05_30_21_41/\"\n",
    "MODEL_NAME = \"s1p10_model_2019_05_30_21_41\"\n",
    "# load json and create model\n",
    "with open(MODEL_DIR + \"%s.json\" % MODEL_NAME, 'r') as json_file:\n",
    "    loaded_model_json = json_file.read()\n",
    "\n",
    "model = model_from_json(loaded_model_json)\n",
    "\n",
    "# load weights into new model\n",
    "model.load_weights(MODEL_DIR + \"%s.h5\" % MODEL_NAME)\n",
    "print(\"Loaded model from disk\")\n",
    "\n",
    "model.summary()"
   ]
  },
  {
   "cell_type": "code",
   "execution_count": 3,
   "metadata": {},
   "outputs": [],
   "source": [
    "IMAGE_SHAPE = (200, 200, 1)\n",
    "NUM_LABELS = 5\n",
    "BINS_EDGE = np.load(\"./s1p10_data/s1p10_bins_edge.npy\")\n",
    "NUM_CLASSES = len(BINS_EDGE) - 1  "
   ]
  },
  {
   "cell_type": "markdown",
   "metadata": {},
   "source": [
    "# Load Validation Dataset & Get Model Prediction"
   ]
  },
  {
   "cell_type": "code",
   "execution_count": 4,
   "metadata": {},
   "outputs": [],
   "source": [
    "# X_val, y_val = gen_classifier_dataset(\"./s1p10_data/s1p10_CH2_002_output_validation.csv\", **gen_param)\n",
    "X_val = np.load('./s1p10_data/CH2_validation_X.npy')\n",
    "y_val_arr = np.load('./s1p10_data/CH2_validation_y.npy')\n",
    "y_val = [y_val_arr[i, :, :]for i in range(NUM_LABELS)]"
   ]
  },
  {
   "cell_type": "code",
   "execution_count": 5,
   "metadata": {},
   "outputs": [
    {
     "data": {
      "text/plain": [
       "(2026, 200, 200, 1)"
      ]
     },
     "execution_count": 5,
     "metadata": {},
     "output_type": "execute_result"
    }
   ],
   "source": [
    "X_val.shape"
   ]
  },
  {
   "cell_type": "code",
   "execution_count": 6,
   "metadata": {},
   "outputs": [
    {
     "data": {
      "text/plain": [
       "(2026, 114)"
      ]
     },
     "execution_count": 6,
     "metadata": {},
     "output_type": "execute_result"
    }
   ],
   "source": [
    "y_val[0].shape"
   ]
  },
  {
   "cell_type": "code",
   "execution_count": 7,
   "metadata": {},
   "outputs": [
    {
     "name": "stdout",
     "output_type": "stream",
     "text": [
      "2026/2026 [==============================] - 2s 1ms/step\n"
     ]
    }
   ],
   "source": [
    "# Get model prediction\n",
    "y_hat = model.predict(X_val, verbose=1)"
   ]
  },
  {
   "cell_type": "code",
   "execution_count": 8,
   "metadata": {},
   "outputs": [
    {
     "data": {
      "text/plain": [
       "(2026, 114)"
      ]
     },
     "execution_count": 8,
     "metadata": {},
     "output_type": "execute_result"
    }
   ],
   "source": [
    "y_hat[0].shape"
   ]
  },
  {
   "cell_type": "markdown",
   "metadata": {},
   "source": [
    "# 2. Model Performance\n",
    "## 2.1 Metrics \n",
    "Two metrics are used to access model peformance\n",
    "* **Root Mean Square Error**\n",
    "* **Exaplained Variance Score**"
   ]
  },
  {
   "cell_type": "code",
   "execution_count": 9,
   "metadata": {},
   "outputs": [],
   "source": [
    "def one_hot_to_angle(one_hot_arr):\n",
    "    \"\"\"\n",
    "    Decode 1 one hot encoded vector to get angle\n",
    "    \n",
    "    Input:\n",
    "        one_hot_arr (np.ndarray): shape (1, NUM_CLASSES)\n",
    "        bins_edge (np.ndarray): shape (1, NUM_CLASSES + 1)\n",
    "    \"\"\"\n",
    "    angle_id = np.argmax(one_hot_arr)\n",
    "    if angle_id < NUM_CLASSES:\n",
    "        return (BINS_EDGE[angle_id] + BINS_EDGE[angle_id + 1]) / 2.\n",
    "    else:\n",
    "        return BINS_EDGE[angle_id]\n",
    "\n",
    "def id_to_angle(one_hot_arr):\n",
    "    \"\"\"\n",
    "    Decode a matrix of one_hot vector (each vector is a row)\n",
    "    \"\"\"\n",
    "    angels = np.zeros(one_hot_arr.shape[0])\n",
    "    for i in range(len(angels)):\n",
    "        angels[i] = one_hot_to_angle(one_hot_arr[i, :])\n",
    "    return angels"
   ]
  },
  {
   "cell_type": "code",
   "execution_count": 10,
   "metadata": {},
   "outputs": [],
   "source": [
    "def root_mean_squared_error(y, y_hat):\n",
    "    return np.sqrt(np.mean(np.square(y_hat - y)))"
   ]
  },
  {
   "cell_type": "code",
   "execution_count": 11,
   "metadata": {},
   "outputs": [],
   "source": [
    "rmse_seq = []\n",
    "eva_seq = []\n",
    "for i in range(NUM_LABELS):\n",
    "    # Get first angle ID in the sequence\n",
    "    y_id = y_val[i]\n",
    "    y_hat_id = y_hat[i]\n",
    "\n",
    "    # Convert angle ID to angle value\n",
    "    y_value = id_to_angle(y_id)\n",
    "    y_hat_value = id_to_angle(y_hat_id)\n",
    "    \n",
    "    # calculate RMSE\n",
    "    rmse_seq.append(root_mean_squared_error(y_value, y_hat_value))\n",
    "    eva_seq.append(explained_variance_score(y_value, y_hat_value))"
   ]
  },
  {
   "cell_type": "markdown",
   "metadata": {},
   "source": [
    "### Baseline from DroNet paper:\n",
    "**RMSE: 0.109**\n",
    "\n",
    "**EVA: 0.737**"
   ]
  },
  {
   "cell_type": "code",
   "execution_count": 12,
   "metadata": {},
   "outputs": [
    {
     "name": "stdout",
     "output_type": "stream",
     "text": [
      "\t\t RMSE \t\t EVA\n",
      "Pred 0: \t 0.1198 \t 0.8264\n",
      "Pred 1: \t 0.1414 \t 0.7589\n",
      "Pred 2: \t 0.1348 \t 0.7756\n",
      "Pred 3: \t 0.1217 \t 0.8145\n",
      "Pred 4: \t 0.1359 \t 0.7637\n"
     ]
    }
   ],
   "source": [
    "print(\"\\t\\t RMSE \\t\\t EVA\")\n",
    "for i in range(NUM_LABELS):\n",
    "    print(\"Pred %d: \\t %.4f \\t %.4f\" % (i, rmse_seq[i], eva_seq[i]))"
   ]
  },
  {
   "cell_type": "markdown",
   "metadata": {},
   "source": [
    "## 2.2 Angle ID distribution"
   ]
  },
  {
   "cell_type": "code",
   "execution_count": 30,
   "metadata": {
    "scrolled": false
   },
   "outputs": [
    {
     "data": {
      "image/png": "[encoded data removed]",
      "text/plain": [
       "<Figure size 720x720 with 5 Axes>"
      ]
     },
     "metadata": {
      "needs_background": "light"
     },
     "output_type": "display_data"
    }
   ],
   "source": [
    "# convert y_val to ID\n",
    "y_val_id_list = [np.argmax(y_val[j], axis=1) for j in range(NUM_LABELS)]\n",
    "y_hat_id_list = [np.argmax(y_hat[j], axis=1) for j in range(NUM_LABELS)]\n",
    "\n",
    "# Plot angel ID histogram for each prediciton in the sequence\n",
    "plt.figure(figsize=(10, 10))\n",
    "plt.subplot(231)\n",
    "plt.hist(y_val_id_list[0], bins=NUM_CLASSES, label=\"true\")\n",
    "plt.hist(y_hat_id_list[0], bins=NUM_CLASSES, label=\"predict\")\n",
    "plt.title(\"1st angle\")\n",
    "plt.legend(loc='upper right')\n",
    "\n",
    "plt.subplot(232)\n",
    "plt.hist(y_val_id_list[1], bins=NUM_CLASSES, label=\"true\")\n",
    "plt.hist(y_hat_id_list[1], bins=NUM_CLASSES, label=\"predict\")\n",
    "plt.title(\"2nd angle\")\n",
    "plt.legend(loc='upper right')\n",
    "\n",
    "plt.subplot(233)\n",
    "plt.hist(y_val_id_list[2], bins=NUM_CLASSES, label=\"true\")\n",
    "plt.hist(y_hat_id_list[2], bins=NUM_CLASSES, label=\"predict\")\n",
    "plt.title(\"3rd angle\")\n",
    "plt.legend(loc='upper right')\n",
    "\n",
    "plt.subplot(234)\n",
    "plt.hist(y_val_id_list[3], bins=NUM_CLASSES, label=\"true\")\n",
    "plt.hist(y_hat_id_list[3], bins=NUM_CLASSES, label=\"predict\")\n",
    "plt.title(\"4th angle\")\n",
    "plt.legend(loc='upper right')\n",
    "\n",
    "plt.subplot(235)\n",
    "plt.hist(y_val_id_list[4], bins=NUM_CLASSES, label=\"true\")\n",
    "plt.hist(y_hat_id_list[4], bins=NUM_CLASSES, label=\"predict\")\n",
    "plt.title(\"5th angle\")\n",
    "plt.legend(loc='upper right')\n",
    "\n",
    "\n",
    "plt.show()"
   ]
  },
  {
   "cell_type": "code",
   "execution_count": null,
   "metadata": {},
   "outputs": [],
   "source": []
  }
 ],
 "metadata": {
  "kernelspec": {
   "display_name": "Python 3",
   "language": "python",
   "name": "python3"
  },
  "language_info": {
   "codemirror_mode": {
    "name": "ipython",
    "version": 3
   },
   "file_extension": ".py",
   "mimetype": "text/x-python",
   "name": "python",
   "nbconvert_exporter": "python",
   "pygments_lexer": "ipython3",
   "version": "3.6.6"
  }
 },
 "nbformat": 4,
 "nbformat_minor": 2
}
