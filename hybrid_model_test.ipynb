{
 "cells": [
  {
   "cell_type": "code",
   "execution_count": 2,
   "metadata": {},
   "outputs": [
    {
     "name": "stderr",
     "output_type": "stream",
     "text": [
      "Using TensorFlow backend.\n"
     ]
    }
   ],
   "source": [
    "from keras.models import model_from_json\n",
    "\n",
    "import numpy as np\n",
    "import pandas as pd\n",
    "import cv2 as cv\n",
    "import matplotlib.pyplot as plt"
   ]
  },
  {
   "cell_type": "code",
   "execution_count": 3,
   "metadata": {},
   "outputs": [],
   "source": [
    "def load_model(model_name):\n",
    "    \"\"\"\n",
    "    Load model strucutre from json file & weights from h5 file\n",
    "    \n",
    "    Input:\n",
    "        model_name (str): modelName_MonthDAY\n",
    "    \n",
    "    Output\n",
    "        keras Model object\n",
    "    \"\"\"\n",
    "    # load model structure\n",
    "    with open('./model/%s.json' % model_name, 'r') as json_file:\n",
    "        json_model = json_file.read()\n",
    "    model = model_from_json(json_model)\n",
    "    \n",
    "    # load model weights\n",
    "    model.load_weights('./model/%s.h5' % model_name)\n",
    "    \n",
    "    return model    "
   ]
  },
  {
   "cell_type": "markdown",
   "metadata": {},
   "source": [
    "___\n",
    "\n",
    "# Separate Encoder-decoder Model"
   ]
  },
  {
   "cell_type": "code",
   "execution_count": 3,
   "metadata": {
    "scrolled": true
   },
   "outputs": [
    {
     "name": "stdout",
     "output_type": "stream",
     "text": [
      "WARNING:tensorflow:From /home/user/venv/lib/python3.6/site-packages/tensorflow/python/framework/op_def_library.py:263: colocate_with (from tensorflow.python.framework.ops) is deprecated and will be removed in a future version.\n",
      "Instructions for updating:\n",
      "Colocations handled automatically by placer.\n",
      "_________________________________________________________________\n",
      "Layer (type)                 Output Shape              Param #   \n",
      "=================================================================\n",
      "lambda_1 (Lambda)            (None, 64, 64, 1)         0         \n",
      "_________________________________________________________________\n",
      "conv2d_1 (Conv2D)            (None, 32, 32, 24)        624       \n",
      "_________________________________________________________________\n",
      "activation_1 (Activation)    (None, 32, 32, 24)        0         \n",
      "_________________________________________________________________\n",
      "max_pooling2d_1 (MaxPooling2 (None, 31, 31, 24)        0         \n",
      "_________________________________________________________________\n",
      "conv2d_2 (Conv2D)            (None, 16, 16, 36)        21636     \n",
      "_________________________________________________________________\n",
      "activation_2 (Activation)    (None, 16, 16, 36)        0         \n",
      "_________________________________________________________________\n",
      "max_pooling2d_2 (MaxPooling2 (None, 15, 15, 36)        0         \n",
      "_________________________________________________________________\n",
      "conv2d_3 (Conv2D)            (None, 8, 8, 48)          43248     \n",
      "_________________________________________________________________\n",
      "activation_3 (Activation)    (None, 8, 8, 48)          0         \n",
      "_________________________________________________________________\n",
      "max_pooling2d_3 (MaxPooling2 (None, 7, 7, 48)          0         \n",
      "_________________________________________________________________\n",
      "conv2d_4 (Conv2D)            (None, 7, 7, 64)          27712     \n",
      "_________________________________________________________________\n",
      "activation_4 (Activation)    (None, 7, 7, 64)          0         \n",
      "_________________________________________________________________\n",
      "max_pooling2d_4 (MaxPooling2 (None, 6, 6, 64)          0         \n",
      "_________________________________________________________________\n",
      "conv2d_5 (Conv2D)            (None, 6, 6, 64)          36928     \n",
      "_________________________________________________________________\n",
      "activation_5 (Activation)    (None, 6, 6, 64)          0         \n",
      "_________________________________________________________________\n",
      "max_pooling2d_5 (MaxPooling2 (None, 5, 5, 64)          0         \n",
      "_________________________________________________________________\n",
      "flatten_1 (Flatten)          (None, 1600)              0         \n",
      "=================================================================\n",
      "Total params: 130,148\n",
      "Trainable params: 0\n",
      "Non-trainable params: 130,148\n",
      "_________________________________________________________________\n"
     ]
    }
   ],
   "source": [
    "# Load encoder\n",
    "encoder = load_model(\"encoder_NVIDIA\")\n",
    "encoder.summary()"
   ]
  },
  {
   "cell_type": "code",
   "execution_count": 4,
   "metadata": {},
   "outputs": [
    {
     "name": "stdout",
     "output_type": "stream",
     "text": [
      "[[0.02454593 0.02924812 0.         ... 0.02385598 0.11789171 0.04150147]]\n",
      "(1, 1600)\n"
     ]
    }
   ],
   "source": [
    "# This is needed to add encoder to computation graph\n",
    "_X = np.random.randn(1, 64, 64, 1)\n",
    "_y = encoder.predict(_X)\n",
    "print(_y)\n",
    "print(_y.shape)"
   ]
  },
  {
   "cell_type": "code",
   "execution_count": 5,
   "metadata": {},
   "outputs": [
    {
     "name": "stdout",
     "output_type": "stream",
     "text": [
      "_________________________________________________________________\n",
      "Layer (type)                 Output Shape              Param #   \n",
      "=================================================================\n",
      "input_4 (InputLayer)         (None, 4800)              0         \n",
      "_________________________________________________________________\n",
      "dec_nvi_dense3_1 (Dense)     (None, 500)               2400500   \n",
      "_________________________________________________________________\n",
      "dec_nvi_dense3_2 (Dense)     (None, 200)               100200    \n",
      "_________________________________________________________________\n",
      "dec_nvi_dense3_3 (Dense)     (None, 25)                5025      \n",
      "=================================================================\n",
      "Total params: 2,505,725\n",
      "Trainable params: 2,505,725\n",
      "Non-trainable params: 0\n",
      "_________________________________________________________________\n"
     ]
    }
   ],
   "source": [
    "# Load decoder\n",
    "decoder = load_model(\"decoder_NVIDIA_MAY14_MAE_3Dense_ext\")\n",
    "decoder.summary()"
   ]
  },
  {
   "cell_type": "code",
   "execution_count": 7,
   "metadata": {},
   "outputs": [
    {
     "name": "stdout",
     "output_type": "stream",
     "text": [
      "[[ 0.14338385 -0.45271778  0.03721596 -0.43878222 -0.24771687 -0.06755146\n",
      "  -0.32807228 -0.6574745  -0.01113721  0.5697291  -0.46894905 -0.15144742\n",
      "   0.930745    0.61904675  0.38943106  0.6889361  -0.53225505  0.24816085\n",
      "  -0.32679385 -1.1576396   0.24771456  0.13617569  0.10474768 -0.13571224\n",
      "  -0.10556354]]\n",
      "(1, 25)\n"
     ]
    }
   ],
   "source": [
    "# This is needed to add decoder to computation graph\n",
    "_X = np.random.randn(1, 3*1600)\n",
    "_y = decoder.predict(_X)\n",
    "print(_y)\n",
    "print(_y.shape)"
   ]
  },
  {
   "cell_type": "markdown",
   "metadata": {},
   "source": [
    "## Define forward pass through encoder to decoder"
   ]
  },
  {
   "cell_type": "code",
   "execution_count": 9,
   "metadata": {},
   "outputs": [],
   "source": [
    "def forward_pass(imgs_name_list):\n",
    "    \"\"\"\n",
    "    Pass 3 images through encoder, then decoder to get 25 steering angles\n",
    "    \n",
    "    Input:\n",
    "        imgs_name_list (list): list of name of input images to encoder\n",
    "        \n",
    "    Output:\n",
    "        (np.ndarray) \n",
    "    \n",
    "    \"\"\"\n",
    "    \n",
    "    assert(len(imgs_name_list)==3)\n",
    "    \n",
    "    img_path_prefix = '/home/user/Bureau/Dataset/udacity/'\n",
    "    \n",
    "    en_X = np.zeros((3, 64, 64, 1))  # initialize input to encoder\n",
    "    \n",
    "    de_X = np.zeros((1, 3*1600))  # initialize input to decoder\n",
    "    \n",
    "    # fill in en_X\n",
    "    for i, name in enumerate(imgs_name_list):\n",
    "        # read image\n",
    "        img = cv.imread(img_path_prefix + name, 0)\n",
    "\n",
    "        # resize & reshape image\n",
    "        img = np.float32(cv.resize(img, (64, 64)))\n",
    "        if len(img.shape) == 2:\n",
    "            img = img.reshape((img.shape[0], img.shape[1], 1))\n",
    "\n",
    "        # add img to input tensor of encoder\n",
    "        en_X[i, :, :, :] = img \n",
    "    \n",
    "    # calculte forward pass of encoder to get input to decoder\n",
    "    de_X = encoder.predict(en_X).reshape(1, -1)\n",
    "    \n",
    "    return decoder.predict(de_X)\n",
    "        "
   ]
  },
  {
   "cell_type": "markdown",
   "metadata": {},
   "source": [
    "___\n",
    "\n",
    "# Full Hybrid Model"
   ]
  },
  {
   "cell_type": "code",
   "execution_count": 11,
   "metadata": {},
   "outputs": [],
   "source": [
    "IMAGE_SHAPE = (52, 265, 3)"
   ]
  },
  {
   "cell_type": "code",
   "execution_count": 5,
   "metadata": {},
   "outputs": [
    {
     "name": "stdout",
     "output_type": "stream",
     "text": [
      "WARNING:tensorflow:From /home/user/venv/lib/python3.6/site-packages/tensorflow/python/framework/op_def_library.py:263: colocate_with (from tensorflow.python.framework.ops) is deprecated and will be removed in a future version.\n",
      "Instructions for updating:\n",
      "Colocations handled automatically by placer.\n",
      "WARNING:tensorflow:From /home/user/venv/lib/python3.6/site-packages/keras/backend/tensorflow_backend.py:3445: calling dropout (from tensorflow.python.ops.nn_ops) with keep_prob is deprecated and will be removed in a future version.\n",
      "Instructions for updating:\n",
      "Please use `rate` instead of `keep_prob`. Rate should be set to `rate = 1 - keep_prob`.\n"
     ]
    }
   ],
   "source": [
    "full_hybrid_model = load_model(\"seed_style_MAY15_MAE_ext_4Dense_cont\")"
   ]
  },
  {
   "cell_type": "code",
   "execution_count": 6,
   "metadata": {},
   "outputs": [],
   "source": [
    "def forward_pass_full_hybrid(imgs_name_list):\n",
    "    \n",
    "    X = [np.zeros((1,) + IMAGE_SHAPE) for i in range(3)]\n",
    "    \n",
    "    img_path_prefix = '/home/user/Bureau/Dataset/udacity/'\n",
    "    \n",
    "    # fill in en_X\n",
    "    for i, name in enumerate(imgs_name_list):\n",
    "        # read image\n",
    "        if IMAGE_SHAPE[-1] == 1:\n",
    "            img = cv.imread(img_path_prefix + name, 0)\n",
    "        else:\n",
    "            img = cv.imread(img_path_prefix + name, 1)\n",
    "\n",
    "        # resize & reshape image\n",
    "        img = np.float32(cv.resize(img, (IMAGE_SHAPE[1], IMAGE_SHAPE[0]), interpolation=cv.INTER_AREA))\n",
    "        if len(img.shape) == 2:\n",
    "            img = img.reshape(IMAGE_SHAPE)\n",
    "\n",
    "        # add img to input tensor of encoder\n",
    "        X[i][0, :, :, :] = img\n",
    "    \n",
    "    return full_hybrid_model.predict(X)\n",
    "    "
   ]
  },
  {
   "cell_type": "markdown",
   "metadata": {},
   "source": [
    "#  Read dataset & prepare test sample"
   ]
  },
  {
   "cell_type": "code",
   "execution_count": 7,
   "metadata": {},
   "outputs": [],
   "source": [
    "df = pd.read_csv('./data/hybrid_validation.csv')"
   ]
  },
  {
   "cell_type": "code",
   "execution_count": 8,
   "metadata": {},
   "outputs": [],
   "source": [
    "def getXy(_df, idx):\n",
    "    \"\"\"\n",
    "    Get images file name & associated steering angle from dataframe\n",
    "    \n",
    "    Input:\n",
    "        df (panda.DataFrame): dataframe containing dataset\n",
    "        idx (int): index of a single row fo df\n",
    "    \n",
    "    Output:\n",
    "        X (list): list of string. Each represents 1 file name\n",
    "        y (np.ndarray): array of associated steering angles \n",
    "    \"\"\"\n",
    "    X = _df.iloc[idx].X[2: -2].split(\"', '\")\n",
    "    y = np.array([float(angle) for angle in _df.iloc[idx].steering_angles[1: -1].split(\", \")])\n",
    "    \n",
    "    return X, y"
   ]
  },
  {
   "cell_type": "markdown",
   "metadata": {},
   "source": [
    "# Display prediction and true label"
   ]
  },
  {
   "cell_type": "code",
   "execution_count": 9,
   "metadata": {},
   "outputs": [],
   "source": [
    "def getPredAndLabel(_df, idx, full_hybrid=False):\n",
    "    \"\"\"\n",
    "    Get the prediction and true value of steering angles\n",
    "    \"\"\"\n",
    "    \n",
    "    # get image file names to make X & associted steering angle y\n",
    "    X, y = getXy(_df, idx)\n",
    "    \n",
    "    # pass X through encoder-decoder model\n",
    "    if not full_hybrid:\n",
    "        y_hat = forward_pass(X)\n",
    "    else:\n",
    "        y_hat = forward_pass_full_hybrid(X)\n",
    "    return y_hat, y\n",
    "    "
   ]
  },
  {
   "cell_type": "code",
   "execution_count": 12,
   "metadata": {},
   "outputs": [
    {
     "data": {
      "image/png": "[encoded data removed]",
      "text/plain": [
       "<Figure size 576x576 with 4 Axes>"
      ]
     },
     "metadata": {
      "needs_background": "light"
     },
     "output_type": "display_data"
    }
   ],
   "source": [
    "y_hat_list = []\n",
    "y_list = []\n",
    "\n",
    "# idx_list = np.random.randint(low=0, high=len(df)-1, size=4)\n",
    "idx_list = [600,  73, 437, 445]\n",
    "\n",
    "for idx in idx_list:\n",
    "    y_hat, y = getPredAndLabel(df, idx, full_hybrid=True)\n",
    "    # store for plotting\n",
    "    y_hat_list.append(y_hat)\n",
    "    y_list.append(y)\n",
    "\n",
    "# Plot\n",
    "plt.figure(figsize=(8, 8))\n",
    "\n",
    "plt.subplot(221)\n",
    "plt.plot(y_list[0], 'b-*')\n",
    "plt.plot(y_hat_list[0].squeeze(), 'r-*')\n",
    "\n",
    "plt.subplot(222)\n",
    "plt.plot(y_list[1], 'b-*')\n",
    "plt.plot(y_hat_list[1].squeeze(), 'r-*')\n",
    "\n",
    "plt.subplot(223)\n",
    "plt.plot(y_list[2], 'b-*')\n",
    "plt.plot(y_hat_list[2].squeeze(), 'r-*')\n",
    "\n",
    "plt.subplot(224)\n",
    "plt.plot(y_list[3], 'b-*')\n",
    "plt.plot(y_hat_list[3].squeeze(), 'r-*')\n",
    "\n",
    "plt.show()"
   ]
  },
  {
   "cell_type": "code",
   "execution_count": 14,
   "metadata": {},
   "outputs": [
    {
     "data": {
      "text/plain": [
       "array([600,  73, 437, 445])"
      ]
     },
     "execution_count": 14,
     "metadata": {},
     "output_type": "execute_result"
    }
   ],
   "source": [
    "idx_list"
   ]
  },
  {
   "cell_type": "code",
   "execution_count": 31,
   "metadata": {},
   "outputs": [],
   "source": [
    "del decoder"
   ]
  },
  {
   "cell_type": "code",
   "execution_count": null,
   "metadata": {},
   "outputs": [],
   "source": []
  }
 ],
 "metadata": {
  "kernelspec": {
   "display_name": "Python 3",
   "language": "python",
   "name": "python3"
  },
  "language_info": {
   "codemirror_mode": {
    "name": "ipython",
    "version": 3
   },
   "file_extension": ".py",
   "mimetype": "text/x-python",
   "name": "python",
   "nbconvert_exporter": "python",
   "pygments_lexer": "ipython3",
   "version": "3.6.6"
  }
 },
 "nbformat": 4,
 "nbformat_minor": 2
}
