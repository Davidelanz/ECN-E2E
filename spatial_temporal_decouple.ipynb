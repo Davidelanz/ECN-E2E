{
 "cells": [
  {
   "cell_type": "code",
   "execution_count": 1,
   "metadata": {},
   "outputs": [
    {
     "name": "stderr",
     "output_type": "stream",
     "text": [
      "Using TensorFlow backend.\n"
     ]
    }
   ],
   "source": [
    "from keras.layers import Input, Dense, LSTM, PReLU, Reshape, Dropout, Activation, BatchNormalization\n",
    "from keras.models import model_from_json, Model\n",
    "import keras\n",
    "\n",
    "from s1p10_model.resnet8_body import resnet8_body\n",
    "\n",
    "from s1p10_training_utils import save_lstm, DataGenerator, save_layer_weight\n",
    "\n",
    "import json\n",
    "import time\n",
    "\n",
    "import numpy as np"
   ]
  },
  {
   "cell_type": "markdown",
   "metadata": {},
   "source": [
    "# 0. Pre Training\n",
    "## 0.1 Load classes' weight & bins edge"
   ]
  },
  {
   "cell_type": "code",
   "execution_count": 2,
   "metadata": {},
   "outputs": [],
   "source": [
    "with open('./s1p10_data/s1p10_classes_weight.json', 'r') as fp:\n",
    "    classes_weight = json.load(fp)\n",
    "    \n",
    "bins_edge = np.load('./s1p10_data/s1p10_bins_edge.npy')"
   ]
  },
  {
   "cell_type": "markdown",
   "metadata": {},
   "source": [
    "## 0.2 Global parameter"
   ]
  },
  {
   "cell_type": "code",
   "execution_count": 3,
   "metadata": {},
   "outputs": [],
   "source": [
    "NUM_CLASSES = len(classes_weight)\n",
    "NUM_LABELS = 5  # total labels of one training sample\n",
    "LSTM_NUM_HIDDEN_STATE = 128"
   ]
  },
  {
   "cell_type": "markdown",
   "metadata": {},
   "source": [
    "## 0.3 Prepare dataset generator"
   ]
  },
  {
   "cell_type": "code",
   "execution_count": 4,
   "metadata": {},
   "outputs": [],
   "source": [
    "batch_size = 100\n",
    "\n",
    "gen_param = {'num_class': NUM_CLASSES, \n",
    "             'num_labels': NUM_LABELS, \n",
    "             'bins_edge': bins_edge,\n",
    "             'batch_size': batch_size, \n",
    "             'shuffle': True, \n",
    "             'lstm_dim_hidden_states': LSTM_NUM_HIDDEN_STATE,\n",
    "             'flip_prob': 0.5}\n",
    "\n",
    "train_gen = DataGenerator(\"./s1p10_data/s1p10_CH2_002_output_training.csv\", **gen_param)\n",
    "val_gen = DataGenerator(\"./s1p10_data/s1p10_CH2_002_output_validation.csv\", **gen_param)"
   ]
  },
  {
   "cell_type": "markdown",
   "metadata": {},
   "source": [
    "# 2. Model Architect\n",
    "\n",
    "Model comprises of 1 LSTM & 1 Dense classifier. The idea to learn the temporal relation in sequences of steering angle. \n",
    "\n",
    "Model inspired by `Improvise Jazz` exercise of DeepLearning.ai\n",
    "\n",
    "Key point of training this model\n",
    "\n",
    "\\begin{equation}\n",
    "    x^{<i + 1>}=y^{< i >}\n",
    "\\end{equation}\n",
    "\n",
    "The output of the previous LSTM block is the input of this LSTM block."
   ]
  },
  {
   "cell_type": "markdown",
   "metadata": {},
   "source": [
    "## 2.1 Define share layers"
   ]
  },
  {
   "cell_type": "code",
   "execution_count": 5,
   "metadata": {},
   "outputs": [],
   "source": [
    "reshapor = Reshape((1, -1))\n",
    "\n",
    "LSTM_cell = LSTM(LSTM_NUM_HIDDEN_STATE, return_state=True)\n",
    "\n",
    "densor = Dense(NUM_CLASSES, activation='softmax', \n",
    "               name='head')  # use as classifier to output steering angle ID"
   ]
  },
  {
   "cell_type": "markdown",
   "metadata": {},
   "source": [
    "# 2.2 Define Model"
   ]
  },
  {
   "cell_type": "code",
   "execution_count": 6,
   "metadata": {},
   "outputs": [],
   "source": [
    "def temporal_model(num_classes, num_labels, lstm_num_hidden):\n",
    "    \"\"\"\n",
    "    Define temporal_model for prediction sequences of steering angle\n",
    "    \n",
    "    Input:\n",
    "        num_classes(int): number of classes of steering angle\n",
    "        num_prediction(int):\n",
    "        lstm_num_hidden(int)\n",
    "    \"\"\"\n",
    "    \n",
    "    # Define input\n",
    "    X_in_list = [Input(shape=(num_classes, )) for i in range(num_labels - 1)]\n",
    "    \n",
    "    # Define initial hidden state for the decoder LSTM\n",
    "    a_0 = Input(shape=(lstm_num_hidden, ), name=\"a_0\")\n",
    "    c_0 = Input(shape=(lstm_num_hidden, ), name=\"c_0\")\n",
    "    \n",
    "    a = a_0\n",
    "    c = c_0\n",
    "    \n",
    "    outputs = []\n",
    "    \n",
    "    for i in range(num_labels - 1):\n",
    "        # reshape input to be (1, num_classes)\n",
    "        X = reshapor(X_in_list[i])\n",
    "        # perform 1 step of LSTM_cell\n",
    "        a, _, c = LSTM_cell(X, initial_state=[a, c])\n",
    "        # apply densor\n",
    "        y = densor(a)\n",
    "        # store y to outputs\n",
    "        outputs.append(y)\n",
    "    \n",
    "    model = Model(inputs=X_in_list + [a_0, c_0], outputs=outputs)\n",
    "    return model"
   ]
  },
  {
   "cell_type": "code",
   "execution_count": 7,
   "metadata": {},
   "outputs": [
    {
     "name": "stdout",
     "output_type": "stream",
     "text": [
      "WARNING:tensorflow:From /home/user/venv/lib/python3.6/site-packages/tensorflow/python/framework/op_def_library.py:263: colocate_with (from tensorflow.python.framework.ops) is deprecated and will be removed in a future version.\n",
      "Instructions for updating:\n",
      "Colocations handled automatically by placer.\n",
      "__________________________________________________________________________________________________\n",
      "Layer (type)                    Output Shape         Param #     Connected to                     \n",
      "==================================================================================================\n",
      "input_1 (InputLayer)            (None, 114)          0                                            \n",
      "__________________________________________________________________________________________________\n",
      "reshape_1 (Reshape)             (None, 1, 114)       0           input_1[0][0]                    \n",
      "                                                                 input_2[0][0]                    \n",
      "                                                                 input_3[0][0]                    \n",
      "                                                                 input_4[0][0]                    \n",
      "__________________________________________________________________________________________________\n",
      "a_0 (InputLayer)                (None, 128)          0                                            \n",
      "__________________________________________________________________________________________________\n",
      "c_0 (InputLayer)                (None, 128)          0                                            \n",
      "__________________________________________________________________________________________________\n",
      "input_2 (InputLayer)            (None, 114)          0                                            \n",
      "__________________________________________________________________________________________________\n",
      "lstm_1 (LSTM)                   [(None, 128), (None, 124416      reshape_1[0][0]                  \n",
      "                                                                 a_0[0][0]                        \n",
      "                                                                 c_0[0][0]                        \n",
      "                                                                 reshape_1[1][0]                  \n",
      "                                                                 lstm_1[0][0]                     \n",
      "                                                                 lstm_1[0][2]                     \n",
      "                                                                 reshape_1[2][0]                  \n",
      "                                                                 lstm_1[1][0]                     \n",
      "                                                                 lstm_1[1][2]                     \n",
      "                                                                 reshape_1[3][0]                  \n",
      "                                                                 lstm_1[2][0]                     \n",
      "                                                                 lstm_1[2][2]                     \n",
      "__________________________________________________________________________________________________\n",
      "input_3 (InputLayer)            (None, 114)          0                                            \n",
      "__________________________________________________________________________________________________\n",
      "input_4 (InputLayer)            (None, 114)          0                                            \n",
      "__________________________________________________________________________________________________\n",
      "head (Dense)                    (None, 114)          14706       lstm_1[0][0]                     \n",
      "                                                                 lstm_1[1][0]                     \n",
      "                                                                 lstm_1[2][0]                     \n",
      "                                                                 lstm_1[3][0]                     \n",
      "==================================================================================================\n",
      "Total params: 139,122\n",
      "Trainable params: 139,122\n",
      "Non-trainable params: 0\n",
      "__________________________________________________________________________________________________\n"
     ]
    }
   ],
   "source": [
    "model = temporal_model(NUM_CLASSES, NUM_LABELS, LSTM_NUM_HIDDEN_STATE)\n",
    "\n",
    "model.summary()\n",
    "\n",
    "model.compile(optimizer='Adadelta', loss='categorical_crossentropy', metrics=['accuracy'])"
   ]
  },
  {
   "cell_type": "markdown",
   "metadata": {},
   "source": [
    "# 2. Training"
   ]
  },
  {
   "cell_type": "code",
   "execution_count": 14,
   "metadata": {
    "scrolled": false
   },
   "outputs": [
    {
     "name": "stdout",
     "output_type": "stream",
     "text": [
      "Epoch 41/60\n",
      "182/182 [==============================] - 12s 66ms/step - loss: 3.6972 - head_loss: 0.8705 - head_acc: 0.7025 - head_acc_1: 0.6960 - head_acc_2: 0.7083 - head_acc_3: 0.7152 - val_loss: 3.6789 - val_head_loss: 0.8661 - val_head_acc: 0.7048 - val_head_acc_1: 0.6990 - val_head_acc_2: 0.7099 - val_head_acc_3: 0.7149\n",
      "Epoch 42/60\n",
      "182/182 [==============================] - 12s 64ms/step - loss: 3.6948 - head_loss: 0.8711 - head_acc: 0.7040 - head_acc_1: 0.6973 - head_acc_2: 0.7115 - head_acc_3: 0.7141 - val_loss: 3.6741 - val_head_loss: 0.8652 - val_head_acc: 0.6998 - val_head_acc_1: 0.7005 - val_head_acc_2: 0.7125 - val_head_acc_3: 0.7152\n",
      "Epoch 43/60\n",
      "182/182 [==============================] - 12s 65ms/step - loss: 3.6816 - head_loss: 0.8695 - head_acc: 0.7051 - head_acc_1: 0.7032 - head_acc_2: 0.7066 - head_acc_3: 0.7120 - val_loss: 3.6557 - val_head_loss: 0.8605 - val_head_acc: 0.7054 - val_head_acc_1: 0.7032 - val_head_acc_2: 0.7130 - val_head_acc_3: 0.7168\n",
      "Epoch 44/60\n",
      "182/182 [==============================] - 12s 64ms/step - loss: 3.6744 - head_loss: 0.8672 - head_acc: 0.7016 - head_acc_1: 0.6995 - head_acc_2: 0.7140 - head_acc_3: 0.7140 - val_loss: 3.6515 - val_head_loss: 0.8543 - val_head_acc: 0.7026 - val_head_acc_1: 0.7031 - val_head_acc_2: 0.7129 - val_head_acc_3: 0.7180\n",
      "Epoch 45/60\n",
      "182/182 [==============================] - 12s 64ms/step - loss: 3.6779 - head_loss: 0.8692 - head_acc: 0.7082 - head_acc_1: 0.7007 - head_acc_2: 0.7084 - head_acc_3: 0.7151 - val_loss: 3.6505 - val_head_loss: 0.8464 - val_head_acc: 0.7022 - val_head_acc_1: 0.7010 - val_head_acc_2: 0.7113 - val_head_acc_3: 0.7223\n",
      "Epoch 46/60\n",
      "182/182 [==============================] - 12s 64ms/step - loss: 3.6537 - head_loss: 0.8530 - head_acc: 0.7023 - head_acc_1: 0.7029 - head_acc_2: 0.7141 - head_acc_3: 0.7213 - val_loss: 3.6456 - val_head_loss: 0.8571 - val_head_acc: 0.7052 - val_head_acc_1: 0.7001 - val_head_acc_2: 0.7139 - val_head_acc_3: 0.7168\n",
      "Epoch 47/60\n",
      "182/182 [==============================] - 12s 64ms/step - loss: 3.6622 - head_loss: 0.8592 - head_acc: 0.7011 - head_acc_1: 0.7020 - head_acc_2: 0.7120 - head_acc_3: 0.7180 - val_loss: 3.6643 - val_head_loss: 0.8523 - val_head_acc: 0.7005 - val_head_acc_1: 0.7005 - val_head_acc_2: 0.7093 - val_head_acc_3: 0.7195\n",
      "Epoch 48/60\n",
      "182/182 [==============================] - 12s 65ms/step - loss: 3.6711 - head_loss: 0.8562 - head_acc: 0.6987 - head_acc_1: 0.6993 - head_acc_2: 0.7151 - head_acc_3: 0.7168 - val_loss: 3.6523 - val_head_loss: 0.8511 - val_head_acc: 0.7032 - val_head_acc_1: 0.7001 - val_head_acc_2: 0.7132 - val_head_acc_3: 0.7210\n",
      "Epoch 49/60\n",
      "182/182 [==============================] - 12s 64ms/step - loss: 3.6645 - head_loss: 0.8608 - head_acc: 0.7040 - head_acc_1: 0.6959 - head_acc_2: 0.7143 - head_acc_3: 0.7157 - val_loss: 3.6388 - val_head_loss: 0.8495 - val_head_acc: 0.7002 - val_head_acc_1: 0.7031 - val_head_acc_2: 0.7175 - val_head_acc_3: 0.7237\n",
      "Epoch 50/60\n",
      "182/182 [==============================] - 12s 64ms/step - loss: 3.6510 - head_loss: 0.8531 - head_acc: 0.7058 - head_acc_1: 0.7010 - head_acc_2: 0.7097 - head_acc_3: 0.7220 - val_loss: 3.6378 - val_head_loss: 0.8537 - val_head_acc: 0.7018 - val_head_acc_1: 0.7025 - val_head_acc_2: 0.7134 - val_head_acc_3: 0.7188\n",
      "Epoch 51/60\n",
      "182/182 [==============================] - 12s 64ms/step - loss: 3.6468 - head_loss: 0.8511 - head_acc: 0.7041 - head_acc_1: 0.6993 - head_acc_2: 0.7126 - head_acc_3: 0.7191 - val_loss: 3.6374 - val_head_loss: 0.8423 - val_head_acc: 0.7025 - val_head_acc_1: 0.7018 - val_head_acc_2: 0.7121 - val_head_acc_3: 0.7227\n",
      "Epoch 52/60\n",
      "182/182 [==============================] - 12s 65ms/step - loss: 3.6319 - head_loss: 0.8496 - head_acc: 0.7042 - head_acc_1: 0.6996 - head_acc_2: 0.7149 - head_acc_3: 0.7194 - val_loss: 3.6280 - val_head_loss: 0.8437 - val_head_acc: 0.7010 - val_head_acc_1: 0.7029 - val_head_acc_2: 0.7140 - val_head_acc_3: 0.7235\n",
      "Epoch 53/60\n",
      "182/182 [==============================] - 12s 64ms/step - loss: 3.6464 - head_loss: 0.8517 - head_acc: 0.6995 - head_acc_1: 0.7025 - head_acc_2: 0.7182 - head_acc_3: 0.7197 - val_loss: 3.6203 - val_head_loss: 0.8450 - val_head_acc: 0.7015 - val_head_acc_1: 0.7052 - val_head_acc_2: 0.7132 - val_head_acc_3: 0.7233\n",
      "Epoch 54/60\n",
      "182/182 [==============================] - 12s 65ms/step - loss: 3.6395 - head_loss: 0.8460 - head_acc: 0.7026 - head_acc_1: 0.7042 - head_acc_2: 0.7114 - head_acc_3: 0.7220 - val_loss: 3.6319 - val_head_loss: 0.8465 - val_head_acc: 0.7005 - val_head_acc_1: 0.7030 - val_head_acc_2: 0.7170 - val_head_acc_3: 0.7209\n",
      "Epoch 55/60\n",
      "182/182 [==============================] - 12s 65ms/step - loss: 3.6337 - head_loss: 0.8505 - head_acc: 0.7027 - head_acc_1: 0.7060 - head_acc_2: 0.7146 - head_acc_3: 0.7215 - val_loss: 3.6266 - val_head_loss: 0.8422 - val_head_acc: 0.7029 - val_head_acc_1: 0.7019 - val_head_acc_2: 0.7161 - val_head_acc_3: 0.7241845 - head_loss: 0.8526 \n",
      "Epoch 56/60\n",
      "182/182 [==============================] - 12s 64ms/step - loss: 3.6214 - head_loss: 0.8397 - head_acc: 0.7049 - head_acc_1: 0.7031 - head_acc_2: 0.7137 - head_acc_3: 0.7253 - val_loss: 3.6154 - val_head_loss: 0.8390 - val_head_acc: 0.7041 - val_head_acc_1: 0.7021 - val_head_acc_2: 0.7132 - val_head_acc_3: 0.7247\n",
      "Epoch 57/60\n",
      "182/182 [==============================] - 12s 64ms/step - loss: 3.6365 - head_loss: 0.8430 - head_acc: 0.7019 - head_acc_1: 0.7012 - head_acc_2: 0.7175 - head_acc_3: 0.7243 - val_loss: 3.6077 - val_head_loss: 0.8326 - val_head_acc: 0.7055 - val_head_acc_1: 0.7043 - val_head_acc_2: 0.7104 - val_head_acc_3: 0.7274\n",
      "Epoch 58/60\n",
      "182/182 [==============================] - 12s 64ms/step - loss: 3.6202 - head_loss: 0.8479 - head_acc: 0.7045 - head_acc_1: 0.7014 - head_acc_2: 0.7174 - head_acc_3: 0.7199 - val_loss: 3.5970 - val_head_loss: 0.8346 - val_head_acc: 0.7040 - val_head_acc_1: 0.7071 - val_head_acc_2: 0.7154 - val_head_acc_3: 0.7231\n",
      "Epoch 59/60\n",
      "182/182 [==============================] - 12s 64ms/step - loss: 3.6243 - head_loss: 0.8437 - head_acc: 0.7026 - head_acc_1: 0.7004 - head_acc_2: 0.7176 - head_acc_3: 0.7209 - val_loss: 3.6010 - val_head_loss: 0.8281 - val_head_acc: 0.7037 - val_head_acc_1: 0.7000 - val_head_acc_2: 0.7196 - val_head_acc_3: 0.7240\n",
      "Epoch 60/60\n",
      "182/182 [==============================] - 12s 64ms/step - loss: 3.6305 - head_loss: 0.8373 - head_acc: 0.7058 - head_acc_1: 0.7035 - head_acc_2: 0.7104 - head_acc_3: 0.7257 - val_loss: 3.5914 - val_head_loss: 0.8288 - val_head_acc: 0.7023 - val_head_acc_1: 0.7035 - val_head_acc_2: 0.7163 - val_head_acc_3: 0.7269\n"
     ]
    },
    {
     "data": {
      "text/plain": [
       "<keras.callbacks.History at 0x7f765a87cf60>"
      ]
     },
     "execution_count": 14,
     "metadata": {},
     "output_type": "execute_result"
    }
   ],
   "source": [
    "time_str = time.strftime(\"%Y_%m_%d_%H_%M\")\n",
    "\n",
    "log_dir = './stede_logs/' + time_str\n",
    "tb_callback = keras.callbacks.TensorBoard(log_dir=log_dir,  \n",
    "                                          batch_size=batch_size, \n",
    "                                          update_freq='epoch')\n",
    "\n",
    "model.fit_generator(train_gen,\n",
    "                    class_weight=classes_weight,\n",
    "                    epochs=60,\n",
    "                    validation_data=val_gen,\n",
    "                    initial_epoch=40,\n",
    "                    callbacks=[tb_callback])"
   ]
  },
  {
   "cell_type": "markdown",
   "metadata": {},
   "source": [
    "## 2.2 Save weights"
   ]
  },
  {
   "cell_type": "code",
   "execution_count": 15,
   "metadata": {},
   "outputs": [],
   "source": [
    "# save shared_lstm\n",
    "save_layer_weight(LSTM_cell, time_str, log_dir, \"lstm\")\n",
    "\n",
    "save_layer_weight(densor, time_str, log_dir, \"densor\")"
   ]
  },
  {
   "cell_type": "code",
   "execution_count": 16,
   "metadata": {},
   "outputs": [
    {
     "data": {
      "text/plain": [
       "'2019_05_28_19_25'"
      ]
     },
     "execution_count": 16,
     "metadata": {},
     "output_type": "execute_result"
    }
   ],
   "source": [
    "time_str"
   ]
  },
  {
   "cell_type": "code",
   "execution_count": null,
   "metadata": {},
   "outputs": [],
   "source": []
  }
 ],
 "metadata": {
  "kernelspec": {
   "display_name": "Python 3",
   "language": "python",
   "name": "python3"
  },
  "language_info": {
   "codemirror_mode": {
    "name": "ipython",
    "version": 3
   },
   "file_extension": ".py",
   "mimetype": "text/x-python",
   "name": "python",
   "nbconvert_exporter": "python",
   "pygments_lexer": "ipython3",
   "version": "3.6.6"
  }
 },
 "nbformat": 4,
 "nbformat_minor": 2
}
