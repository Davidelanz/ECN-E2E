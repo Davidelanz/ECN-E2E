{
 "cells": [
  {
   "cell_type": "markdown",
   "metadata": {},
   "source": [
    "Idea code name: `S1P10`"
   ]
  },
  {
   "cell_type": "code",
   "execution_count": 1,
   "metadata": {},
   "outputs": [
    {
     "name": "stderr",
     "output_type": "stream",
     "text": [
      "Using TensorFlow backend.\n"
     ]
    }
   ],
   "source": [
    "from keras.layers import Input, Dense, LSTM, PReLU, Reshape, Dropout, Activation, BatchNormalization\n",
    "from keras.models import model_from_json, Model\n",
    "import keras\n",
    "\n",
    "from s1p10_model.resnet8_body import resnet8_body\n",
    "\n",
    "from s1p10_training_utils import save_lstm, DataGenerator\n",
    "\n",
    "import json\n",
    "import time\n",
    "\n",
    "import numpy as np"
   ]
  },
  {
   "cell_type": "markdown",
   "metadata": {},
   "source": [
    "## Load weight of each angle class"
   ]
  },
  {
   "cell_type": "code",
   "execution_count": 2,
   "metadata": {},
   "outputs": [],
   "source": [
    "with open('./s1p10_data/s1p10_classes_weight.json', 'r') as fp:\n",
    "    classes_weight = json.load(fp)"
   ]
  },
  {
   "cell_type": "markdown",
   "metadata": {},
   "source": [
    "## Load bins edge"
   ]
  },
  {
   "cell_type": "code",
   "execution_count": 3,
   "metadata": {},
   "outputs": [],
   "source": [
    "bins_edge = np.load('./s1p10_data/s1p10_bins_edge.npy')"
   ]
  },
  {
   "cell_type": "markdown",
   "metadata": {},
   "source": [
    "# Global Config"
   ]
  },
  {
   "cell_type": "code",
   "execution_count": 4,
   "metadata": {},
   "outputs": [],
   "source": [
    "IMAGE_SHAPE = (200, 200, 1)\n",
    "NUM_CLASSES = len(classes_weight)\n",
    "NUM_PREDICT = 5\n",
    "LSTM_NUM_HIDDEN_STATE = 64"
   ]
  },
  {
   "cell_type": "markdown",
   "metadata": {},
   "source": [
    "# Model acrchitect\n",
    "\n",
    "1 Image -> ResNet-8 -> LSTM_1 -> LSTM_2 (return state = True) (use this to sample prediction) -> Dense + Softmax \n",
    "-> 10 steering angle ID\n",
    "\n",
    "## 1.2 Create Encoder\n",
    "Encoder is body of ResNet-8 from `Drone-Net` since it's already trained to recognize road curve -> helpful spatial information\n"
   ]
  },
  {
   "cell_type": "code",
   "execution_count": 5,
   "metadata": {
    "scrolled": true
   },
   "outputs": [
    {
     "name": "stdout",
     "output_type": "stream",
     "text": [
      "WARNING:tensorflow:From /home/user/venv/lib/python3.6/site-packages/tensorflow/python/framework/op_def_library.py:263: colocate_with (from tensorflow.python.framework.ops) is deprecated and will be removed in a future version.\n",
      "Instructions for updating:\n",
      "Colocations handled automatically by placer.\n",
      "WARNING:tensorflow:From /home/user/venv/lib/python3.6/site-packages/tensorflow/python/training/moving_averages.py:210: calling Zeros.__init__ (from tensorflow.python.ops.init_ops) with dtype is deprecated and will be removed in a future version.\n",
      "Instructions for updating:\n",
      "Call initializer instance with the dtype argument instead of passing it to the constructor\n",
      "__________________________________________________________________________________________________\n",
      "Layer (type)                    Output Shape         Param #     Connected to                     \n",
      "==================================================================================================\n",
      "input_1 (InputLayer)            (None, 200, 200, 1)  0                                            \n",
      "__________________________________________________________________________________________________\n",
      "conv_0 (Conv2D)                 (None, 100, 100, 32) 832         input_1[0][0]                    \n",
      "__________________________________________________________________________________________________\n",
      "max_pooling2d_1 (MaxPooling2D)  (None, 49, 49, 32)   0           conv_0[0][0]                     \n",
      "__________________________________________________________________________________________________\n",
      "bn_1_a (BatchNormalization)     (None, 49, 49, 32)   128         max_pooling2d_1[0][0]            \n",
      "__________________________________________________________________________________________________\n",
      "activation_1 (Activation)       (None, 49, 49, 32)   0           bn_1_a[0][0]                     \n",
      "__________________________________________________________________________________________________\n",
      "conv_1_a (Conv2D)               (None, 25, 25, 32)   9248        activation_1[0][0]               \n",
      "__________________________________________________________________________________________________\n",
      "bn_1_b (BatchNormalization)     (None, 25, 25, 32)   128         conv_1_a[0][0]                   \n",
      "__________________________________________________________________________________________________\n",
      "activation_2 (Activation)       (None, 25, 25, 32)   0           bn_1_b[0][0]                     \n",
      "__________________________________________________________________________________________________\n",
      "conv_1_b (Conv2D)               (None, 25, 25, 32)   9248        activation_2[0][0]               \n",
      "__________________________________________________________________________________________________\n",
      "conv_1_c (Conv2D)               (None, 25, 25, 32)   1056        max_pooling2d_1[0][0]            \n",
      "__________________________________________________________________________________________________\n",
      "add_1 (Add)                     (None, 25, 25, 32)   0           conv_1_b[0][0]                   \n",
      "                                                                 conv_1_c[0][0]                   \n",
      "__________________________________________________________________________________________________\n",
      "bn_2_a (BatchNormalization)     (None, 25, 25, 32)   128         add_1[0][0]                      \n",
      "__________________________________________________________________________________________________\n",
      "activation_3 (Activation)       (None, 25, 25, 32)   0           bn_2_a[0][0]                     \n",
      "__________________________________________________________________________________________________\n",
      "conv_2_a (Conv2D)               (None, 13, 13, 64)   18496       activation_3[0][0]               \n",
      "__________________________________________________________________________________________________\n",
      "bn_2_b (BatchNormalization)     (None, 13, 13, 64)   256         conv_2_a[0][0]                   \n",
      "__________________________________________________________________________________________________\n",
      "activation_4 (Activation)       (None, 13, 13, 64)   0           bn_2_b[0][0]                     \n",
      "__________________________________________________________________________________________________\n",
      "conv_2_b (Conv2D)               (None, 13, 13, 64)   36928       activation_4[0][0]               \n",
      "__________________________________________________________________________________________________\n",
      "conv_2_c (Conv2D)               (None, 13, 13, 64)   2112        add_1[0][0]                      \n",
      "__________________________________________________________________________________________________\n",
      "add_2 (Add)                     (None, 13, 13, 64)   0           conv_2_b[0][0]                   \n",
      "                                                                 conv_2_c[0][0]                   \n",
      "__________________________________________________________________________________________________\n",
      "bn_3_a (BatchNormalization)     (None, 13, 13, 64)   256         add_2[0][0]                      \n",
      "__________________________________________________________________________________________________\n",
      "activation_5 (Activation)       (None, 13, 13, 64)   0           bn_3_a[0][0]                     \n",
      "__________________________________________________________________________________________________\n",
      "conv_3_a (Conv2D)               (None, 7, 7, 128)    73856       activation_5[0][0]               \n",
      "__________________________________________________________________________________________________\n",
      "bn_3_b (BatchNormalization)     (None, 7, 7, 128)    512         conv_3_a[0][0]                   \n",
      "__________________________________________________________________________________________________\n",
      "activation_6 (Activation)       (None, 7, 7, 128)    0           bn_3_b[0][0]                     \n",
      "__________________________________________________________________________________________________\n",
      "conv_3_b (Conv2D)               (None, 7, 7, 128)    147584      activation_6[0][0]               \n",
      "__________________________________________________________________________________________________\n",
      "conv_3_c (Conv2D)               (None, 7, 7, 128)    8320        add_2[0][0]                      \n",
      "__________________________________________________________________________________________________\n",
      "add_3 (Add)                     (None, 7, 7, 128)    0           conv_3_b[0][0]                   \n",
      "                                                                 conv_3_c[0][0]                   \n",
      "__________________________________________________________________________________________________\n",
      "flatten_1 (Flatten)             (None, 6272)         0           add_3[0][0]                      \n",
      "__________________________________________________________________________________________________\n",
      "activation_7 (Activation)       (None, 6272)         0           flatten_1[0][0]                  \n",
      "==================================================================================================\n",
      "Total params: 309,088\n",
      "Trainable params: 0\n",
      "Non-trainable params: 309,088\n",
      "__________________________________________________________________________________________________\n"
     ]
    }
   ],
   "source": [
    "encoder = resnet8_body(IMAGE_SHAPE)\n",
    "# load resnet8 weights\n",
    "encoder.load_weights(\"./s1p10_model/named_resnet8_best_weights.h5\", by_name=True)\n",
    "for l in encoder.layers:\n",
    "    l.trainable = False\n",
    "encoder.summary()"
   ]
  },
  {
   "cell_type": "markdown",
   "metadata": {},
   "source": [
    "## 1.3 Create Decoder\n",
    "Decoder is comprised of 2 LSTM & 2 Dense layers, last Dense layer is activated by Softmax function"
   ]
  },
  {
   "cell_type": "code",
   "execution_count": 6,
   "metadata": {},
   "outputs": [],
   "source": [
    "LSTM_cell = LSTM(LSTM_NUM_HIDDEN_STATE, \n",
    "                 return_state=True, \n",
    "                 kernel_regularizer=keras.regularizers.l2(1e-2),\n",
    "                 recurrent_regularizer=keras.regularizers.l2(1e-2),\n",
    "                 bias_regularizer=keras.regularizers.l2(1e-2),\n",
    "                 dropout=0.0, \n",
    "                 recurrent_dropout=0.0)  # use to sample angle"
   ]
  },
  {
   "cell_type": "code",
   "execution_count": 7,
   "metadata": {},
   "outputs": [],
   "source": [
    "def dense_classifier(input_shape, num_classes, weight_regu_param):\n",
    "    \"\"\"\n",
    "    Define classifier made of several Dense layers\n",
    "    \"\"\"\n",
    "    X_in = Input(shape=input_shape)\n",
    "    \n",
    "    # 1st layer\n",
    "    X = BatchNormalization()(X_in)\n",
    "    \n",
    "    X = Dense(64, \n",
    "              kernel_regularizer=keras.regularizers.l2(weight_regu_param),\n",
    "              bias_regularizer=keras.regularizers.l2(weight_regu_param))(X_in)\n",
    "    \n",
    "    X = Activation('relu')(X)  # past use PReLU activation\n",
    "    \n",
    "    X = Dropout(0.5)(X)\n",
    "    \n",
    "    # 2nd layer\n",
    "    X = BatchNormalization()(X)\n",
    "    \n",
    "    X = Dense(32, \n",
    "              kernel_regularizer=keras.regularizers.l2(weight_regu_param),\n",
    "              bias_regularizer=keras.regularizers.l2(weight_regu_param))(X)\n",
    "    \n",
    "    X = Activation('relu')(X)  # past PReLU\n",
    "    \n",
    "    X = Dropout(0.5)(X)\n",
    "    \n",
    "    # 3rd layer \n",
    "    X = BatchNormalization()(X)\n",
    "    \n",
    "    X = Dense(8, \n",
    "              kernel_regularizer=keras.regularizers.l2(weight_regu_param),\n",
    "              bias_regularizer=keras.regularizers.l2(weight_regu_param))(X)\n",
    "    \n",
    "    X_out = Activation('relu')(X)\n",
    "    \n",
    "#     X = Dropout(0.5)(X)\n",
    "    \n",
    "#     y = Dense(num_classes, activation='softmax', \n",
    "#               kernel_regularizer=keras.regularizers.l2(weight_regu_param), \n",
    "#               bias_regularizer=keras.regularizers.l2(weight_regu_param))(X)\n",
    "    \n",
    "    model = Model(inputs=[X_in], outputs=[X_out], name='classifier_body')\n",
    "    return model\n",
    "    "
   ]
  },
  {
   "cell_type": "code",
   "execution_count": 8,
   "metadata": {},
   "outputs": [
    {
     "name": "stdout",
     "output_type": "stream",
     "text": [
      "WARNING:tensorflow:From /home/user/venv/lib/python3.6/site-packages/keras/backend/tensorflow_backend.py:3445: calling dropout (from tensorflow.python.ops.nn_ops) with keep_prob is deprecated and will be removed in a future version.\n",
      "Instructions for updating:\n",
      "Please use `rate` instead of `keep_prob`. Rate should be set to `rate = 1 - keep_prob`.\n"
     ]
    }
   ],
   "source": [
    "classifier = dense_classifier((LSTM_NUM_HIDDEN_STATE, ), NUM_CLASSES, weight_regu_param=0.01)"
   ]
  },
  {
   "cell_type": "code",
   "execution_count": 9,
   "metadata": {},
   "outputs": [
    {
     "name": "stdout",
     "output_type": "stream",
     "text": [
      "_________________________________________________________________\n",
      "Layer (type)                 Output Shape              Param #   \n",
      "=================================================================\n",
      "input_2 (InputLayer)         (None, 64)                0         \n",
      "_________________________________________________________________\n",
      "dense_1 (Dense)              (None, 64)                4160      \n",
      "_________________________________________________________________\n",
      "activation_8 (Activation)    (None, 64)                0         \n",
      "_________________________________________________________________\n",
      "dropout_1 (Dropout)          (None, 64)                0         \n",
      "_________________________________________________________________\n",
      "batch_normalization_2 (Batch (None, 64)                256       \n",
      "_________________________________________________________________\n",
      "dense_2 (Dense)              (None, 32)                2080      \n",
      "_________________________________________________________________\n",
      "activation_9 (Activation)    (None, 32)                0         \n",
      "_________________________________________________________________\n",
      "dropout_2 (Dropout)          (None, 32)                0         \n",
      "_________________________________________________________________\n",
      "batch_normalization_3 (Batch (None, 32)                128       \n",
      "_________________________________________________________________\n",
      "dense_3 (Dense)              (None, 8)                 264       \n",
      "_________________________________________________________________\n",
      "activation_10 (Activation)   (None, 8)                 0         \n",
      "=================================================================\n",
      "Total params: 6,888\n",
      "Trainable params: 6,696\n",
      "Non-trainable params: 192\n",
      "_________________________________________________________________\n"
     ]
    }
   ],
   "source": [
    "classifier.summary()"
   ]
  },
  {
   "cell_type": "markdown",
   "metadata": {},
   "source": [
    "## 1.4 Create Model"
   ]
  },
  {
   "cell_type": "code",
   "execution_count": 10,
   "metadata": {},
   "outputs": [],
   "source": [
    "def s1p10_model(input_shape, encoder, LSTM_cell, classifier, lstm_num_hidden_state, num_classes, num_labels):\n",
    "    \"\"\"\n",
    "    Define see-1-predict-10 model\n",
    "    \n",
    "    Input:\n",
    "        input_shape (tuple): shape of input image inputted to encoder\n",
    "        encoder (keras.Model)\n",
    "        LSTM_cell (keras.layers)\n",
    "        classifier (keras.Model)\n",
    "        \n",
    "    Output:\n",
    "        keras.Model\n",
    "    \"\"\"\n",
    "    X_in = Input(shape=input_shape, name=\"image_in\")\n",
    "    \n",
    "    # extract feature vector\n",
    "    X_feature = encoder(X_in)\n",
    "    X_feature = Reshape((1, -1))(X_feature)  # shape = (None, 1, 6272)\n",
    "    \n",
    "    # Initialize input to LSTM\n",
    "    a0 = Input(shape=(LSTM_NUM_HIDDEN_STATE, ), name=\"a0\")\n",
    "    c0 = Input(shape=(LSTM_NUM_HIDDEN_STATE, ), name=\"c0\")\n",
    "    y0 = Input(shape=(num_classes, ), name=\"y0\")  # will be concatenated with X_feature to make X\n",
    "    \n",
    "    a = a0\n",
    "    c = c0\n",
    "    y = y0\n",
    "    \n",
    "    outputs = []\n",
    "    \n",
    "    for i in range(num_labels):\n",
    "        # concatenate y & X_feature\n",
    "        y = Reshape((1, -1))(y)\n",
    "        X = keras.layers.concatenate([X_feature, y], axis=-1)\n",
    "        \n",
    "        # propagate X through LSTM_cell\n",
    "        a, _, c = LSTM_cell(X, initial_state=[a, c])\n",
    "        \n",
    "        # propagate hidden state \"a\" through classifier to get steering angle\n",
    "        X = classifier(a)\n",
    "        \n",
    "        # output layer\n",
    "        X = BatchNormalization()(X)\n",
    "        \n",
    "        X = Dropout(0.5)(X)\n",
    "    \n",
    "        X = Dense(num_classes, \n",
    "                  activation=None,\n",
    "                  activity_regularizer=None,\n",
    "                  kernel_regularizer=keras.regularizers.l2(1e-2), \n",
    "                  bias_regularizer=keras.regularizers.l2(1e-2))(X)\n",
    "        \n",
    "        y = Activation('softmax', name=\"head_%d\" % i)(X)\n",
    "        \n",
    "        # store y\n",
    "        outputs.append(y)\n",
    "    \n",
    "    model = Model(inputs=[X_in, a0, c0, y0], outputs=outputs)\n",
    "    return model\n",
    "        "
   ]
  },
  {
   "cell_type": "code",
   "execution_count": 11,
   "metadata": {
    "scrolled": false
   },
   "outputs": [
    {
     "name": "stdout",
     "output_type": "stream",
     "text": [
      "__________________________________________________________________________________________________\n",
      "Layer (type)                    Output Shape         Param #     Connected to                     \n",
      "==================================================================================================\n",
      "image_in (InputLayer)           (None, 200, 200, 1)  0                                            \n",
      "__________________________________________________________________________________________________\n",
      "resnet8 (Model)                 (None, 6272)         309088      image_in[0][0]                   \n",
      "__________________________________________________________________________________________________\n",
      "y0 (InputLayer)                 (None, 114)          0                                            \n",
      "__________________________________________________________________________________________________\n",
      "reshape_1 (Reshape)             (None, 1, 6272)      0           resnet8[1][0]                    \n",
      "__________________________________________________________________________________________________\n",
      "reshape_2 (Reshape)             (None, 1, 114)       0           y0[0][0]                         \n",
      "__________________________________________________________________________________________________\n",
      "concatenate_1 (Concatenate)     (None, 1, 6386)      0           reshape_1[0][0]                  \n",
      "                                                                 reshape_2[0][0]                  \n",
      "__________________________________________________________________________________________________\n",
      "a0 (InputLayer)                 (None, 64)           0                                            \n",
      "__________________________________________________________________________________________________\n",
      "c0 (InputLayer)                 (None, 64)           0                                            \n",
      "__________________________________________________________________________________________________\n",
      "lstm_1 (LSTM)                   [(None, 64), (None,  1651456     concatenate_1[0][0]              \n",
      "                                                                 a0[0][0]                         \n",
      "                                                                 c0[0][0]                         \n",
      "                                                                 concatenate_2[0][0]              \n",
      "                                                                 lstm_1[0][0]                     \n",
      "                                                                 lstm_1[0][2]                     \n",
      "                                                                 concatenate_3[0][0]              \n",
      "                                                                 lstm_1[1][0]                     \n",
      "                                                                 lstm_1[1][2]                     \n",
      "                                                                 concatenate_4[0][0]              \n",
      "                                                                 lstm_1[2][0]                     \n",
      "                                                                 lstm_1[2][2]                     \n",
      "                                                                 concatenate_5[0][0]              \n",
      "                                                                 lstm_1[3][0]                     \n",
      "                                                                 lstm_1[3][2]                     \n",
      "__________________________________________________________________________________________________\n",
      "classifier_body (Model)         (None, 8)            6888        lstm_1[0][0]                     \n",
      "                                                                 lstm_1[1][0]                     \n",
      "                                                                 lstm_1[2][0]                     \n",
      "                                                                 lstm_1[3][0]                     \n",
      "                                                                 lstm_1[4][0]                     \n",
      "__________________________________________________________________________________________________\n",
      "batch_normalization_4 (BatchNor (None, 8)            32          classifier_body[1][0]            \n",
      "__________________________________________________________________________________________________\n",
      "dropout_3 (Dropout)             (None, 8)            0           batch_normalization_4[0][0]      \n",
      "__________________________________________________________________________________________________\n",
      "dense_4 (Dense)                 (None, 114)          1026        dropout_3[0][0]                  \n",
      "__________________________________________________________________________________________________\n",
      "head_0 (Activation)             (None, 114)          0           dense_4[0][0]                    \n",
      "__________________________________________________________________________________________________\n",
      "reshape_3 (Reshape)             (None, 1, 114)       0           head_0[0][0]                     \n",
      "__________________________________________________________________________________________________\n",
      "concatenate_2 (Concatenate)     (None, 1, 6386)      0           reshape_1[0][0]                  \n",
      "                                                                 reshape_3[0][0]                  \n",
      "__________________________________________________________________________________________________\n",
      "batch_normalization_5 (BatchNor (None, 8)            32          classifier_body[2][0]            \n",
      "__________________________________________________________________________________________________\n",
      "dropout_4 (Dropout)             (None, 8)            0           batch_normalization_5[0][0]      \n",
      "__________________________________________________________________________________________________\n",
      "dense_5 (Dense)                 (None, 114)          1026        dropout_4[0][0]                  \n",
      "__________________________________________________________________________________________________\n",
      "head_1 (Activation)             (None, 114)          0           dense_5[0][0]                    \n",
      "__________________________________________________________________________________________________\n",
      "reshape_4 (Reshape)             (None, 1, 114)       0           head_1[0][0]                     \n",
      "__________________________________________________________________________________________________\n",
      "concatenate_3 (Concatenate)     (None, 1, 6386)      0           reshape_1[0][0]                  \n",
      "                                                                 reshape_4[0][0]                  \n",
      "__________________________________________________________________________________________________\n",
      "batch_normalization_6 (BatchNor (None, 8)            32          classifier_body[3][0]            \n",
      "__________________________________________________________________________________________________\n",
      "dropout_5 (Dropout)             (None, 8)            0           batch_normalization_6[0][0]      \n",
      "__________________________________________________________________________________________________\n",
      "dense_6 (Dense)                 (None, 114)          1026        dropout_5[0][0]                  \n",
      "__________________________________________________________________________________________________\n",
      "head_2 (Activation)             (None, 114)          0           dense_6[0][0]                    \n",
      "__________________________________________________________________________________________________\n",
      "reshape_5 (Reshape)             (None, 1, 114)       0           head_2[0][0]                     \n",
      "__________________________________________________________________________________________________\n",
      "concatenate_4 (Concatenate)     (None, 1, 6386)      0           reshape_1[0][0]                  \n",
      "                                                                 reshape_5[0][0]                  \n",
      "__________________________________________________________________________________________________\n",
      "batch_normalization_7 (BatchNor (None, 8)            32          classifier_body[4][0]            \n",
      "__________________________________________________________________________________________________\n",
      "dropout_6 (Dropout)             (None, 8)            0           batch_normalization_7[0][0]      \n",
      "__________________________________________________________________________________________________\n",
      "dense_7 (Dense)                 (None, 114)          1026        dropout_6[0][0]                  \n",
      "__________________________________________________________________________________________________\n",
      "head_3 (Activation)             (None, 114)          0           dense_7[0][0]                    \n",
      "__________________________________________________________________________________________________\n",
      "reshape_6 (Reshape)             (None, 1, 114)       0           head_3[0][0]                     \n",
      "__________________________________________________________________________________________________\n",
      "concatenate_5 (Concatenate)     (None, 1, 6386)      0           reshape_1[0][0]                  \n",
      "                                                                 reshape_6[0][0]                  \n",
      "__________________________________________________________________________________________________\n",
      "batch_normalization_8 (BatchNor (None, 8)            32          classifier_body[5][0]            \n",
      "__________________________________________________________________________________________________\n",
      "dropout_7 (Dropout)             (None, 8)            0           batch_normalization_8[0][0]      \n",
      "__________________________________________________________________________________________________\n",
      "dense_8 (Dense)                 (None, 114)          1026        dropout_7[0][0]                  \n",
      "__________________________________________________________________________________________________\n",
      "head_4 (Activation)             (None, 114)          0           dense_8[0][0]                    \n",
      "==================================================================================================\n",
      "Total params: 1,972,722\n",
      "Trainable params: 1,663,362\n",
      "Non-trainable params: 309,360\n",
      "__________________________________________________________________________________________________\n"
     ]
    }
   ],
   "source": [
    "model = s1p10_model(IMAGE_SHAPE, \n",
    "                    encoder, \n",
    "                    LSTM_cell, \n",
    "                    classifier, \n",
    "                    LSTM_NUM_HIDDEN_STATE, \n",
    "                    NUM_CLASSES, \n",
    "                    NUM_PREDICT)\n",
    "\n",
    "model.summary()"
   ]
  },
  {
   "cell_type": "code",
   "execution_count": 12,
   "metadata": {},
   "outputs": [],
   "source": [
    "model.compile(optimizer='Adadelta', loss='categorical_crossentropy', metrics=['accuracy'])"
   ]
  },
  {
   "cell_type": "markdown",
   "metadata": {},
   "source": [
    "# Training"
   ]
  },
  {
   "cell_type": "code",
   "execution_count": 13,
   "metadata": {},
   "outputs": [],
   "source": [
    "batch_size = 80\n",
    "\n",
    "gen_param = {'data_root_dir': \"/home/user/Bureau/Dataset/udacity/\", \n",
    "             'img_shape': IMAGE_SHAPE, \n",
    "             'num_class': NUM_CLASSES, \n",
    "             'num_prediction': NUM_PREDICT, \n",
    "             'bins_edge': bins_edge,\n",
    "             'batch_size': batch_size, \n",
    "             'shuffle': True, \n",
    "             'lstm_dim_hidden_states': LSTM_NUM_HIDDEN_STATE,\n",
    "             'flip_prob': 0.5}\n",
    "\n",
    "train_gen = DataGenerator(\"./s1p10_data/s1p10_CH2_002_output_training.csv\", **gen_param)\n",
    "val_gen = DataGenerator(\"./s1p10_data/s1p10_CH2_002_output_validation.csv\", **gen_param)"
   ]
  },
  {
   "cell_type": "code",
   "execution_count": 14,
   "metadata": {},
   "outputs": [],
   "source": [
    "time_str = time.strftime(\"%Y_%m_%d_%H_%M\")\n",
    "log_dir = './s1p10_logs/' + time_str\n",
    "tb_callback = keras.callbacks.TensorBoard(log_dir=log_dir,  \n",
    "                                          batch_size=batch_size, \n",
    "                                          update_freq='epoch')"
   ]
  },
  {
   "cell_type": "code",
   "execution_count": 15,
   "metadata": {
    "scrolled": false
   },
   "outputs": [
    {
     "name": "stdout",
     "output_type": "stream",
     "text": [
      "WARNING:tensorflow:From /home/user/venv/lib/python3.6/site-packages/tensorflow/python/ops/math_ops.py:3067: to_int32 (from tensorflow.python.ops.math_ops) is deprecated and will be removed in a future version.\n",
      "Instructions for updating:\n",
      "Use tf.cast instead.\n",
      "Epoch 1/7\n",
      "227/227 [==============================] - 114s 502ms/step - loss: 25.5821 - head_0_loss: 4.5049 - head_1_loss: 4.5112 - head_2_loss: 4.5173 - head_3_loss: 4.4775 - head_4_loss: 4.5147 - head_0_acc: 0.0905 - head_1_acc: 0.0597 - head_2_acc: 0.0971 - head_3_acc: 0.1077 - head_4_acc: 0.0948 - val_loss: 22.3424 - val_head_0_loss: 4.2242 - val_head_1_loss: 3.9844 - val_head_2_loss: 4.1271 - val_head_3_loss: 4.2539 - val_head_4_loss: 3.9487 - val_head_0_acc: 0.1976 - val_head_1_acc: 0.1063 - val_head_2_acc: 0.2043 - val_head_3_acc: 0.1713 - val_head_4_acc: 0.2263\n",
      "Epoch 2/7\n",
      "227/227 [==============================] - 107s 470ms/step - loss: 19.8549 - head_0_loss: 3.6231 - head_1_loss: 3.5806 - head_2_loss: 3.7300 - head_3_loss: 3.6258 - head_4_loss: 3.6600 - head_0_acc: 0.2090 - head_1_acc: 0.1941 - head_2_acc: 0.2003 - head_3_acc: 0.2101 - head_4_acc: 0.2047 - val_loss: 17.8099 - val_head_0_loss: 3.2701 - val_head_1_loss: 3.2146 - val_head_2_loss: 3.3554 - val_head_3_loss: 3.2806 - val_head_4_loss: 3.2494 - val_head_0_acc: 0.2357 - val_head_1_acc: 0.2343 - val_head_2_acc: 0.2325 - val_head_3_acc: 0.2295 - val_head_4_acc: 0.2313\n",
      "Epoch 3/7\n",
      "227/227 [==============================] - 107s 470ms/step - loss: 17.6815 - head_0_loss: 3.2854 - head_1_loss: 3.2743 - head_2_loss: 3.3299 - head_3_loss: 3.2804 - head_4_loss: 3.2758 - head_0_acc: 0.2224 - head_1_acc: 0.2260 - head_2_acc: 0.2263 - head_3_acc: 0.2235 - head_4_acc: 0.2278 - val_loss: 16.6827 - val_head_0_loss: 3.1221 - val_head_1_loss: 3.1101 - val_head_2_loss: 3.1512 - val_head_3_loss: 3.1329 - val_head_4_loss: 3.1142 - val_head_0_acc: 0.2304 - val_head_1_acc: 0.2295 - val_head_2_acc: 0.2302 - val_head_3_acc: 0.2263 - val_head_4_acc: 0.2300\n",
      "Epoch 4/7\n",
      "227/227 [==============================] - 108s 474ms/step - loss: 16.8059 - head_0_loss: 3.1733 - head_1_loss: 3.1766 - head_2_loss: 3.1883 - head_3_loss: 3.1778 - head_4_loss: 3.1626 - head_0_acc: 0.2319 - head_1_acc: 0.2306 - head_2_acc: 0.2280 - head_3_acc: 0.2256 - head_4_acc: 0.2291 - val_loss: 16.2762 - val_head_0_loss: 3.0786 - val_head_1_loss: 3.0822 - val_head_2_loss: 3.1008 - val_head_3_loss: 3.0978 - val_head_4_loss: 3.0859 - val_head_0_acc: 0.2306 - val_head_1_acc: 0.2296 - val_head_2_acc: 0.2303 - val_head_3_acc: 0.2271 - val_head_4_acc: 0.2302\n",
      "Epoch 5/7\n",
      "227/227 [==============================] - 107s 471ms/step - loss: 16.3429 - head_0_loss: 3.1180 - head_1_loss: 3.1109 - head_2_loss: 3.1171 - head_3_loss: 3.1103 - head_4_loss: 3.1074 - head_0_acc: 0.2306 - head_1_acc: 0.2285 - head_2_acc: 0.2274 - head_3_acc: 0.2257 - head_4_acc: 0.2276 - val_loss: 16.2318 - val_head_0_loss: 3.0955 - val_head_1_loss: 3.1002 - val_head_2_loss: 3.1000 - val_head_3_loss: 3.1064 - val_head_4_loss: 3.0951 - val_head_0_acc: 0.2315 - val_head_1_acc: 0.2287 - val_head_2_acc: 0.2292 - val_head_3_acc: 0.2274 - val_head_4_acc: 0.2271\n",
      "Epoch 6/7\n",
      "227/227 [==============================] - 107s 472ms/step - loss: 16.1299 - head_0_loss: 3.0796 - head_1_loss: 3.0819 - head_2_loss: 3.0918 - head_3_loss: 3.0942 - head_4_loss: 3.0821 - head_0_acc: 0.2302 - head_1_acc: 0.2291 - head_2_acc: 0.2294 - head_3_acc: 0.2237 - head_4_acc: 0.2259 - val_loss: 16.5146 - val_head_0_loss: 3.1614 - val_head_1_loss: 3.1732 - val_head_2_loss: 3.1742 - val_head_3_loss: 3.1735 - val_head_4_loss: 3.1609 - val_head_0_acc: 0.2341 - val_head_1_acc: 0.2325 - val_head_2_acc: 0.2313 - val_head_3_acc: 0.2304 - val_head_4_acc: 0.2317\n",
      "Epoch 7/7\n",
      "227/227 [==============================] - 107s 470ms/step - loss: 16.0341 - head_0_loss: 3.0767 - head_1_loss: 3.0722 - head_2_loss: 3.0731 - head_3_loss: 3.0795 - head_4_loss: 3.0749 - head_0_acc: 0.2332 - head_1_acc: 0.2318 - head_2_acc: 0.2294 - head_3_acc: 0.2272 - head_4_acc: 0.2294 - val_loss: 16.0198 - val_head_0_loss: 3.0710 - val_head_1_loss: 3.0703 - val_head_2_loss: 3.0772 - val_head_3_loss: 3.0847 - val_head_4_loss: 3.0765 - val_head_0_acc: 0.2317 - val_head_1_acc: 0.2303 - val_head_2_acc: 0.2313 - val_head_3_acc: 0.2287 - val_head_4_acc: 0.2303\n"
     ]
    },
    {
     "data": {
      "text/plain": [
       "<keras.callbacks.History at 0x7fd74dae8438>"
      ]
     },
     "execution_count": 15,
     "metadata": {},
     "output_type": "execute_result"
    }
   ],
   "source": [
    "model.fit_generator(train_gen,\n",
    "                    class_weight=classes_weight,\n",
    "                    epochs=7,\n",
    "                    validation_data=val_gen,\n",
    "                    initial_epoch=0,\n",
    "                    callbacks=[tb_callback])"
   ]
  },
  {
   "cell_type": "markdown",
   "metadata": {},
   "source": [
    "# Save weights"
   ]
  },
  {
   "cell_type": "code",
   "execution_count": 16,
   "metadata": {},
   "outputs": [],
   "source": [
    "# save shared_lstm\n",
    "save_lstm(LSTM_cell, time_str, log_dir)\n",
    "\n",
    "# save classifier\n",
    "classifier.save_weights(log_dir + \"/classifier_%s.h5\" % time_str)"
   ]
  },
  {
   "cell_type": "code",
   "execution_count": 17,
   "metadata": {},
   "outputs": [
    {
     "data": {
      "text/plain": [
       "'2019_05_28_11_15'"
      ]
     },
     "execution_count": 17,
     "metadata": {},
     "output_type": "execute_result"
    }
   ],
   "source": [
    "time_str"
   ]
  },
  {
   "cell_type": "code",
   "execution_count": null,
   "metadata": {},
   "outputs": [],
   "source": []
  }
 ],
 "metadata": {
  "kernelspec": {
   "display_name": "Python 3",
   "language": "python",
   "name": "python3"
  },
  "language_info": {
   "codemirror_mode": {
    "name": "ipython",
    "version": 3
   },
   "file_extension": ".py",
   "mimetype": "text/x-python",
   "name": "python",
   "nbconvert_exporter": "python",
   "pygments_lexer": "ipython3",
   "version": "3.6.6"
  }
 },
 "nbformat": 4,
 "nbformat_minor": 2
}
