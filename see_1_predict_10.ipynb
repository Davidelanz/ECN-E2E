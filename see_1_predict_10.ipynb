{
 "cells": [
  {
   "cell_type": "markdown",
   "metadata": {},
   "source": [
    "Idea code name: `S1P10`"
   ]
  },
  {
   "cell_type": "code",
   "execution_count": 1,
   "metadata": {},
   "outputs": [
    {
     "name": "stderr",
     "output_type": "stream",
     "text": [
      "Using TensorFlow backend.\n"
     ]
    }
   ],
   "source": [
    "from keras.layers import Input, Dense, LSTM, PReLU, Reshape, Dropout, Activation, BatchNormalization, Lambda\n",
    "from keras.models import model_from_json, Model\n",
    "import keras.backend as K\n",
    "from keras import regularizers\n",
    "import keras\n",
    "\n",
    "from s1p10_model.resnet8_body import resnet8_body\n",
    "\n",
    "from s1p10_training_utils import gen_classifier_dataset\n",
    "\n",
    "import json\n",
    "import time\n",
    "\n",
    "import numpy as np\n",
    "import sklearn"
   ]
  },
  {
   "cell_type": "markdown",
   "metadata": {},
   "source": [
    "# Global Config"
   ]
  },
  {
   "cell_type": "code",
   "execution_count": 2,
   "metadata": {},
   "outputs": [],
   "source": [
    "IMAGE_SHAPE = (200, 200, 1)\n",
    "NUM_LABELS = 10\n",
    "BINS_EDGE = np.load(\"./s1p10_data/s1p10_bins_edge.npy\")\n",
    "NUM_CLASSES = len(BINS_EDGE) - 1  \n",
    "\n",
    "with open('./s1p10_data/s1p10_classes_weight.json', 'r') as fp:\n",
    "    CLASSES_WEIGHT = json.load(fp)"
   ]
  },
  {
   "cell_type": "markdown",
   "metadata": {},
   "source": [
    "# 1. Model Acrchitect\n",
    "\n",
    "1 Image -> ResNet-8 -> Dense regressor -> 5 steering angles\n",
    "\n",
    "## 1.2 Create Encoder\n",
    "Encoder is body of ResNet-8 from `Drone-Net` since it's already trained to recognize road curve -> helpful spatial information\n"
   ]
  },
  {
   "cell_type": "code",
   "execution_count": 3,
   "metadata": {
    "scrolled": true
   },
   "outputs": [
    {
     "name": "stdout",
     "output_type": "stream",
     "text": [
      "WARNING:tensorflow:From /home/user/venv/lib/python3.6/site-packages/tensorflow/python/framework/op_def_library.py:263: colocate_with (from tensorflow.python.framework.ops) is deprecated and will be removed in a future version.\n",
      "Instructions for updating:\n",
      "Colocations handled automatically by placer.\n",
      "WARNING:tensorflow:From /home/user/venv/lib/python3.6/site-packages/tensorflow/python/training/moving_averages.py:210: calling Zeros.__init__ (from tensorflow.python.ops.init_ops) with dtype is deprecated and will be removed in a future version.\n",
      "Instructions for updating:\n",
      "Call initializer instance with the dtype argument instead of passing it to the constructor\n"
     ]
    }
   ],
   "source": [
    "encoder = resnet8_body(IMAGE_SHAPE)\n",
    "# load resnet8 weights\n",
    "# encoder.load_weights(\"./s1p10_model/named_resnet8_best_weights.h5\", by_name=True)\n",
    "# for l in encoder.layers:\n",
    "#     l.trainable = False\n",
    "# encoder.summary()"
   ]
  },
  {
   "cell_type": "markdown",
   "metadata": {},
   "source": [
    "## 1.3 Create Decoder\n",
    "Decoder is a seri of Dense layers with a non-activate Dense layer at the end to perform regression."
   ]
  },
  {
   "cell_type": "markdown",
   "metadata": {},
   "source": [
    "## 1.4 Create Model"
   ]
  },
  {
   "cell_type": "code",
   "execution_count": 4,
   "metadata": {},
   "outputs": [],
   "source": [
    "reshapor = Reshape((1, -1))\n",
    "\n",
    "def s1p10_model(input_shape):\n",
    "    \"\"\"\n",
    "    Define see-1-predict-10 model\n",
    "    \n",
    "    Input:\n",
    "        input_shape (tuple): shape of input image inputted to encoder\n",
    "        \n",
    "    Output:\n",
    "        keras.Model\n",
    "    \"\"\"\n",
    "    X_in = Input(shape=input_shape, name=\"image_in\")\n",
    "    \n",
    "    # extract feature vector\n",
    "    X_feature = encoder(X_in)\n",
    "    X_feature = Dropout(0.5)(X_feature)\n",
    "    \n",
    "    # apply classifier body\n",
    "    X_body = Dense(800, activation='relu')(X_feature)\n",
    "    \n",
    "    # apply classifier head\n",
    "    y = []\n",
    "    for i in range(NUM_LABELS):\n",
    "        X_body_1 = Dropout(0.5)(X_body)\n",
    "        out = Dense(NUM_CLASSES, activation='softmax', name=\"head_%d\" % i)(X_body_1)\n",
    "        y.append(out)\n",
    "    \n",
    "    model = Model(inputs=[X_in], outputs=y)\n",
    "    return model\n",
    "        "
   ]
  },
  {
   "cell_type": "code",
   "execution_count": 5,
   "metadata": {
    "scrolled": false
   },
   "outputs": [
    {
     "name": "stdout",
     "output_type": "stream",
     "text": [
      "WARNING:tensorflow:From /home/user/venv/lib/python3.6/site-packages/keras/backend/tensorflow_backend.py:3445: calling dropout (from tensorflow.python.ops.nn_ops) with keep_prob is deprecated and will be removed in a future version.\n",
      "Instructions for updating:\n",
      "Please use `rate` instead of `keep_prob`. Rate should be set to `rate = 1 - keep_prob`.\n",
      "__________________________________________________________________________________________________\n",
      "Layer (type)                    Output Shape         Param #     Connected to                     \n",
      "==================================================================================================\n",
      "image_in (InputLayer)           (None, 200, 200, 1)  0                                            \n",
      "__________________________________________________________________________________________________\n",
      "resnet8 (Model)                 (None, 6272)         309088      image_in[0][0]                   \n",
      "__________________________________________________________________________________________________\n",
      "dropout_1 (Dropout)             (None, 6272)         0           resnet8[1][0]                    \n",
      "__________________________________________________________________________________________________\n",
      "dense_1 (Dense)                 (None, 800)          5018400     dropout_1[0][0]                  \n",
      "__________________________________________________________________________________________________\n",
      "dropout_2 (Dropout)             (None, 800)          0           dense_1[0][0]                    \n",
      "__________________________________________________________________________________________________\n",
      "dropout_3 (Dropout)             (None, 800)          0           dense_1[0][0]                    \n",
      "__________________________________________________________________________________________________\n",
      "dropout_4 (Dropout)             (None, 800)          0           dense_1[0][0]                    \n",
      "__________________________________________________________________________________________________\n",
      "dropout_5 (Dropout)             (None, 800)          0           dense_1[0][0]                    \n",
      "__________________________________________________________________________________________________\n",
      "dropout_6 (Dropout)             (None, 800)          0           dense_1[0][0]                    \n",
      "__________________________________________________________________________________________________\n",
      "dropout_7 (Dropout)             (None, 800)          0           dense_1[0][0]                    \n",
      "__________________________________________________________________________________________________\n",
      "dropout_8 (Dropout)             (None, 800)          0           dense_1[0][0]                    \n",
      "__________________________________________________________________________________________________\n",
      "dropout_9 (Dropout)             (None, 800)          0           dense_1[0][0]                    \n",
      "__________________________________________________________________________________________________\n",
      "dropout_10 (Dropout)            (None, 800)          0           dense_1[0][0]                    \n",
      "__________________________________________________________________________________________________\n",
      "dropout_11 (Dropout)            (None, 800)          0           dense_1[0][0]                    \n",
      "__________________________________________________________________________________________________\n",
      "head_0 (Dense)                  (None, 114)          91314       dropout_2[0][0]                  \n",
      "__________________________________________________________________________________________________\n",
      "head_1 (Dense)                  (None, 114)          91314       dropout_3[0][0]                  \n",
      "__________________________________________________________________________________________________\n",
      "head_2 (Dense)                  (None, 114)          91314       dropout_4[0][0]                  \n",
      "__________________________________________________________________________________________________\n",
      "head_3 (Dense)                  (None, 114)          91314       dropout_5[0][0]                  \n",
      "__________________________________________________________________________________________________\n",
      "head_4 (Dense)                  (None, 114)          91314       dropout_6[0][0]                  \n",
      "__________________________________________________________________________________________________\n",
      "head_5 (Dense)                  (None, 114)          91314       dropout_7[0][0]                  \n",
      "__________________________________________________________________________________________________\n",
      "head_6 (Dense)                  (None, 114)          91314       dropout_8[0][0]                  \n",
      "__________________________________________________________________________________________________\n",
      "head_7 (Dense)                  (None, 114)          91314       dropout_9[0][0]                  \n",
      "__________________________________________________________________________________________________\n",
      "head_8 (Dense)                  (None, 114)          91314       dropout_10[0][0]                 \n",
      "__________________________________________________________________________________________________\n",
      "head_9 (Dense)                  (None, 114)          91314       dropout_11[0][0]                 \n",
      "==================================================================================================\n",
      "Total params: 6,240,628\n",
      "Trainable params: 6,239,924\n",
      "Non-trainable params: 704\n",
      "__________________________________________________________________________________________________\n"
     ]
    }
   ],
   "source": [
    "model = s1p10_model(IMAGE_SHAPE)\n",
    "\n",
    "model.summary()"
   ]
  },
  {
   "cell_type": "code",
   "execution_count": 6,
   "metadata": {},
   "outputs": [],
   "source": [
    "model.compile(optimizer='Adam', loss=\"categorical_crossentropy\", metrics=['acc'])"
   ]
  },
  {
   "cell_type": "markdown",
   "metadata": {},
   "source": [
    "# Training"
   ]
  },
  {
   "cell_type": "code",
   "execution_count": 7,
   "metadata": {},
   "outputs": [
    {
     "name": "stderr",
     "output_type": "stream",
     "text": [
      "                                                      \r"
     ]
    }
   ],
   "source": [
    "gen_param = {'num_classes': NUM_CLASSES, \n",
    "             'num_labels': NUM_LABELS, \n",
    "             'bins_edge': BINS_EDGE, \n",
    "             'image_shape': IMAGE_SHAPE, \n",
    "             'num_samples': None, \n",
    "             'data_root_dir': \"/home/user/Bureau/Dataset/udacity/\", \n",
    "             'flip_prob': 0.5}\n",
    "\n",
    "X_train, y_train = gen_classifier_dataset(\"./s1p10_data/ext_s1p10_CH2_002_output_training.csv\", **gen_param)\n",
    "# X_train = np.load('./s1p10_data/bottom_half_CH2_training_X.npy')\n",
    "# y_train_arr = np.load('./s1p10_data/bottom_half_CH2_training_y.npy')  # shape (5, len_dataset, num_classes)\n",
    "# y_train = [y_train_arr[i, :, :]for i in range(NUM_LABELS)]\n",
    "\n",
    "X_val, y_val = gen_classifier_dataset(\"./s1p10_data/ext_s1p10_CH2_002_output_validation.csv\", **gen_param)\n",
    "# X_val = np.load('./s1p10_data/bottom_half_CH2_validation_X.npy')\n",
    "# y_val_arr = np.load('./s1p10_data/bottom_half_CH2_validation_y.npy')\n",
    "# y_val = [y_val_arr[i, :, :]for i in range(NUM_LABELS)]"
   ]
  },
  {
   "cell_type": "code",
   "execution_count": 8,
   "metadata": {
    "scrolled": false
   },
   "outputs": [
    {
     "name": "stdout",
     "output_type": "stream",
     "text": [
      "WARNING:tensorflow:From /home/user/venv/lib/python3.6/site-packages/tensorflow/python/ops/math_ops.py:3067: to_int32 (from tensorflow.python.ops.math_ops) is deprecated and will be removed in a future version.\n",
      "Instructions for updating:\n",
      "Use tf.cast instead.\n",
      "Train on 18183 samples, validate on 2021 samples\n",
      "Epoch 1/50\n",
      "18183/18183 [==============================] - 46s 3ms/step - loss: 38.6368 - head_0_loss: 3.8278 - head_1_loss: 3.8444 - head_2_loss: 3.8809 - head_3_loss: 3.8412 - head_4_loss: 3.8110 - head_5_loss: 3.8678 - head_6_loss: 3.8858 - head_7_loss: 3.8744 - head_8_loss: 3.9132 - head_9_loss: 3.8903 - head_0_acc: 0.1983 - head_1_acc: 0.1944 - head_2_acc: 0.1982 - head_3_acc: 0.2059 - head_4_acc: 0.2074 - head_5_acc: 0.2006 - head_6_acc: 0.2043 - head_7_acc: 0.2016 - head_8_acc: 0.1999 - head_9_acc: 0.1977 - val_loss: 24.6432 - val_head_0_loss: 2.4551 - val_head_1_loss: 2.4405 - val_head_2_loss: 2.4241 - val_head_3_loss: 2.4122 - val_head_4_loss: 2.4287 - val_head_5_loss: 2.4364 - val_head_6_loss: 2.4837 - val_head_7_loss: 2.4809 - val_head_8_loss: 2.5261 - val_head_9_loss: 2.5555 - val_head_0_acc: 0.2865 - val_head_1_acc: 0.2914 - val_head_2_acc: 0.2746 - val_head_3_acc: 0.2959 - val_head_4_acc: 0.2919 - val_head_5_acc: 0.2924 - val_head_6_acc: 0.2786 - val_head_7_acc: 0.2712 - val_head_8_acc: 0.2726 - val_head_9_acc: 0.2622\n",
      "Epoch 2/50\n",
      "18183/18183 [==============================] - 42s 2ms/step - loss: 22.2543 - head_0_loss: 2.2616 - head_1_loss: 2.2062 - head_2_loss: 2.1589 - head_3_loss: 2.1498 - head_4_loss: 2.1586 - head_5_loss: 2.1723 - head_6_loss: 2.2167 - head_7_loss: 2.2562 - head_8_loss: 2.3178 - head_9_loss: 2.3562 - head_0_acc: 0.2968 - head_1_acc: 0.3031 - head_2_acc: 0.3132 - head_3_acc: 0.3162 - head_4_acc: 0.3202 - head_5_acc: 0.3233 - head_6_acc: 0.3130 - head_7_acc: 0.3040 - head_8_acc: 0.2998 - head_9_acc: 0.2897 - val_loss: 22.4526 - val_head_0_loss: 2.2832 - val_head_1_loss: 2.2281 - val_head_2_loss: 2.1839 - val_head_3_loss: 2.1579 - val_head_4_loss: 2.1776 - val_head_5_loss: 2.1830 - val_head_6_loss: 2.2374 - val_head_7_loss: 2.2862 - val_head_8_loss: 2.3356 - val_head_9_loss: 2.3798 - val_head_0_acc: 0.3548 - val_head_1_acc: 0.3538 - val_head_2_acc: 0.3671 - val_head_3_acc: 0.3761 - val_head_4_acc: 0.3775 - val_head_5_acc: 0.3894 - val_head_6_acc: 0.3691 - val_head_7_acc: 0.3602 - val_head_8_acc: 0.3459 - val_head_9_acc: 0.3345\n",
      "Epoch 3/50\n",
      "18183/18183 [==============================] - 42s 2ms/step - loss: 19.0193 - head_0_loss: 2.0002 - head_1_loss: 1.9133 - head_2_loss: 1.8316 - head_3_loss: 1.7964 - head_4_loss: 1.7934 - head_5_loss: 1.8156 - head_6_loss: 1.8625 - head_7_loss: 1.9315 - head_8_loss: 2.0044 - head_9_loss: 2.0704 - head_0_acc: 0.3534 - head_1_acc: 0.3666 - head_2_acc: 0.3811 - head_3_acc: 0.3887 - head_4_acc: 0.3959 - head_5_acc: 0.3926 - head_6_acc: 0.3855 - head_7_acc: 0.3733 - head_8_acc: 0.3573 - head_9_acc: 0.3426 - val_loss: 19.1305 - val_head_0_loss: 1.9954 - val_head_1_loss: 1.9232 - val_head_2_loss: 1.8409 - val_head_3_loss: 1.7966 - val_head_4_loss: 1.8051 - val_head_5_loss: 1.8296 - val_head_6_loss: 1.8978 - val_head_7_loss: 1.9486 - val_head_8_loss: 2.0183 - val_head_9_loss: 2.0751 - val_head_0_acc: 0.3820 - val_head_1_acc: 0.4122 - val_head_2_acc: 0.4181 - val_head_3_acc: 0.4458 - val_head_4_acc: 0.4453 - val_head_5_acc: 0.4315 - val_head_6_acc: 0.4117 - val_head_7_acc: 0.4082 - val_head_8_acc: 0.3795 - val_head_9_acc: 0.3662\n",
      "Epoch 4/50\n",
      "18183/18183 [==============================] - 42s 2ms/step - loss: 17.1973 - head_0_loss: 1.8460 - head_1_loss: 1.7453 - head_2_loss: 1.6525 - head_3_loss: 1.6009 - head_4_loss: 1.6064 - head_5_loss: 1.6216 - head_6_loss: 1.6669 - head_7_loss: 1.7384 - head_8_loss: 1.8213 - head_9_loss: 1.8981 - head_0_acc: 0.3904 - head_1_acc: 0.4101 - head_2_acc: 0.4244 - head_3_acc: 0.4424 - head_4_acc: 0.4449 - head_5_acc: 0.4435 - head_6_acc: 0.4379 - head_7_acc: 0.4265 - head_8_acc: 0.4043 - head_9_acc: 0.3902 - val_loss: 16.7426 - val_head_0_loss: 1.7933 - val_head_1_loss: 1.7195 - val_head_2_loss: 1.6180 - val_head_3_loss: 1.5468 - val_head_4_loss: 1.5493 - val_head_5_loss: 1.5745 - val_head_6_loss: 1.6311 - val_head_7_loss: 1.6989 - val_head_8_loss: 1.7672 - val_head_9_loss: 1.8439 - val_head_0_acc: 0.4137 - val_head_1_acc: 0.4201 - val_head_2_acc: 0.4443 - val_head_3_acc: 0.4770 - val_head_4_acc: 0.4918 - val_head_5_acc: 0.4711 - val_head_6_acc: 0.4706 - val_head_7_acc: 0.4513 - val_head_8_acc: 0.4265 - val_head_9_acc: 0.4008\n",
      "Epoch 5/50\n",
      "18183/18183 [==============================] - 43s 2ms/step - loss: 15.8571 - head_0_loss: 1.7232 - head_1_loss: 1.6086 - head_2_loss: 1.5111 - head_3_loss: 1.4626 - head_4_loss: 1.4623 - head_5_loss: 1.4894 - head_6_loss: 1.5288 - head_7_loss: 1.6108 - head_8_loss: 1.6887 - head_9_loss: 1.7717 - head_0_acc: 0.4241 - head_1_acc: 0.4504 - head_2_acc: 0.4715 - head_3_acc: 0.4867 - head_4_acc: 0.4853 - head_5_acc: 0.4803 - head_6_acc: 0.4787 - head_7_acc: 0.4545 - head_8_acc: 0.4445 - head_9_acc: 0.4201 - val_loss: 15.7313 - val_head_0_loss: 1.7112 - val_head_1_loss: 1.6136 - val_head_2_loss: 1.5086 - val_head_3_loss: 1.4441 - val_head_4_loss: 1.4408 - val_head_5_loss: 1.4649 - val_head_6_loss: 1.5325 - val_head_7_loss: 1.6043 - val_head_8_loss: 1.6658 - val_head_9_loss: 1.7456 - val_head_0_acc: 0.4374 - val_head_1_acc: 0.4617 - val_head_2_acc: 0.4884 - val_head_3_acc: 0.5176 - val_head_4_acc: 0.5215 - val_head_5_acc: 0.5205 - val_head_6_acc: 0.5037 - val_head_7_acc: 0.4844 - val_head_8_acc: 0.4607 - val_head_9_acc: 0.4325\n",
      "Epoch 6/50\n",
      "18183/18183 [==============================] - 42s 2ms/step - loss: 14.6414 - head_0_loss: 1.6193 - head_1_loss: 1.4940 - head_2_loss: 1.4012 - head_3_loss: 1.3410 - head_4_loss: 1.3412 - head_5_loss: 1.3619 - head_6_loss: 1.4027 - head_7_loss: 1.4749 - head_8_loss: 1.5590 - head_9_loss: 1.6463 - head_0_acc: 0.4554 - head_1_acc: 0.4859 - head_2_acc: 0.5099 - head_3_acc: 0.5274 - head_4_acc: 0.5274 - head_5_acc: 0.5225 - head_6_acc: 0.5180 - head_7_acc: 0.4990 - head_8_acc: 0.4806 - head_9_acc: 0.4572 - val_loss: 14.2850 - val_head_0_loss: 1.5864 - val_head_1_loss: 1.4977 - val_head_2_loss: 1.3764 - val_head_3_loss: 1.2933 - val_head_4_loss: 1.2917 - val_head_5_loss: 1.3081 - val_head_6_loss: 1.3720 - val_head_7_loss: 1.4500 - val_head_8_loss: 1.5076 - val_head_9_loss: 1.6019 - val_head_0_acc: 0.4621 - val_head_1_acc: 0.4800 - val_head_2_acc: 0.5106 - val_head_3_acc: 0.5388 - val_head_4_acc: 0.5482 - val_head_5_acc: 0.5552 - val_head_6_acc: 0.5309 - val_head_7_acc: 0.5121 - val_head_8_acc: 0.4913 - val_head_9_acc: 0.4513\n",
      "Epoch 7/50\n",
      "18183/18183 [==============================] - 42s 2ms/step - loss: 13.6922 - head_0_loss: 1.5327 - head_1_loss: 1.4039 - head_2_loss: 1.3115 - head_3_loss: 1.2495 - head_4_loss: 1.2485 - head_5_loss: 1.2690 - head_6_loss: 1.3117 - head_7_loss: 1.3685 - head_8_loss: 1.4570 - head_9_loss: 1.5399 - head_0_acc: 0.4875 - head_1_acc: 0.5182 - head_2_acc: 0.5398 - head_3_acc: 0.5549 - head_4_acc: 0.5587 - head_5_acc: 0.5524 - head_6_acc: 0.5463 - head_7_acc: 0.5375 - head_8_acc: 0.5111 - head_9_acc: 0.4904 - val_loss: 13.0957 - val_head_0_loss: 1.4665 - val_head_1_loss: 1.3490 - val_head_2_loss: 1.2464 - val_head_3_loss: 1.1833 - val_head_4_loss: 1.1839 - val_head_5_loss: 1.2020 - val_head_6_loss: 1.2579 - val_head_7_loss: 1.3245 - val_head_8_loss: 1.3893 - val_head_9_loss: 1.4928 - val_head_0_acc: 0.5082 - val_head_1_acc: 0.5275 - val_head_2_acc: 0.5641 - val_head_3_acc: 0.5784 - val_head_4_acc: 0.5878 - val_head_5_acc: 0.5799 - val_head_6_acc: 0.5680 - val_head_7_acc: 0.5670 - val_head_8_acc: 0.5344 - val_head_9_acc: 0.4943\n",
      "Epoch 8/50\n",
      "18183/18183 [==============================] - 42s 2ms/step - loss: 12.7576 - head_0_loss: 1.4295 - head_1_loss: 1.3127 - head_2_loss: 1.2151 - head_3_loss: 1.1634 - head_4_loss: 1.1599 - head_5_loss: 1.1830 - head_6_loss: 1.2098 - head_7_loss: 1.2820 - head_8_loss: 1.3557 - head_9_loss: 1.4464 - head_0_acc: 0.5152 - head_1_acc: 0.5451 - head_2_acc: 0.5723 - head_3_acc: 0.5890 - head_4_acc: 0.5846 - head_5_acc: 0.5832 - head_6_acc: 0.5793 - head_7_acc: 0.5639 - head_8_acc: 0.5453 - head_9_acc: 0.5149 - val_loss: 12.7108 - val_head_0_loss: 1.4363 - val_head_1_loss: 1.3225 - val_head_2_loss: 1.2081 - val_head_3_loss: 1.1392 - val_head_4_loss: 1.1436 - val_head_5_loss: 1.1613 - val_head_6_loss: 1.2234 - val_head_7_loss: 1.2825 - val_head_8_loss: 1.3528 - val_head_9_loss: 1.4410 - val_head_0_acc: 0.5087 - val_head_1_acc: 0.5458 - val_head_2_acc: 0.5745 - val_head_3_acc: 0.5948 - val_head_4_acc: 0.6101 - val_head_5_acc: 0.6032 - val_head_6_acc: 0.5883 - val_head_7_acc: 0.5690 - val_head_8_acc: 0.5576 - val_head_9_acc: 0.5146\n"
     ]
    },
    {
     "name": "stdout",
     "output_type": "stream",
     "text": [
      "Epoch 9/50\n",
      "18183/18183 [==============================] - 42s 2ms/step - loss: 11.9963 - head_0_loss: 1.3575 - head_1_loss: 1.2341 - head_2_loss: 1.1446 - head_3_loss: 1.0948 - head_4_loss: 1.0921 - head_5_loss: 1.1147 - head_6_loss: 1.1389 - head_7_loss: 1.1879 - head_8_loss: 1.2692 - head_9_loss: 1.3625 - head_0_acc: 0.5392 - head_1_acc: 0.5763 - head_2_acc: 0.5949 - head_3_acc: 0.6095 - head_4_acc: 0.6148 - head_5_acc: 0.6108 - head_6_acc: 0.6017 - head_7_acc: 0.5943 - head_8_acc: 0.5685 - head_9_acc: 0.5507 - val_loss: 12.3057 - val_head_0_loss: 1.3984 - val_head_1_loss: 1.2781 - val_head_2_loss: 1.1681 - val_head_3_loss: 1.1136 - val_head_4_loss: 1.1071 - val_head_5_loss: 1.1223 - val_head_6_loss: 1.1769 - val_head_7_loss: 1.2391 - val_head_8_loss: 1.3036 - val_head_9_loss: 1.3985 - val_head_0_acc: 0.5398 - val_head_1_acc: 0.5720 - val_head_2_acc: 0.6002 - val_head_3_acc: 0.6343 - val_head_4_acc: 0.6299 - val_head_5_acc: 0.6121 - val_head_6_acc: 0.6042 - val_head_7_acc: 0.5898 - val_head_8_acc: 0.5720 - val_head_9_acc: 0.5354\n",
      "Epoch 10/50\n",
      "18183/18183 [==============================] - 42s 2ms/step - loss: 11.2309 - head_0_loss: 1.2915 - head_1_loss: 1.1519 - head_2_loss: 1.0588 - head_3_loss: 1.0317 - head_4_loss: 1.0243 - head_5_loss: 1.0344 - head_6_loss: 1.0644 - head_7_loss: 1.1073 - head_8_loss: 1.1876 - head_9_loss: 1.2789 - head_0_acc: 0.5617 - head_1_acc: 0.6012 - head_2_acc: 0.6232 - head_3_acc: 0.6356 - head_4_acc: 0.6334 - head_5_acc: 0.6306 - head_6_acc: 0.6327 - head_7_acc: 0.6189 - head_8_acc: 0.5976 - head_9_acc: 0.5670 - val_loss: 11.9918 - val_head_0_loss: 1.3590 - val_head_1_loss: 1.2495 - val_head_2_loss: 1.1340 - val_head_3_loss: 1.0826 - val_head_4_loss: 1.0818 - val_head_5_loss: 1.0923 - val_head_6_loss: 1.1491 - val_head_7_loss: 1.2055 - val_head_8_loss: 1.2788 - val_head_9_loss: 1.3593 - val_head_0_acc: 0.5423 - val_head_1_acc: 0.5735 - val_head_2_acc: 0.5957 - val_head_3_acc: 0.6284 - val_head_4_acc: 0.6319 - val_head_5_acc: 0.6259 - val_head_6_acc: 0.6051 - val_head_7_acc: 0.5977 - val_head_8_acc: 0.5656 - val_head_9_acc: 0.5403\n",
      "Epoch 11/50\n",
      "18183/18183 [==============================] - 42s 2ms/step - loss: 10.5717 - head_0_loss: 1.2044 - head_1_loss: 1.0772 - head_2_loss: 0.9986 - head_3_loss: 0.9694 - head_4_loss: 0.9760 - head_5_loss: 0.9822 - head_6_loss: 0.9922 - head_7_loss: 1.0400 - head_8_loss: 1.1207 - head_9_loss: 1.2111 - head_0_acc: 0.5883 - head_1_acc: 0.6273 - head_2_acc: 0.6435 - head_3_acc: 0.6530 - head_4_acc: 0.6499 - head_5_acc: 0.6572 - head_6_acc: 0.6487 - head_7_acc: 0.6415 - head_8_acc: 0.6224 - head_9_acc: 0.5909 - val_loss: 11.5381 - val_head_0_loss: 1.3227 - val_head_1_loss: 1.1949 - val_head_2_loss: 1.0896 - val_head_3_loss: 1.0538 - val_head_4_loss: 1.0577 - val_head_5_loss: 1.0517 - val_head_6_loss: 1.0963 - val_head_7_loss: 1.1529 - val_head_8_loss: 1.2211 - val_head_9_loss: 1.2973 - val_head_0_acc: 0.5641 - val_head_1_acc: 0.6027 - val_head_2_acc: 0.6220 - val_head_3_acc: 0.6418 - val_head_4_acc: 0.6487 - val_head_5_acc: 0.6423 - val_head_6_acc: 0.6309 - val_head_7_acc: 0.6106 - val_head_8_acc: 0.5987 - val_head_9_acc: 0.5626\n",
      "Epoch 12/50\n",
      "18183/18183 [==============================] - 42s 2ms/step - loss: 9.8761 - head_0_loss: 1.1458 - head_1_loss: 1.0115 - head_2_loss: 0.9361 - head_3_loss: 0.9015 - head_4_loss: 0.8980 - head_5_loss: 0.9188 - head_6_loss: 0.9340 - head_7_loss: 0.9664 - head_8_loss: 1.0320 - head_9_loss: 1.1320 - head_0_acc: 0.6123 - head_1_acc: 0.6485 - head_2_acc: 0.6691 - head_3_acc: 0.6785 - head_4_acc: 0.6773 - head_5_acc: 0.6710 - head_6_acc: 0.6709 - head_7_acc: 0.6643 - head_8_acc: 0.6445 - head_9_acc: 0.6163 - val_loss: 10.9316 - val_head_0_loss: 1.2563 - val_head_1_loss: 1.1226 - val_head_2_loss: 1.0317 - val_head_3_loss: 0.9941 - val_head_4_loss: 1.0016 - val_head_5_loss: 1.0013 - val_head_6_loss: 1.0369 - val_head_7_loss: 1.0937 - val_head_8_loss: 1.1484 - val_head_9_loss: 1.2449 - val_head_0_acc: 0.5888 - val_head_1_acc: 0.6259 - val_head_2_acc: 0.6284 - val_head_3_acc: 0.6452 - val_head_4_acc: 0.6507 - val_head_5_acc: 0.6551 - val_head_6_acc: 0.6536 - val_head_7_acc: 0.6304 - val_head_8_acc: 0.6175 - val_head_9_acc: 0.5755\n",
      "Epoch 13/50\n",
      "18183/18183 [==============================] - 42s 2ms/step - loss: 9.3795 - head_0_loss: 1.0908 - head_1_loss: 0.9542 - head_2_loss: 0.9004 - head_3_loss: 0.8586 - head_4_loss: 0.8615 - head_5_loss: 0.8768 - head_6_loss: 0.8764 - head_7_loss: 0.9107 - head_8_loss: 0.9726 - head_9_loss: 1.0776 - head_0_acc: 0.6271 - head_1_acc: 0.6660 - head_2_acc: 0.6790 - head_3_acc: 0.6908 - head_4_acc: 0.6920 - head_5_acc: 0.6826 - head_6_acc: 0.6909 - head_7_acc: 0.6789 - head_8_acc: 0.6627 - head_9_acc: 0.6323 - val_loss: 10.4944 - val_head_0_loss: 1.2102 - val_head_1_loss: 1.0886 - val_head_2_loss: 0.9871 - val_head_3_loss: 0.9543 - val_head_4_loss: 0.9491 - val_head_5_loss: 0.9615 - val_head_6_loss: 0.9897 - val_head_7_loss: 1.0483 - val_head_8_loss: 1.1111 - val_head_9_loss: 1.1944 - val_head_0_acc: 0.5933 - val_head_1_acc: 0.6353 - val_head_2_acc: 0.6517 - val_head_3_acc: 0.6759 - val_head_4_acc: 0.6719 - val_head_5_acc: 0.6749 - val_head_6_acc: 0.6680 - val_head_7_acc: 0.6531 - val_head_8_acc: 0.6333 - val_head_9_acc: 0.5972\n",
      "Epoch 14/50\n",
      "18183/18183 [==============================] - 43s 2ms/step - loss: 8.8829 - head_0_loss: 1.0269 - head_1_loss: 0.9046 - head_2_loss: 0.8368 - head_3_loss: 0.8202 - head_4_loss: 0.8156 - head_5_loss: 0.8225 - head_6_loss: 0.8483 - head_7_loss: 0.8662 - head_8_loss: 0.9147 - head_9_loss: 1.0273 - head_0_acc: 0.6493 - head_1_acc: 0.6787 - head_2_acc: 0.7011 - head_3_acc: 0.7100 - head_4_acc: 0.7055 - head_5_acc: 0.7044 - head_6_acc: 0.7046 - head_7_acc: 0.6976 - head_8_acc: 0.6876 - head_9_acc: 0.6530 - val_loss: 10.4606 - val_head_0_loss: 1.2055 - val_head_1_loss: 1.0719 - val_head_2_loss: 0.9829 - val_head_3_loss: 0.9678 - val_head_4_loss: 0.9586 - val_head_5_loss: 0.9556 - val_head_6_loss: 0.9965 - val_head_7_loss: 1.0426 - val_head_8_loss: 1.0954 - val_head_9_loss: 1.1838 - val_head_0_acc: 0.6056 - val_head_1_acc: 0.6497 - val_head_2_acc: 0.6482 - val_head_3_acc: 0.6640 - val_head_4_acc: 0.6789 - val_head_5_acc: 0.6769 - val_head_6_acc: 0.6675 - val_head_7_acc: 0.6576 - val_head_8_acc: 0.6408 - val_head_9_acc: 0.6121\n",
      "Epoch 15/50\n",
      "18183/18183 [==============================] - 42s 2ms/step - loss: 8.3863 - head_0_loss: 0.9797 - head_1_loss: 0.8467 - head_2_loss: 0.7923 - head_3_loss: 0.7693 - head_4_loss: 0.7742 - head_5_loss: 0.7802 - head_6_loss: 0.7923 - head_7_loss: 0.8176 - head_8_loss: 0.8753 - head_9_loss: 0.9589 - head_0_acc: 0.6606 - head_1_acc: 0.6997 - head_2_acc: 0.7132 - head_3_acc: 0.7244 - head_4_acc: 0.7179 - head_5_acc: 0.7193 - head_6_acc: 0.7150 - head_7_acc: 0.7121 - head_8_acc: 0.6931 - head_9_acc: 0.6706 - val_loss: 9.8350 - val_head_0_loss: 1.1337 - val_head_1_loss: 1.0140 - val_head_2_loss: 0.9262 - val_head_3_loss: 0.9181 - val_head_4_loss: 0.9023 - val_head_5_loss: 0.8972 - val_head_6_loss: 0.9289 - val_head_7_loss: 0.9772 - val_head_8_loss: 1.0273 - val_head_9_loss: 1.1101 - val_head_0_acc: 0.6150 - val_head_1_acc: 0.6531 - val_head_2_acc: 0.6714 - val_head_3_acc: 0.6769 - val_head_4_acc: 0.6992 - val_head_5_acc: 0.6912 - val_head_6_acc: 0.6853 - val_head_7_acc: 0.6734 - val_head_8_acc: 0.6487 - val_head_9_acc: 0.6343\n",
      "Epoch 16/50\n",
      "18183/18183 [==============================] - 42s 2ms/step - loss: 8.0107 - head_0_loss: 0.9404 - head_1_loss: 0.8198 - head_2_loss: 0.7595 - head_3_loss: 0.7393 - head_4_loss: 0.7329 - head_5_loss: 0.7508 - head_6_loss: 0.7487 - head_7_loss: 0.7849 - head_8_loss: 0.8135 - head_9_loss: 0.9210 - head_0_acc: 0.6740 - head_1_acc: 0.7108 - head_2_acc: 0.7239 - head_3_acc: 0.7334 - head_4_acc: 0.7331 - head_5_acc: 0.7277 - head_6_acc: 0.7347 - head_7_acc: 0.7203 - head_8_acc: 0.7139 - head_9_acc: 0.6834 - val_loss: 9.4709 - val_head_0_loss: 1.0970 - val_head_1_loss: 0.9680 - val_head_2_loss: 0.8737 - val_head_3_loss: 0.8787 - val_head_4_loss: 0.8673 - val_head_5_loss: 0.8731 - val_head_6_loss: 0.9007 - val_head_7_loss: 0.9511 - val_head_8_loss: 0.9904 - val_head_9_loss: 1.0710 - val_head_0_acc: 0.6294 - val_head_1_acc: 0.6739 - val_head_2_acc: 0.6843 - val_head_3_acc: 0.6898 - val_head_4_acc: 0.6972 - val_head_5_acc: 0.6888 - val_head_6_acc: 0.6927 - val_head_7_acc: 0.6769 - val_head_8_acc: 0.6635 - val_head_9_acc: 0.6437\n"
     ]
    },
    {
     "name": "stdout",
     "output_type": "stream",
     "text": [
      "Epoch 17/50\n",
      "18183/18183 [==============================] - 42s 2ms/step - loss: 7.6597 - head_0_loss: 0.8977 - head_1_loss: 0.7732 - head_2_loss: 0.7280 - head_3_loss: 0.7053 - head_4_loss: 0.7015 - head_5_loss: 0.7227 - head_6_loss: 0.7271 - head_7_loss: 0.7424 - head_8_loss: 0.7849 - head_9_loss: 0.8770 - head_0_acc: 0.6880 - head_1_acc: 0.7275 - head_2_acc: 0.7352 - head_3_acc: 0.7404 - head_4_acc: 0.7491 - head_5_acc: 0.7383 - head_6_acc: 0.7380 - head_7_acc: 0.7329 - head_8_acc: 0.7269 - head_9_acc: 0.7005 - val_loss: 9.6297 - val_head_0_loss: 1.1116 - val_head_1_loss: 0.9910 - val_head_2_loss: 0.9036 - val_head_3_loss: 0.9009 - val_head_4_loss: 0.8873 - val_head_5_loss: 0.8787 - val_head_6_loss: 0.9101 - val_head_7_loss: 0.9641 - val_head_8_loss: 1.0031 - val_head_9_loss: 1.0793 - val_head_0_acc: 0.6220 - val_head_1_acc: 0.6744 - val_head_2_acc: 0.6883 - val_head_3_acc: 0.6729 - val_head_4_acc: 0.6952 - val_head_5_acc: 0.7051 - val_head_6_acc: 0.6957 - val_head_7_acc: 0.6680 - val_head_8_acc: 0.6690 - val_head_9_acc: 0.6353\n",
      "Epoch 18/50\n",
      "18183/18183 [==============================] - 42s 2ms/step - loss: 7.3441 - head_0_loss: 0.8575 - head_1_loss: 0.7501 - head_2_loss: 0.6909 - head_3_loss: 0.6827 - head_4_loss: 0.6828 - head_5_loss: 0.6809 - head_6_loss: 0.6997 - head_7_loss: 0.7101 - head_8_loss: 0.7495 - head_9_loss: 0.8400 - head_0_acc: 0.6988 - head_1_acc: 0.7332 - head_2_acc: 0.7491 - head_3_acc: 0.7478 - head_4_acc: 0.7520 - head_5_acc: 0.7513 - head_6_acc: 0.7462 - head_7_acc: 0.7443 - head_8_acc: 0.7355 - head_9_acc: 0.7070 - val_loss: 9.6543 - val_head_0_loss: 1.1107 - val_head_1_loss: 0.9909 - val_head_2_loss: 0.8990 - val_head_3_loss: 0.8996 - val_head_4_loss: 0.8922 - val_head_5_loss: 0.9005 - val_head_6_loss: 0.9214 - val_head_7_loss: 0.9674 - val_head_8_loss: 1.0007 - val_head_9_loss: 1.0718 - val_head_0_acc: 0.6378 - val_head_1_acc: 0.6714 - val_head_2_acc: 0.6809 - val_head_3_acc: 0.6898 - val_head_4_acc: 0.6858 - val_head_5_acc: 0.6922 - val_head_6_acc: 0.7031 - val_head_7_acc: 0.6848 - val_head_8_acc: 0.6685 - val_head_9_acc: 0.6482\n",
      "Epoch 19/50\n",
      "18183/18183 [==============================] - 42s 2ms/step - loss: 7.0450 - head_0_loss: 0.8334 - head_1_loss: 0.7170 - head_2_loss: 0.6646 - head_3_loss: 0.6536 - head_4_loss: 0.6547 - head_5_loss: 0.6634 - head_6_loss: 0.6717 - head_7_loss: 0.6688 - head_8_loss: 0.7237 - head_9_loss: 0.7942 - head_0_acc: 0.7096 - head_1_acc: 0.7443 - head_2_acc: 0.7597 - head_3_acc: 0.7584 - head_4_acc: 0.7592 - head_5_acc: 0.7583 - head_6_acc: 0.7569 - head_7_acc: 0.7571 - head_8_acc: 0.7499 - head_9_acc: 0.7234 - val_loss: 9.0135 - val_head_0_loss: 1.0434 - val_head_1_loss: 0.9325 - val_head_2_loss: 0.8419 - val_head_3_loss: 0.8389 - val_head_4_loss: 0.8261 - val_head_5_loss: 0.8335 - val_head_6_loss: 0.8626 - val_head_7_loss: 0.8981 - val_head_8_loss: 0.9249 - val_head_9_loss: 1.0116 - val_head_0_acc: 0.6556 - val_head_1_acc: 0.6932 - val_head_2_acc: 0.7026 - val_head_3_acc: 0.6962 - val_head_4_acc: 0.7175 - val_head_5_acc: 0.7130 - val_head_6_acc: 0.7091 - val_head_7_acc: 0.6987 - val_head_8_acc: 0.6912 - val_head_9_acc: 0.6586\n",
      "Epoch 20/50\n",
      "18183/18183 [==============================] - 42s 2ms/step - loss: 6.7692 - head_0_loss: 0.7946 - head_1_loss: 0.6829 - head_2_loss: 0.6399 - head_3_loss: 0.6248 - head_4_loss: 0.6373 - head_5_loss: 0.6346 - head_6_loss: 0.6403 - head_7_loss: 0.6468 - head_8_loss: 0.6952 - head_9_loss: 0.7728 - head_0_acc: 0.7219 - head_1_acc: 0.7585 - head_2_acc: 0.7697 - head_3_acc: 0.7731 - head_4_acc: 0.7693 - head_5_acc: 0.7704 - head_6_acc: 0.7665 - head_7_acc: 0.7649 - head_8_acc: 0.7546 - head_9_acc: 0.7297 - val_loss: 9.0402 - val_head_0_loss: 1.0432 - val_head_1_loss: 0.9299 - val_head_2_loss: 0.8485 - val_head_3_loss: 0.8472 - val_head_4_loss: 0.8359 - val_head_5_loss: 0.8351 - val_head_6_loss: 0.8564 - val_head_7_loss: 0.8946 - val_head_8_loss: 0.9363 - val_head_9_loss: 1.0131 - val_head_0_acc: 0.6660 - val_head_1_acc: 0.7006 - val_head_2_acc: 0.6982 - val_head_3_acc: 0.7016 - val_head_4_acc: 0.7061 - val_head_5_acc: 0.7130 - val_head_6_acc: 0.7145 - val_head_7_acc: 0.7066 - val_head_8_acc: 0.6962 - val_head_9_acc: 0.6665\n",
      "Epoch 21/50\n",
      "18183/18183 [==============================] - 42s 2ms/step - loss: 6.5652 - head_0_loss: 0.7729 - head_1_loss: 0.6592 - head_2_loss: 0.6167 - head_3_loss: 0.6107 - head_4_loss: 0.6116 - head_5_loss: 0.6194 - head_6_loss: 0.6172 - head_7_loss: 0.6359 - head_8_loss: 0.6665 - head_9_loss: 0.7551 - head_0_acc: 0.7272 - head_1_acc: 0.7637 - head_2_acc: 0.7742 - head_3_acc: 0.7745 - head_4_acc: 0.7759 - head_5_acc: 0.7708 - head_6_acc: 0.7768 - head_7_acc: 0.7723 - head_8_acc: 0.7626 - head_9_acc: 0.7354 - val_loss: 9.4457 - val_head_0_loss: 1.0764 - val_head_1_loss: 0.9622 - val_head_2_loss: 0.8714 - val_head_3_loss: 0.8885 - val_head_4_loss: 0.8762 - val_head_5_loss: 0.8924 - val_head_6_loss: 0.9067 - val_head_7_loss: 0.9543 - val_head_8_loss: 0.9723 - val_head_9_loss: 1.0454 - val_head_0_acc: 0.6611 - val_head_1_acc: 0.6858 - val_head_2_acc: 0.7026 - val_head_3_acc: 0.6967 - val_head_4_acc: 0.6977 - val_head_5_acc: 0.7061 - val_head_6_acc: 0.7100 - val_head_7_acc: 0.6853 - val_head_8_acc: 0.6868 - val_head_9_acc: 0.6650\n",
      "Epoch 22/50\n",
      "18183/18183 [==============================] - 42s 2ms/step - loss: 6.3536 - head_0_loss: 0.7455 - head_1_loss: 0.6417 - head_2_loss: 0.6000 - head_3_loss: 0.5883 - head_4_loss: 0.5934 - head_5_loss: 0.5992 - head_6_loss: 0.5991 - head_7_loss: 0.6059 - head_8_loss: 0.6495 - head_9_loss: 0.7310 - head_0_acc: 0.7380 - head_1_acc: 0.7685 - head_2_acc: 0.7833 - head_3_acc: 0.7837 - head_4_acc: 0.7805 - head_5_acc: 0.7795 - head_6_acc: 0.7806 - head_7_acc: 0.7821 - head_8_acc: 0.7700 - head_9_acc: 0.7440 - val_loss: 8.7321 - val_head_0_loss: 1.0112 - val_head_1_loss: 0.8927 - val_head_2_loss: 0.8226 - val_head_3_loss: 0.8213 - val_head_4_loss: 0.8159 - val_head_5_loss: 0.8072 - val_head_6_loss: 0.8198 - val_head_7_loss: 0.8687 - val_head_8_loss: 0.9006 - val_head_9_loss: 0.9723 - val_head_0_acc: 0.6680 - val_head_1_acc: 0.7130 - val_head_2_acc: 0.7036 - val_head_3_acc: 0.7021 - val_head_4_acc: 0.7140 - val_head_5_acc: 0.7269 - val_head_6_acc: 0.7298 - val_head_7_acc: 0.7095 - val_head_8_acc: 0.7036 - val_head_9_acc: 0.6853\n",
      "Epoch 23/50\n",
      "18183/18183 [==============================] - 42s 2ms/step - loss: 6.0952 - head_0_loss: 0.7156 - head_1_loss: 0.6049 - head_2_loss: 0.5820 - head_3_loss: 0.5757 - head_4_loss: 0.5732 - head_5_loss: 0.5616 - head_6_loss: 0.5795 - head_7_loss: 0.5860 - head_8_loss: 0.6100 - head_9_loss: 0.7067 - head_0_acc: 0.7455 - head_1_acc: 0.7784 - head_2_acc: 0.7863 - head_3_acc: 0.7916 - head_4_acc: 0.7867 - head_5_acc: 0.7911 - head_6_acc: 0.7889 - head_7_acc: 0.7867 - head_8_acc: 0.7818 - head_9_acc: 0.7553 - val_loss: 8.5617 - val_head_0_loss: 0.9859 - val_head_1_loss: 0.8772 - val_head_2_loss: 0.7957 - val_head_3_loss: 0.7975 - val_head_4_loss: 0.8035 - val_head_5_loss: 0.8035 - val_head_6_loss: 0.8100 - val_head_7_loss: 0.8539 - val_head_8_loss: 0.8720 - val_head_9_loss: 0.9624 - val_head_0_acc: 0.6759 - val_head_1_acc: 0.7105 - val_head_2_acc: 0.7190 - val_head_3_acc: 0.7254 - val_head_4_acc: 0.7194 - val_head_5_acc: 0.7244 - val_head_6_acc: 0.7382 - val_head_7_acc: 0.7105 - val_head_8_acc: 0.7061 - val_head_9_acc: 0.6813\n",
      "Epoch 24/50\n",
      "18183/18183 [==============================] - 42s 2ms/step - loss: 5.9392 - head_0_loss: 0.6963 - head_1_loss: 0.5854 - head_2_loss: 0.5670 - head_3_loss: 0.5665 - head_4_loss: 0.5518 - head_5_loss: 0.5616 - head_6_loss: 0.5628 - head_7_loss: 0.5669 - head_8_loss: 0.5990 - head_9_loss: 0.6819 - head_0_acc: 0.7524 - head_1_acc: 0.7864 - head_2_acc: 0.7952 - head_3_acc: 0.7883 - head_4_acc: 0.7968 - head_5_acc: 0.7955 - head_6_acc: 0.7941 - head_7_acc: 0.7925 - head_8_acc: 0.7848 - head_9_acc: 0.7575 - val_loss: 8.8521 - val_head_0_loss: 1.0193 - val_head_1_loss: 0.8994 - val_head_2_loss: 0.8130 - val_head_3_loss: 0.8320 - val_head_4_loss: 0.8318 - val_head_5_loss: 0.8321 - val_head_6_loss: 0.8502 - val_head_7_loss: 0.8953 - val_head_8_loss: 0.9047 - val_head_9_loss: 0.9741 - val_head_0_acc: 0.6611 - val_head_1_acc: 0.7001 - val_head_2_acc: 0.7175 - val_head_3_acc: 0.7125 - val_head_4_acc: 0.7130 - val_head_5_acc: 0.7234 - val_head_6_acc: 0.7219 - val_head_7_acc: 0.7081 - val_head_8_acc: 0.7081 - val_head_9_acc: 0.6888\n"
     ]
    },
    {
     "name": "stdout",
     "output_type": "stream",
     "text": [
      "Epoch 25/50\n",
      "18183/18183 [==============================] - 42s 2ms/step - loss: 5.7341 - head_0_loss: 0.6731 - head_1_loss: 0.5696 - head_2_loss: 0.5452 - head_3_loss: 0.5371 - head_4_loss: 0.5406 - head_5_loss: 0.5411 - head_6_loss: 0.5379 - head_7_loss: 0.5500 - head_8_loss: 0.5836 - head_9_loss: 0.6559 - head_0_acc: 0.7631 - head_1_acc: 0.7962 - head_2_acc: 0.7999 - head_3_acc: 0.7982 - head_4_acc: 0.8031 - head_5_acc: 0.8034 - head_6_acc: 0.8043 - head_7_acc: 0.8010 - head_8_acc: 0.7952 - head_9_acc: 0.7688 - val_loss: 8.9178 - val_head_0_loss: 1.0017 - val_head_1_loss: 0.9016 - val_head_2_loss: 0.8268 - val_head_3_loss: 0.8349 - val_head_4_loss: 0.8414 - val_head_5_loss: 0.8437 - val_head_6_loss: 0.8496 - val_head_7_loss: 0.8995 - val_head_8_loss: 0.9153 - val_head_9_loss: 1.0032 - val_head_0_acc: 0.6739 - val_head_1_acc: 0.7115 - val_head_2_acc: 0.7150 - val_head_3_acc: 0.7199 - val_head_4_acc: 0.7229 - val_head_5_acc: 0.7140 - val_head_6_acc: 0.7160 - val_head_7_acc: 0.7011 - val_head_8_acc: 0.7081 - val_head_9_acc: 0.6719\n",
      "Epoch 26/50\n",
      "18183/18183 [==============================] - 42s 2ms/step - loss: 5.5742 - head_0_loss: 0.6586 - head_1_loss: 0.5541 - head_2_loss: 0.5252 - head_3_loss: 0.5202 - head_4_loss: 0.5237 - head_5_loss: 0.5281 - head_6_loss: 0.5310 - head_7_loss: 0.5332 - head_8_loss: 0.5590 - head_9_loss: 0.6412 - head_0_acc: 0.7667 - head_1_acc: 0.8005 - head_2_acc: 0.8066 - head_3_acc: 0.8053 - head_4_acc: 0.8089 - head_5_acc: 0.8038 - head_6_acc: 0.8055 - head_7_acc: 0.8078 - head_8_acc: 0.7999 - head_9_acc: 0.7754 - val_loss: 8.5147 - val_head_0_loss: 0.9749 - val_head_1_loss: 0.8635 - val_head_2_loss: 0.7879 - val_head_3_loss: 0.7971 - val_head_4_loss: 0.7943 - val_head_5_loss: 0.8081 - val_head_6_loss: 0.8093 - val_head_7_loss: 0.8556 - val_head_8_loss: 0.8756 - val_head_9_loss: 0.9484 - val_head_0_acc: 0.6873 - val_head_1_acc: 0.7259 - val_head_2_acc: 0.7288 - val_head_3_acc: 0.7100 - val_head_4_acc: 0.7308 - val_head_5_acc: 0.7249 - val_head_6_acc: 0.7284 - val_head_7_acc: 0.7135 - val_head_8_acc: 0.7170 - val_head_9_acc: 0.6833\n",
      "Epoch 27/50\n",
      "18183/18183 [==============================] - 42s 2ms/step - loss: 5.4382 - head_0_loss: 0.6379 - head_1_loss: 0.5488 - head_2_loss: 0.5128 - head_3_loss: 0.5013 - head_4_loss: 0.5116 - head_5_loss: 0.5161 - head_6_loss: 0.5095 - head_7_loss: 0.5291 - head_8_loss: 0.5531 - head_9_loss: 0.6181 - head_0_acc: 0.7762 - head_1_acc: 0.8006 - head_2_acc: 0.8103 - head_3_acc: 0.8144 - head_4_acc: 0.8099 - head_5_acc: 0.8094 - head_6_acc: 0.8111 - head_7_acc: 0.8081 - head_8_acc: 0.8005 - head_9_acc: 0.7835 - val_loss: 8.4276 - val_head_0_loss: 0.9673 - val_head_1_loss: 0.8552 - val_head_2_loss: 0.7682 - val_head_3_loss: 0.7823 - val_head_4_loss: 0.7879 - val_head_5_loss: 0.7931 - val_head_6_loss: 0.8062 - val_head_7_loss: 0.8512 - val_head_8_loss: 0.8760 - val_head_9_loss: 0.9403 - val_head_0_acc: 0.6922 - val_head_1_acc: 0.7264 - val_head_2_acc: 0.7432 - val_head_3_acc: 0.7284 - val_head_4_acc: 0.7293 - val_head_5_acc: 0.7288 - val_head_6_acc: 0.7363 - val_head_7_acc: 0.7194 - val_head_8_acc: 0.7125 - val_head_9_acc: 0.6912\n",
      "Epoch 28/50\n",
      "18183/18183 [==============================] - 42s 2ms/step - loss: 5.2739 - head_0_loss: 0.6332 - head_1_loss: 0.5278 - head_2_loss: 0.4992 - head_3_loss: 0.5020 - head_4_loss: 0.4883 - head_5_loss: 0.4935 - head_6_loss: 0.4921 - head_7_loss: 0.4968 - head_8_loss: 0.5374 - head_9_loss: 0.6034 - head_0_acc: 0.7760 - head_1_acc: 0.8102 - head_2_acc: 0.8181 - head_3_acc: 0.8158 - head_4_acc: 0.8198 - head_5_acc: 0.8210 - head_6_acc: 0.8179 - head_7_acc: 0.8189 - head_8_acc: 0.8060 - head_9_acc: 0.7869 - val_loss: 8.4029 - val_head_0_loss: 0.9710 - val_head_1_loss: 0.8558 - val_head_2_loss: 0.7734 - val_head_3_loss: 0.7880 - val_head_4_loss: 0.7976 - val_head_5_loss: 0.7893 - val_head_6_loss: 0.8068 - val_head_7_loss: 0.8357 - val_head_8_loss: 0.8564 - val_head_9_loss: 0.9288 - val_head_0_acc: 0.6868 - val_head_1_acc: 0.7254 - val_head_2_acc: 0.7343 - val_head_3_acc: 0.7264 - val_head_4_acc: 0.7214 - val_head_5_acc: 0.7264 - val_head_6_acc: 0.7397 - val_head_7_acc: 0.7288 - val_head_8_acc: 0.7293 - val_head_9_acc: 0.6962\n",
      "Epoch 29/50\n",
      "18183/18183 [==============================] - 42s 2ms/step - loss: 5.1611 - head_0_loss: 0.5990 - head_1_loss: 0.5200 - head_2_loss: 0.4928 - head_3_loss: 0.4835 - head_4_loss: 0.4879 - head_5_loss: 0.4862 - head_6_loss: 0.4832 - head_7_loss: 0.4970 - head_8_loss: 0.5146 - head_9_loss: 0.5969 - head_0_acc: 0.7867 - head_1_acc: 0.8100 - head_2_acc: 0.8224 - head_3_acc: 0.8181 - head_4_acc: 0.8172 - head_5_acc: 0.8209 - head_6_acc: 0.8221 - head_7_acc: 0.8172 - head_8_acc: 0.8129 - head_9_acc: 0.7911 - val_loss: 8.3665 - val_head_0_loss: 0.9538 - val_head_1_loss: 0.8514 - val_head_2_loss: 0.7666 - val_head_3_loss: 0.7687 - val_head_4_loss: 0.7897 - val_head_5_loss: 0.7857 - val_head_6_loss: 0.8040 - val_head_7_loss: 0.8523 - val_head_8_loss: 0.8721 - val_head_9_loss: 0.9223 - val_head_0_acc: 0.6878 - val_head_1_acc: 0.7318 - val_head_2_acc: 0.7293 - val_head_3_acc: 0.7274 - val_head_4_acc: 0.7254 - val_head_5_acc: 0.7229 - val_head_6_acc: 0.7402 - val_head_7_acc: 0.7204 - val_head_8_acc: 0.7170 - val_head_9_acc: 0.7036\n",
      "Epoch 30/50\n",
      "18183/18183 [==============================] - 42s 2ms/step - loss: 5.0257 - head_0_loss: 0.5945 - head_1_loss: 0.5048 - head_2_loss: 0.4811 - head_3_loss: 0.4712 - head_4_loss: 0.4691 - head_5_loss: 0.4767 - head_6_loss: 0.4763 - head_7_loss: 0.4939 - head_8_loss: 0.5006 - head_9_loss: 0.5575 - head_0_acc: 0.7889 - head_1_acc: 0.8151 - head_2_acc: 0.8220 - head_3_acc: 0.8278 - head_4_acc: 0.8272 - head_5_acc: 0.8249 - head_6_acc: 0.8259 - head_7_acc: 0.8197 - head_8_acc: 0.8187 - head_9_acc: 0.7992 - val_loss: 8.2633 - val_head_0_loss: 0.9413 - val_head_1_loss: 0.8331 - val_head_2_loss: 0.7686 - val_head_3_loss: 0.7779 - val_head_4_loss: 0.7694 - val_head_5_loss: 0.7767 - val_head_6_loss: 0.7924 - val_head_7_loss: 0.8399 - val_head_8_loss: 0.8490 - val_head_9_loss: 0.9152 - val_head_0_acc: 0.7026 - val_head_1_acc: 0.7328 - val_head_2_acc: 0.7333 - val_head_3_acc: 0.7333 - val_head_4_acc: 0.7348 - val_head_5_acc: 0.7288 - val_head_6_acc: 0.7348 - val_head_7_acc: 0.7298 - val_head_8_acc: 0.7284 - val_head_9_acc: 0.7130\n",
      "Epoch 31/50\n",
      "18183/18183 [==============================] - 42s 2ms/step - loss: 4.9092 - head_0_loss: 0.5790 - head_1_loss: 0.4860 - head_2_loss: 0.4644 - head_3_loss: 0.4725 - head_4_loss: 0.4635 - head_5_loss: 0.4618 - head_6_loss: 0.4671 - head_7_loss: 0.4646 - head_8_loss: 0.4888 - head_9_loss: 0.5614 - head_0_acc: 0.7956 - head_1_acc: 0.8212 - head_2_acc: 0.8311 - head_3_acc: 0.8225 - head_4_acc: 0.8302 - head_5_acc: 0.8305 - head_6_acc: 0.8268 - head_7_acc: 0.8340 - head_8_acc: 0.8275 - head_9_acc: 0.8004 - val_loss: 8.3718 - val_head_0_loss: 0.9611 - val_head_1_loss: 0.8399 - val_head_2_loss: 0.7742 - val_head_3_loss: 0.7699 - val_head_4_loss: 0.7729 - val_head_5_loss: 0.7772 - val_head_6_loss: 0.8150 - val_head_7_loss: 0.8649 - val_head_8_loss: 0.8705 - val_head_9_loss: 0.9263 - val_head_0_acc: 0.6932 - val_head_1_acc: 0.7313 - val_head_2_acc: 0.7264 - val_head_3_acc: 0.7323 - val_head_4_acc: 0.7358 - val_head_5_acc: 0.7353 - val_head_6_acc: 0.7318 - val_head_7_acc: 0.7145 - val_head_8_acc: 0.7234 - val_head_9_acc: 0.6942\n",
      "Epoch 32/50\n",
      "18183/18183 [==============================] - 42s 2ms/step - loss: 4.8565 - head_0_loss: 0.5626 - head_1_loss: 0.4862 - head_2_loss: 0.4705 - head_3_loss: 0.4652 - head_4_loss: 0.4555 - head_5_loss: 0.4532 - head_6_loss: 0.4577 - head_7_loss: 0.4610 - head_8_loss: 0.4865 - head_9_loss: 0.5581 - head_0_acc: 0.7996 - head_1_acc: 0.8238 - head_2_acc: 0.8238 - head_3_acc: 0.8307 - head_4_acc: 0.8332 - head_5_acc: 0.8337 - head_6_acc: 0.8322 - head_7_acc: 0.8326 - head_8_acc: 0.8251 - head_9_acc: 0.8017 - val_loss: 8.3212 - val_head_0_loss: 0.9372 - val_head_1_loss: 0.8334 - val_head_2_loss: 0.7670 - val_head_3_loss: 0.7702 - val_head_4_loss: 0.7837 - val_head_5_loss: 0.7768 - val_head_6_loss: 0.8035 - val_head_7_loss: 0.8565 - val_head_8_loss: 0.8734 - val_head_9_loss: 0.9195 - val_head_0_acc: 0.7021 - val_head_1_acc: 0.7348 - val_head_2_acc: 0.7432 - val_head_3_acc: 0.7363 - val_head_4_acc: 0.7358 - val_head_5_acc: 0.7442 - val_head_6_acc: 0.7402 - val_head_7_acc: 0.7135 - val_head_8_acc: 0.7199 - val_head_9_acc: 0.6957\n"
     ]
    },
    {
     "name": "stdout",
     "output_type": "stream",
     "text": [
      "Epoch 33/50\n",
      "18183/18183 [==============================] - 42s 2ms/step - loss: 4.7025 - head_0_loss: 0.5519 - head_1_loss: 0.4670 - head_2_loss: 0.4514 - head_3_loss: 0.4404 - head_4_loss: 0.4384 - head_5_loss: 0.4414 - head_6_loss: 0.4408 - head_7_loss: 0.4572 - head_8_loss: 0.4730 - head_9_loss: 0.5410 - head_0_acc: 0.8004 - head_1_acc: 0.8278 - head_2_acc: 0.8337 - head_3_acc: 0.8373 - head_4_acc: 0.8389 - head_5_acc: 0.8361 - head_6_acc: 0.8384 - head_7_acc: 0.8338 - head_8_acc: 0.8287 - head_9_acc: 0.8080 - val_loss: 8.1964 - val_head_0_loss: 0.9233 - val_head_1_loss: 0.8193 - val_head_2_loss: 0.7571 - val_head_3_loss: 0.7536 - val_head_4_loss: 0.7818 - val_head_5_loss: 0.7700 - val_head_6_loss: 0.7962 - val_head_7_loss: 0.8264 - val_head_8_loss: 0.8454 - val_head_9_loss: 0.9233 - val_head_0_acc: 0.7066 - val_head_1_acc: 0.7392 - val_head_2_acc: 0.7298 - val_head_3_acc: 0.7432 - val_head_4_acc: 0.7318 - val_head_5_acc: 0.7353 - val_head_6_acc: 0.7308 - val_head_7_acc: 0.7254 - val_head_8_acc: 0.7274 - val_head_9_acc: 0.6942\n",
      "Epoch 34/50\n",
      "18183/18183 [==============================] - 42s 2ms/step - loss: 4.5899 - head_0_loss: 0.5397 - head_1_loss: 0.4501 - head_2_loss: 0.4286 - head_3_loss: 0.4326 - head_4_loss: 0.4414 - head_5_loss: 0.4351 - head_6_loss: 0.4331 - head_7_loss: 0.4462 - head_8_loss: 0.4545 - head_9_loss: 0.5286 - head_0_acc: 0.8081 - head_1_acc: 0.8368 - head_2_acc: 0.8446 - head_3_acc: 0.8381 - head_4_acc: 0.8374 - head_5_acc: 0.8390 - head_6_acc: 0.8409 - head_7_acc: 0.8388 - head_8_acc: 0.8339 - head_9_acc: 0.8160 - val_loss: 8.1591 - val_head_0_loss: 0.9221 - val_head_1_loss: 0.8193 - val_head_2_loss: 0.7386 - val_head_3_loss: 0.7669 - val_head_4_loss: 0.7718 - val_head_5_loss: 0.7749 - val_head_6_loss: 0.7882 - val_head_7_loss: 0.8369 - val_head_8_loss: 0.8359 - val_head_9_loss: 0.9046 - val_head_0_acc: 0.7095 - val_head_1_acc: 0.7462 - val_head_2_acc: 0.7457 - val_head_3_acc: 0.7387 - val_head_4_acc: 0.7472 - val_head_5_acc: 0.7279 - val_head_6_acc: 0.7422 - val_head_7_acc: 0.7308 - val_head_8_acc: 0.7303 - val_head_9_acc: 0.7150\n",
      "Epoch 35/50\n",
      "18183/18183 [==============================] - 42s 2ms/step - loss: 4.5403 - head_0_loss: 0.5350 - head_1_loss: 0.4472 - head_2_loss: 0.4412 - head_3_loss: 0.4287 - head_4_loss: 0.4337 - head_5_loss: 0.4310 - head_6_loss: 0.4240 - head_7_loss: 0.4354 - head_8_loss: 0.4545 - head_9_loss: 0.5097 - head_0_acc: 0.8122 - head_1_acc: 0.8384 - head_2_acc: 0.8380 - head_3_acc: 0.8429 - head_4_acc: 0.8433 - head_5_acc: 0.8385 - head_6_acc: 0.8456 - head_7_acc: 0.8422 - head_8_acc: 0.8350 - head_9_acc: 0.8211 - val_loss: 8.2311 - val_head_0_loss: 0.9264 - val_head_1_loss: 0.8304 - val_head_2_loss: 0.7549 - val_head_3_loss: 0.7803 - val_head_4_loss: 0.7743 - val_head_5_loss: 0.7749 - val_head_6_loss: 0.7885 - val_head_7_loss: 0.8419 - val_head_8_loss: 0.8484 - val_head_9_loss: 0.9112 - val_head_0_acc: 0.7091 - val_head_1_acc: 0.7343 - val_head_2_acc: 0.7427 - val_head_3_acc: 0.7338 - val_head_4_acc: 0.7437 - val_head_5_acc: 0.7442 - val_head_6_acc: 0.7378 - val_head_7_acc: 0.7303 - val_head_8_acc: 0.7224 - val_head_9_acc: 0.7086\n",
      "Epoch 36/50\n",
      "18183/18183 [==============================] - 42s 2ms/step - loss: 4.4101 - head_0_loss: 0.5133 - head_1_loss: 0.4422 - head_2_loss: 0.4150 - head_3_loss: 0.4222 - head_4_loss: 0.4111 - head_5_loss: 0.4231 - head_6_loss: 0.4278 - head_7_loss: 0.4166 - head_8_loss: 0.4299 - head_9_loss: 0.5088 - head_0_acc: 0.8133 - head_1_acc: 0.8370 - head_2_acc: 0.8485 - head_3_acc: 0.8451 - head_4_acc: 0.8494 - head_5_acc: 0.8479 - head_6_acc: 0.8439 - head_7_acc: 0.8441 - head_8_acc: 0.8459 - head_9_acc: 0.8226 - val_loss: 8.0953 - val_head_0_loss: 0.9202 - val_head_1_loss: 0.8193 - val_head_2_loss: 0.7599 - val_head_3_loss: 0.7609 - val_head_4_loss: 0.7683 - val_head_5_loss: 0.7622 - val_head_6_loss: 0.7792 - val_head_7_loss: 0.8229 - val_head_8_loss: 0.8149 - val_head_9_loss: 0.8876 - val_head_0_acc: 0.7031 - val_head_1_acc: 0.7392 - val_head_2_acc: 0.7303 - val_head_3_acc: 0.7412 - val_head_4_acc: 0.7417 - val_head_5_acc: 0.7476 - val_head_6_acc: 0.7432 - val_head_7_acc: 0.7323 - val_head_8_acc: 0.7378 - val_head_9_acc: 0.7130\n",
      "Epoch 37/50\n",
      "18183/18183 [==============================] - 42s 2ms/step - loss: 4.3945 - head_0_loss: 0.5095 - head_1_loss: 0.4402 - head_2_loss: 0.4139 - head_3_loss: 0.4207 - head_4_loss: 0.4189 - head_5_loss: 0.4138 - head_6_loss: 0.4157 - head_7_loss: 0.4226 - head_8_loss: 0.4408 - head_9_loss: 0.4984 - head_0_acc: 0.8186 - head_1_acc: 0.8370 - head_2_acc: 0.8461 - head_3_acc: 0.8463 - head_4_acc: 0.8457 - head_5_acc: 0.8486 - head_6_acc: 0.8466 - head_7_acc: 0.8461 - head_8_acc: 0.8397 - head_9_acc: 0.8245 - val_loss: 8.1676 - val_head_0_loss: 0.9216 - val_head_1_loss: 0.8278 - val_head_2_loss: 0.7560 - val_head_3_loss: 0.7625 - val_head_4_loss: 0.7713 - val_head_5_loss: 0.7739 - val_head_6_loss: 0.7909 - val_head_7_loss: 0.8317 - val_head_8_loss: 0.8305 - val_head_9_loss: 0.9014 - val_head_0_acc: 0.7091 - val_head_1_acc: 0.7437 - val_head_2_acc: 0.7457 - val_head_3_acc: 0.7481 - val_head_4_acc: 0.7387 - val_head_5_acc: 0.7462 - val_head_6_acc: 0.7422 - val_head_7_acc: 0.7417 - val_head_8_acc: 0.7368 - val_head_9_acc: 0.7160\n",
      "Epoch 38/50\n",
      "18183/18183 [==============================] - 42s 2ms/step - loss: 4.3118 - head_0_loss: 0.5012 - head_1_loss: 0.4306 - head_2_loss: 0.4017 - head_3_loss: 0.4013 - head_4_loss: 0.4086 - head_5_loss: 0.4096 - head_6_loss: 0.4151 - head_7_loss: 0.4177 - head_8_loss: 0.4312 - head_9_loss: 0.4947 - head_0_acc: 0.8252 - head_1_acc: 0.8447 - head_2_acc: 0.8495 - head_3_acc: 0.8512 - head_4_acc: 0.8497 - head_5_acc: 0.8496 - head_6_acc: 0.8472 - head_7_acc: 0.8461 - head_8_acc: 0.8435 - head_9_acc: 0.8262 - val_loss: 8.2564 - val_head_0_loss: 0.9325 - val_head_1_loss: 0.8400 - val_head_2_loss: 0.7651 - val_head_3_loss: 0.7571 - val_head_4_loss: 0.7749 - val_head_5_loss: 0.7919 - val_head_6_loss: 0.8026 - val_head_7_loss: 0.8426 - val_head_8_loss: 0.8329 - val_head_9_loss: 0.9167 - val_head_0_acc: 0.7086 - val_head_1_acc: 0.7387 - val_head_2_acc: 0.7402 - val_head_3_acc: 0.7417 - val_head_4_acc: 0.7447 - val_head_5_acc: 0.7422 - val_head_6_acc: 0.7397 - val_head_7_acc: 0.7224 - val_head_8_acc: 0.7279 - val_head_9_acc: 0.7115\n",
      "Epoch 39/50\n",
      "18183/18183 [==============================] - 43s 2ms/step - loss: 4.2056 - head_0_loss: 0.4955 - head_1_loss: 0.4199 - head_2_loss: 0.4003 - head_3_loss: 0.4025 - head_4_loss: 0.3957 - head_5_loss: 0.4034 - head_6_loss: 0.3947 - head_7_loss: 0.4111 - head_8_loss: 0.4097 - head_9_loss: 0.4727 - head_0_acc: 0.8220 - head_1_acc: 0.8474 - head_2_acc: 0.8520 - head_3_acc: 0.8508 - head_4_acc: 0.8530 - head_5_acc: 0.8483 - head_6_acc: 0.8542 - head_7_acc: 0.8490 - head_8_acc: 0.8523 - head_9_acc: 0.8328 - val_loss: 8.0865 - val_head_0_loss: 0.9076 - val_head_1_loss: 0.8138 - val_head_2_loss: 0.7504 - val_head_3_loss: 0.7447 - val_head_4_loss: 0.7718 - val_head_5_loss: 0.7716 - val_head_6_loss: 0.7829 - val_head_7_loss: 0.8372 - val_head_8_loss: 0.8234 - val_head_9_loss: 0.8831 - val_head_0_acc: 0.7140 - val_head_1_acc: 0.7417 - val_head_2_acc: 0.7432 - val_head_3_acc: 0.7486 - val_head_4_acc: 0.7412 - val_head_5_acc: 0.7442 - val_head_6_acc: 0.7457 - val_head_7_acc: 0.7373 - val_head_8_acc: 0.7338 - val_head_9_acc: 0.7155\n",
      "Epoch 40/50\n",
      "18183/18183 [==============================] - 42s 2ms/step - loss: 4.1556 - head_0_loss: 0.4917 - head_1_loss: 0.4196 - head_2_loss: 0.4095 - head_3_loss: 0.3887 - head_4_loss: 0.3928 - head_5_loss: 0.3994 - head_6_loss: 0.3916 - head_7_loss: 0.3913 - head_8_loss: 0.4052 - head_9_loss: 0.4659 - head_0_acc: 0.8251 - head_1_acc: 0.8440 - head_2_acc: 0.8497 - head_3_acc: 0.8579 - head_4_acc: 0.8583 - head_5_acc: 0.8522 - head_6_acc: 0.8554 - head_7_acc: 0.8563 - head_8_acc: 0.8563 - head_9_acc: 0.8361 - val_loss: 7.9342 - val_head_0_loss: 0.9009 - val_head_1_loss: 0.8120 - val_head_2_loss: 0.7274 - val_head_3_loss: 0.7232 - val_head_4_loss: 0.7514 - val_head_5_loss: 0.7495 - val_head_6_loss: 0.7686 - val_head_7_loss: 0.8109 - val_head_8_loss: 0.8163 - val_head_9_loss: 0.8739 - val_head_0_acc: 0.7155 - val_head_1_acc: 0.7382 - val_head_2_acc: 0.7432 - val_head_3_acc: 0.7536 - val_head_4_acc: 0.7580 - val_head_5_acc: 0.7496 - val_head_6_acc: 0.7387 - val_head_7_acc: 0.7368 - val_head_8_acc: 0.7358 - val_head_9_acc: 0.7170\n"
     ]
    },
    {
     "name": "stdout",
     "output_type": "stream",
     "text": [
      "Epoch 41/50\n",
      "18183/18183 [==============================] - 42s 2ms/step - loss: 4.0864 - head_0_loss: 0.4775 - head_1_loss: 0.4257 - head_2_loss: 0.3769 - head_3_loss: 0.3871 - head_4_loss: 0.3839 - head_5_loss: 0.3903 - head_6_loss: 0.3782 - head_7_loss: 0.3862 - head_8_loss: 0.4053 - head_9_loss: 0.4752 - head_0_acc: 0.8302 - head_1_acc: 0.8410 - head_2_acc: 0.8580 - head_3_acc: 0.8563 - head_4_acc: 0.8564 - head_5_acc: 0.8565 - head_6_acc: 0.8612 - head_7_acc: 0.8587 - head_8_acc: 0.8543 - head_9_acc: 0.8313 - val_loss: 8.1127 - val_head_0_loss: 0.9182 - val_head_1_loss: 0.8239 - val_head_2_loss: 0.7544 - val_head_3_loss: 0.7539 - val_head_4_loss: 0.7757 - val_head_5_loss: 0.7599 - val_head_6_loss: 0.7782 - val_head_7_loss: 0.8306 - val_head_8_loss: 0.8177 - val_head_9_loss: 0.9002 - val_head_0_acc: 0.7120 - val_head_1_acc: 0.7427 - val_head_2_acc: 0.7382 - val_head_3_acc: 0.7437 - val_head_4_acc: 0.7462 - val_head_5_acc: 0.7481 - val_head_6_acc: 0.7378 - val_head_7_acc: 0.7338 - val_head_8_acc: 0.7392 - val_head_9_acc: 0.7155\n",
      "Epoch 42/50\n",
      "18183/18183 [==============================] - 42s 2ms/step - loss: 4.0396 - head_0_loss: 0.4700 - head_1_loss: 0.4024 - head_2_loss: 0.3891 - head_3_loss: 0.3839 - head_4_loss: 0.3823 - head_5_loss: 0.3837 - head_6_loss: 0.3780 - head_7_loss: 0.3962 - head_8_loss: 0.4005 - head_9_loss: 0.4536 - head_0_acc: 0.8333 - head_1_acc: 0.8530 - head_2_acc: 0.8595 - head_3_acc: 0.8587 - head_4_acc: 0.8604 - head_5_acc: 0.8594 - head_6_acc: 0.8616 - head_7_acc: 0.8561 - head_8_acc: 0.8545 - head_9_acc: 0.8370 - val_loss: 7.8806 - val_head_0_loss: 0.8917 - val_head_1_loss: 0.8029 - val_head_2_loss: 0.7262 - val_head_3_loss: 0.7365 - val_head_4_loss: 0.7542 - val_head_5_loss: 0.7403 - val_head_6_loss: 0.7462 - val_head_7_loss: 0.8088 - val_head_8_loss: 0.8057 - val_head_9_loss: 0.8679 - val_head_0_acc: 0.7199 - val_head_1_acc: 0.7462 - val_head_2_acc: 0.7442 - val_head_3_acc: 0.7462 - val_head_4_acc: 0.7536 - val_head_5_acc: 0.7496 - val_head_6_acc: 0.7551 - val_head_7_acc: 0.7323 - val_head_8_acc: 0.7412 - val_head_9_acc: 0.7269\n",
      "Epoch 43/50\n",
      "18183/18183 [==============================] - 42s 2ms/step - loss: 3.9651 - head_0_loss: 0.4650 - head_1_loss: 0.4036 - head_2_loss: 0.3879 - head_3_loss: 0.3706 - head_4_loss: 0.3741 - head_5_loss: 0.3698 - head_6_loss: 0.3738 - head_7_loss: 0.3742 - head_8_loss: 0.3985 - head_9_loss: 0.4475 - head_0_acc: 0.8336 - head_1_acc: 0.8537 - head_2_acc: 0.8575 - head_3_acc: 0.8628 - head_4_acc: 0.8622 - head_5_acc: 0.8632 - head_6_acc: 0.8629 - head_7_acc: 0.8613 - head_8_acc: 0.8549 - head_9_acc: 0.8427 - val_loss: 7.9843 - val_head_0_loss: 0.9055 - val_head_1_loss: 0.8096 - val_head_2_loss: 0.7338 - val_head_3_loss: 0.7360 - val_head_4_loss: 0.7658 - val_head_5_loss: 0.7488 - val_head_6_loss: 0.7674 - val_head_7_loss: 0.8204 - val_head_8_loss: 0.8246 - val_head_9_loss: 0.8723 - val_head_0_acc: 0.7224 - val_head_1_acc: 0.7452 - val_head_2_acc: 0.7486 - val_head_3_acc: 0.7556 - val_head_4_acc: 0.7501 - val_head_5_acc: 0.7551 - val_head_6_acc: 0.7467 - val_head_7_acc: 0.7323 - val_head_8_acc: 0.7363 - val_head_9_acc: 0.7219\n",
      "Epoch 44/50\n",
      "18183/18183 [==============================] - 42s 2ms/step - loss: 3.8705 - head_0_loss: 0.4478 - head_1_loss: 0.3850 - head_2_loss: 0.3764 - head_3_loss: 0.3654 - head_4_loss: 0.3730 - head_5_loss: 0.3683 - head_6_loss: 0.3704 - head_7_loss: 0.3694 - head_8_loss: 0.3824 - head_9_loss: 0.4325 - head_0_acc: 0.8429 - head_1_acc: 0.8577 - head_2_acc: 0.8609 - head_3_acc: 0.8658 - head_4_acc: 0.8642 - head_5_acc: 0.8642 - head_6_acc: 0.8654 - head_7_acc: 0.8681 - head_8_acc: 0.8618 - head_9_acc: 0.8472 - val_loss: 8.0009 - val_head_0_loss: 0.9181 - val_head_1_loss: 0.8257 - val_head_2_loss: 0.7357 - val_head_3_loss: 0.7546 - val_head_4_loss: 0.7440 - val_head_5_loss: 0.7432 - val_head_6_loss: 0.7624 - val_head_7_loss: 0.8222 - val_head_8_loss: 0.8158 - val_head_9_loss: 0.8792 - val_head_0_acc: 0.7165 - val_head_1_acc: 0.7417 - val_head_2_acc: 0.7496 - val_head_3_acc: 0.7496 - val_head_4_acc: 0.7531 - val_head_5_acc: 0.7575 - val_head_6_acc: 0.7541 - val_head_7_acc: 0.7363 - val_head_8_acc: 0.7368 - val_head_9_acc: 0.7214\n",
      "Epoch 45/50\n",
      "18183/18183 [==============================] - 43s 2ms/step - loss: 3.8560 - head_0_loss: 0.4633 - head_1_loss: 0.3856 - head_2_loss: 0.3627 - head_3_loss: 0.3635 - head_4_loss: 0.3657 - head_5_loss: 0.3697 - head_6_loss: 0.3711 - head_7_loss: 0.3685 - head_8_loss: 0.3734 - head_9_loss: 0.4325 - head_0_acc: 0.8369 - head_1_acc: 0.8598 - head_2_acc: 0.8671 - head_3_acc: 0.8650 - head_4_acc: 0.8621 - head_5_acc: 0.8631 - head_6_acc: 0.8650 - head_7_acc: 0.8653 - head_8_acc: 0.8645 - head_9_acc: 0.8469 - val_loss: 7.9065 - val_head_0_loss: 0.8976 - val_head_1_loss: 0.8032 - val_head_2_loss: 0.7199 - val_head_3_loss: 0.7400 - val_head_4_loss: 0.7464 - val_head_5_loss: 0.7364 - val_head_6_loss: 0.7586 - val_head_7_loss: 0.8067 - val_head_8_loss: 0.8251 - val_head_9_loss: 0.8726 - val_head_0_acc: 0.7190 - val_head_1_acc: 0.7531 - val_head_2_acc: 0.7546 - val_head_3_acc: 0.7452 - val_head_4_acc: 0.7531 - val_head_5_acc: 0.7546 - val_head_6_acc: 0.7501 - val_head_7_acc: 0.7447 - val_head_8_acc: 0.7358 - val_head_9_acc: 0.7303\n"
     ]
    }
   ],
   "source": [
    "batch_size = 200\n",
    "\n",
    "time_str = time.strftime(\"%Y_%m_%d_%H_%M\")\n",
    "log_dir = './s1p10_logs/' + time_str\n",
    "tb_callback = keras.callbacks.TensorBoard(log_dir=log_dir,  \n",
    "                                          batch_size=batch_size, \n",
    "                                          update_freq='epoch')\n",
    "early_stop_cb = keras.callbacks.EarlyStopping(monitor='val_loss', \n",
    "                                              patience=3,\n",
    "                                              restore_best_weights=True)\n",
    "\n",
    "# eva_metric = EVAMetrics()\n",
    "\n",
    "history = model.fit(x=X_train,\n",
    "                  y=y_train,\n",
    "                  epochs=50,\n",
    "                  validation_data=(X_val, y_val),\n",
    "                  class_weight=CLASSES_WEIGHT,\n",
    "                  initial_epoch=0,\n",
    "                  shuffle=True,\n",
    "                  batch_size=batch_size,\n",
    "                  callbacks=[tb_callback, early_stop_cb])\n",
    "\n",
    "# eva_data = eva_metric.get_data()"
   ]
  },
  {
   "cell_type": "markdown",
   "metadata": {},
   "source": [
    "# Save weights"
   ]
  },
  {
   "cell_type": "code",
   "execution_count": 9,
   "metadata": {},
   "outputs": [
    {
     "name": "stdout",
     "output_type": "stream",
     "text": [
      "Saved model to disk\n"
     ]
    }
   ],
   "source": [
    "# serialize model to JSON\n",
    "model_json = model.to_json()\n",
    "with open(log_dir + \"/ext_bottom_half_s1p10_model_%s.json\" % time_str, \"w\") as json_file:\n",
    "    json_file.write(model_json)\n",
    "    \n",
    "# serialize weights to HDF5\n",
    "model.save_weights(log_dir + \"/ext_bottom_half_s1p10_model_%s.h5\" % time_str)\n",
    "print(\"Saved model to disk\")"
   ]
  },
  {
   "cell_type": "code",
   "execution_count": 10,
   "metadata": {},
   "outputs": [
    {
     "data": {
      "text/plain": [
       "'2019_06_07_14_01'"
      ]
     },
     "execution_count": 10,
     "metadata": {},
     "output_type": "execute_result"
    }
   ],
   "source": [
    "time_str"
   ]
  },
  {
   "cell_type": "code",
   "execution_count": 11,
   "metadata": {},
   "outputs": [],
   "source": [
    "#TODO: save X_train, y_train\n",
    "np.save('./s1p10_data/corrected_ext_CH2_training_X_%s.npy' % time_str, X_train)\n",
    "np.save('./s1p10_data/corrected_ext_CH2_training_y_%s.npy' % time_str, y_train)\n",
    "\n",
    "np.save('./s1p10_data/corrected_ext_CH2_validation_X_%s.npy' % time_str, X_val)\n",
    "np.save('./s1p10_data/corrected_ext_CH2_validation_y_%s.npy' % time_str, y_val)"
   ]
  },
  {
   "cell_type": "code",
   "execution_count": null,
   "metadata": {},
   "outputs": [],
   "source": []
  }
 ],
 "metadata": {
  "kernelspec": {
   "display_name": "Python 3",
   "language": "python",
   "name": "python3"
  },
  "language_info": {
   "codemirror_mode": {
    "name": "ipython",
    "version": 3
   },
   "file_extension": ".py",
   "mimetype": "text/x-python",
   "name": "python",
   "nbconvert_exporter": "python",
   "pygments_lexer": "ipython3",
   "version": "3.6.6"
  }
 },
 "nbformat": 4,
 "nbformat_minor": 2
}
