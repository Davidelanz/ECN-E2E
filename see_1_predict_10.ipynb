{
 "cells": [
  {
   "cell_type": "markdown",
   "metadata": {},
   "source": [
    "Idea code name: `S1P10`"
   ]
  },
  {
   "cell_type": "code",
   "execution_count": 1,
   "metadata": {},
   "outputs": [
    {
     "name": "stderr",
     "output_type": "stream",
     "text": [
      "Using TensorFlow backend.\n"
     ]
    }
   ],
   "source": [
    "from keras.layers import Input, Dense, LSTM, PReLU, Reshape, Dropout, Activation, BatchNormalization, Lambda\n",
    "from keras.models import model_from_json, Model\n",
    "import keras.backend as K\n",
    "from keras import regularizers\n",
    "import keras\n",
    "\n",
    "from s1p10_model.resnet8_body import resnet8_body\n",
    "\n",
    "from s1p10_training_utils import gen_classifier_dataset\n",
    "\n",
    "import json\n",
    "import time\n",
    "\n",
    "import numpy as np\n",
    "import sklearn"
   ]
  },
  {
   "cell_type": "markdown",
   "metadata": {},
   "source": [
    "# Global Config"
   ]
  },
  {
   "cell_type": "code",
   "execution_count": 2,
   "metadata": {},
   "outputs": [],
   "source": [
    "IMAGE_SHAPE = (200, 200, 1)\n",
    "NUM_LABELS = 10\n",
    "BINS_EDGE = np.load(\"./s1p10_data/s1p10_bins_edge.npy\")\n",
    "NUM_CLASSES = len(BINS_EDGE) - 1  \n",
    "\n",
    "with open('./s1p10_data/s1p10_classes_weight.json', 'r') as fp:\n",
    "    CLASSES_WEIGHT = json.load(fp)"
   ]
  },
  {
   "cell_type": "markdown",
   "metadata": {},
   "source": [
    "# 1. Model Acrchitect\n",
    "\n",
    "1 Image -> ResNet-8 -> Dense regressor -> 5 steering angles\n",
    "\n",
    "## 1.2 Create Encoder\n",
    "Encoder is body of ResNet-8 from `Drone-Net` since it's already trained to recognize road curve -> helpful spatial information\n"
   ]
  },
  {
   "cell_type": "code",
   "execution_count": 3,
   "metadata": {
    "scrolled": true
   },
   "outputs": [
    {
     "name": "stdout",
     "output_type": "stream",
     "text": [
      "WARNING:tensorflow:From /home/user/venv/lib/python3.6/site-packages/tensorflow/python/framework/op_def_library.py:263: colocate_with (from tensorflow.python.framework.ops) is deprecated and will be removed in a future version.\n",
      "Instructions for updating:\n",
      "Colocations handled automatically by placer.\n",
      "WARNING:tensorflow:From /home/user/venv/lib/python3.6/site-packages/tensorflow/python/training/moving_averages.py:210: calling Zeros.__init__ (from tensorflow.python.ops.init_ops) with dtype is deprecated and will be removed in a future version.\n",
      "Instructions for updating:\n",
      "Call initializer instance with the dtype argument instead of passing it to the constructor\n"
     ]
    }
   ],
   "source": [
    "encoder = resnet8_body(IMAGE_SHAPE)\n",
    "\n",
    "# load resnet8 weights\n",
    "encoder.load_weights(\"./s1p10_model/named_resnet8_best_weights.h5\", by_name=True)\n",
    "\n",
    "# for l in encoder.layers:\n",
    "#     l.trainable = False\n",
    "# encoder.summary()"
   ]
  },
  {
   "cell_type": "markdown",
   "metadata": {},
   "source": [
    "## 1.3 Create Decoder\n",
    "Decoder is a seri of Dense layers with a non-activate Dense layer at the end to perform regression."
   ]
  },
  {
   "cell_type": "markdown",
   "metadata": {},
   "source": [
    "## 1.4 Create Model"
   ]
  },
  {
   "cell_type": "code",
   "execution_count": 4,
   "metadata": {},
   "outputs": [],
   "source": [
    "reshapor = Reshape((1, -1))\n",
    "\n",
    "def s1p10_model(input_shape):\n",
    "    \"\"\"\n",
    "    Define see-1-predict-10 model\n",
    "    \n",
    "    Input:\n",
    "        input_shape (tuple): shape of input image inputted to encoder\n",
    "        \n",
    "    Output:\n",
    "        keras.Model\n",
    "    \"\"\"\n",
    "    X_in = Input(shape=input_shape, name=\"image_in\")\n",
    "    \n",
    "    # extract feature vector\n",
    "    X_feature = encoder(X_in)\n",
    "    X_feature = Dropout(0.5)(X_feature)\n",
    "    \n",
    "    # apply classifier body\n",
    "    X_body = Dense(800, activation='relu')(X_feature)\n",
    "    \n",
    "    # apply classifier head\n",
    "    y = []\n",
    "    for i in range(NUM_LABELS):\n",
    "        X_body_1 = Dropout(0.5)(X_body)\n",
    "        out = Dense(NUM_CLASSES, activation='softmax', name=\"head_%d\" % i)(X_body_1)\n",
    "        y.append(out)\n",
    "    \n",
    "    model = Model(inputs=[X_in], outputs=y)\n",
    "    return model\n",
    "        "
   ]
  },
  {
   "cell_type": "code",
   "execution_count": 5,
   "metadata": {
    "scrolled": false
   },
   "outputs": [
    {
     "name": "stdout",
     "output_type": "stream",
     "text": [
      "WARNING:tensorflow:From /home/user/venv/lib/python3.6/site-packages/keras/backend/tensorflow_backend.py:3445: calling dropout (from tensorflow.python.ops.nn_ops) with keep_prob is deprecated and will be removed in a future version.\n",
      "Instructions for updating:\n",
      "Please use `rate` instead of `keep_prob`. Rate should be set to `rate = 1 - keep_prob`.\n",
      "__________________________________________________________________________________________________\n",
      "Layer (type)                    Output Shape         Param #     Connected to                     \n",
      "==================================================================================================\n",
      "image_in (InputLayer)           (None, 200, 200, 1)  0                                            \n",
      "__________________________________________________________________________________________________\n",
      "resnet8 (Model)                 (None, 6272)         309088      image_in[0][0]                   \n",
      "__________________________________________________________________________________________________\n",
      "dropout_1 (Dropout)             (None, 6272)         0           resnet8[1][0]                    \n",
      "__________________________________________________________________________________________________\n",
      "dense_1 (Dense)                 (None, 800)          5018400     dropout_1[0][0]                  \n",
      "__________________________________________________________________________________________________\n",
      "dropout_2 (Dropout)             (None, 800)          0           dense_1[0][0]                    \n",
      "__________________________________________________________________________________________________\n",
      "dropout_3 (Dropout)             (None, 800)          0           dense_1[0][0]                    \n",
      "__________________________________________________________________________________________________\n",
      "dropout_4 (Dropout)             (None, 800)          0           dense_1[0][0]                    \n",
      "__________________________________________________________________________________________________\n",
      "dropout_5 (Dropout)             (None, 800)          0           dense_1[0][0]                    \n",
      "__________________________________________________________________________________________________\n",
      "dropout_6 (Dropout)             (None, 800)          0           dense_1[0][0]                    \n",
      "__________________________________________________________________________________________________\n",
      "dropout_7 (Dropout)             (None, 800)          0           dense_1[0][0]                    \n",
      "__________________________________________________________________________________________________\n",
      "dropout_8 (Dropout)             (None, 800)          0           dense_1[0][0]                    \n",
      "__________________________________________________________________________________________________\n",
      "dropout_9 (Dropout)             (None, 800)          0           dense_1[0][0]                    \n",
      "__________________________________________________________________________________________________\n",
      "dropout_10 (Dropout)            (None, 800)          0           dense_1[0][0]                    \n",
      "__________________________________________________________________________________________________\n",
      "dropout_11 (Dropout)            (None, 800)          0           dense_1[0][0]                    \n",
      "__________________________________________________________________________________________________\n",
      "head_0 (Dense)                  (None, 114)          91314       dropout_2[0][0]                  \n",
      "__________________________________________________________________________________________________\n",
      "head_1 (Dense)                  (None, 114)          91314       dropout_3[0][0]                  \n",
      "__________________________________________________________________________________________________\n",
      "head_2 (Dense)                  (None, 114)          91314       dropout_4[0][0]                  \n",
      "__________________________________________________________________________________________________\n",
      "head_3 (Dense)                  (None, 114)          91314       dropout_5[0][0]                  \n",
      "__________________________________________________________________________________________________\n",
      "head_4 (Dense)                  (None, 114)          91314       dropout_6[0][0]                  \n",
      "__________________________________________________________________________________________________\n",
      "head_5 (Dense)                  (None, 114)          91314       dropout_7[0][0]                  \n",
      "__________________________________________________________________________________________________\n",
      "head_6 (Dense)                  (None, 114)          91314       dropout_8[0][0]                  \n",
      "__________________________________________________________________________________________________\n",
      "head_7 (Dense)                  (None, 114)          91314       dropout_9[0][0]                  \n",
      "__________________________________________________________________________________________________\n",
      "head_8 (Dense)                  (None, 114)          91314       dropout_10[0][0]                 \n",
      "__________________________________________________________________________________________________\n",
      "head_9 (Dense)                  (None, 114)          91314       dropout_11[0][0]                 \n",
      "==================================================================================================\n",
      "Total params: 6,240,628\n",
      "Trainable params: 6,239,924\n",
      "Non-trainable params: 704\n",
      "__________________________________________________________________________________________________\n"
     ]
    }
   ],
   "source": [
    "model = s1p10_model(IMAGE_SHAPE)\n",
    "\n",
    "model.summary()"
   ]
  },
  {
   "cell_type": "code",
   "execution_count": 6,
   "metadata": {},
   "outputs": [],
   "source": [
    "model.compile(optimizer='Adam', loss=\"categorical_crossentropy\", metrics=['acc'])"
   ]
  },
  {
   "cell_type": "markdown",
   "metadata": {},
   "source": [
    "# Training"
   ]
  },
  {
   "cell_type": "code",
   "execution_count": 7,
   "metadata": {},
   "outputs": [],
   "source": [
    "gen_param = {'num_classes': NUM_CLASSES, \n",
    "             'num_labels': NUM_LABELS, \n",
    "             'bins_edge': BINS_EDGE, \n",
    "             'image_shape': IMAGE_SHAPE, \n",
    "             'num_samples': None, \n",
    "             'data_root_dir': \"/home/user/Bureau/Dataset/udacity/\", \n",
    "             'flip_prob': 0.5}\n",
    "\n",
    "# X_train, y_train = gen_classifier_dataset(\"./s1p10_data/ext_s1p10_CH2_002_output_training.csv\", **gen_param)\n",
    "X_train = np.load('./s1p10_data/corrected_ext_CH2_training_X_2019_06_07_14_01.npy')\n",
    "y_train_arr = np.load('./s1p10_data/corrected_ext_CH2_training_y_2019_06_07_14_01.npy')  \n",
    "y_train = [y_train_arr[i, :, :]for i in range(NUM_LABELS)]\n",
    "\n",
    "# X_val, y_val = gen_classifier_dataset(\"./s1p10_data/ext_s1p10_CH2_002_output_validation.csv\", **gen_param)\n",
    "X_val = np.load('./s1p10_data/corrected_ext_CH2_validation_X_2019_06_07_14_01.npy')\n",
    "y_val_arr = np.load('./s1p10_data/corrected_ext_CH2_validation_y_2019_06_07_14_01.npy')\n",
    "y_val = [y_val_arr[i, :, :]for i in range(NUM_LABELS)]"
   ]
  },
  {
   "cell_type": "code",
   "execution_count": 17,
   "metadata": {
    "scrolled": false
   },
   "outputs": [
    {
     "name": "stdout",
     "output_type": "stream",
     "text": [
      "Train on 18183 samples, validate on 2021 samples\n",
      "Epoch 51/80\n",
      "18183/18183 [==============================] - 43s 2ms/step - loss: 6.8193 - head_0_loss: 0.7960 - head_1_loss: 0.6944 - head_2_loss: 0.6600 - head_3_loss: 0.6389 - head_4_loss: 0.6371 - head_5_loss: 0.6388 - head_6_loss: 0.6348 - head_7_loss: 0.6620 - head_8_loss: 0.6859 - head_9_loss: 0.7716 - head_0_acc: 0.7163 - head_1_acc: 0.7508 - head_2_acc: 0.7574 - head_3_acc: 0.7664 - head_4_acc: 0.7641 - head_5_acc: 0.7616 - head_6_acc: 0.7636 - head_7_acc: 0.7564 - head_8_acc: 0.7530 - head_9_acc: 0.7228 - val_loss: 9.3762 - val_head_0_loss: 1.0966 - val_head_1_loss: 0.9561 - val_head_2_loss: 0.8965 - val_head_3_loss: 0.8874 - val_head_4_loss: 0.8862 - val_head_5_loss: 0.8859 - val_head_6_loss: 0.9034 - val_head_7_loss: 0.9055 - val_head_8_loss: 0.9503 - val_head_9_loss: 1.0082 - val_head_0_acc: 0.6635 - val_head_1_acc: 0.6912 - val_head_2_acc: 0.7076 - val_head_3_acc: 0.7115 - val_head_4_acc: 0.7209 - val_head_5_acc: 0.7095 - val_head_6_acc: 0.7175 - val_head_7_acc: 0.7091 - val_head_8_acc: 0.6893 - val_head_9_acc: 0.6739\n",
      "Epoch 52/80\n",
      "18183/18183 [==============================] - 42s 2ms/step - loss: 6.7583 - head_0_loss: 0.7800 - head_1_loss: 0.6791 - head_2_loss: 0.6423 - head_3_loss: 0.6387 - head_4_loss: 0.6306 - head_5_loss: 0.6407 - head_6_loss: 0.6401 - head_7_loss: 0.6510 - head_8_loss: 0.6949 - head_9_loss: 0.7607 - head_0_acc: 0.7224 - head_1_acc: 0.7546 - head_2_acc: 0.7669 - head_3_acc: 0.7606 - head_4_acc: 0.7697 - head_5_acc: 0.7669 - head_6_acc: 0.7655 - head_7_acc: 0.7632 - head_8_acc: 0.7504 - head_9_acc: 0.7303 - val_loss: 9.4290 - val_head_0_loss: 1.1101 - val_head_1_loss: 0.9744 - val_head_2_loss: 0.8860 - val_head_3_loss: 0.8818 - val_head_4_loss: 0.8884 - val_head_5_loss: 0.8918 - val_head_6_loss: 0.9104 - val_head_7_loss: 0.9096 - val_head_8_loss: 0.9633 - val_head_9_loss: 1.0133 - val_head_0_acc: 0.6467 - val_head_1_acc: 0.6794 - val_head_2_acc: 0.7016 - val_head_3_acc: 0.7076 - val_head_4_acc: 0.7125 - val_head_5_acc: 0.6962 - val_head_6_acc: 0.7180 - val_head_7_acc: 0.7110 - val_head_8_acc: 0.6922 - val_head_9_acc: 0.6759\n",
      "Epoch 53/80\n",
      "18183/18183 [==============================] - 43s 2ms/step - loss: 6.6946 - head_0_loss: 0.7893 - head_1_loss: 0.6784 - head_2_loss: 0.6405 - head_3_loss: 0.6284 - head_4_loss: 0.6232 - head_5_loss: 0.6288 - head_6_loss: 0.6249 - head_7_loss: 0.6385 - head_8_loss: 0.6761 - head_9_loss: 0.7666 - head_0_acc: 0.7187 - head_1_acc: 0.7524 - head_2_acc: 0.7642 - head_3_acc: 0.7693 - head_4_acc: 0.7623 - head_5_acc: 0.7695 - head_6_acc: 0.7687 - head_7_acc: 0.7634 - head_8_acc: 0.7550 - head_9_acc: 0.7244 - val_loss: 9.2315 - val_head_0_loss: 1.0895 - val_head_1_loss: 0.9549 - val_head_2_loss: 0.8726 - val_head_3_loss: 0.8636 - val_head_4_loss: 0.8620 - val_head_5_loss: 0.8620 - val_head_6_loss: 0.8880 - val_head_7_loss: 0.9035 - val_head_8_loss: 0.9448 - val_head_9_loss: 0.9905 - val_head_0_acc: 0.6630 - val_head_1_acc: 0.6912 - val_head_2_acc: 0.7100 - val_head_3_acc: 0.7031 - val_head_4_acc: 0.7160 - val_head_5_acc: 0.7160 - val_head_6_acc: 0.7150 - val_head_7_acc: 0.7095 - val_head_8_acc: 0.6957 - val_head_9_acc: 0.6749\n",
      "Epoch 54/80\n",
      "18183/18183 [==============================] - 42s 2ms/step - loss: 6.6356 - head_0_loss: 0.7790 - head_1_loss: 0.6749 - head_2_loss: 0.6334 - head_3_loss: 0.6194 - head_4_loss: 0.6260 - head_5_loss: 0.6226 - head_6_loss: 0.6212 - head_7_loss: 0.6359 - head_8_loss: 0.6760 - head_9_loss: 0.7471 - head_0_acc: 0.7258 - head_1_acc: 0.7568 - head_2_acc: 0.7630 - head_3_acc: 0.7666 - head_4_acc: 0.7652 - head_5_acc: 0.7697 - head_6_acc: 0.7709 - head_7_acc: 0.7645 - head_8_acc: 0.7592 - head_9_acc: 0.7352 - val_loss: 9.2283 - val_head_0_loss: 1.0910 - val_head_1_loss: 0.9489 - val_head_2_loss: 0.8674 - val_head_3_loss: 0.8633 - val_head_4_loss: 0.8594 - val_head_5_loss: 0.8625 - val_head_6_loss: 0.8915 - val_head_7_loss: 0.9025 - val_head_8_loss: 0.9438 - val_head_9_loss: 0.9980 - val_head_0_acc: 0.6611 - val_head_1_acc: 0.6838 - val_head_2_acc: 0.7100 - val_head_3_acc: 0.7095 - val_head_4_acc: 0.7160 - val_head_5_acc: 0.7076 - val_head_6_acc: 0.7036 - val_head_7_acc: 0.7011 - val_head_8_acc: 0.6863 - val_head_9_acc: 0.6700\n",
      "Epoch 55/80\n",
      "18183/18183 [==============================] - 42s 2ms/step - loss: 6.5804 - head_0_loss: 0.7650 - head_1_loss: 0.6671 - head_2_loss: 0.6341 - head_3_loss: 0.6206 - head_4_loss: 0.6140 - head_5_loss: 0.6210 - head_6_loss: 0.6236 - head_7_loss: 0.6319 - head_8_loss: 0.6585 - head_9_loss: 0.7445 - head_0_acc: 0.7285 - head_1_acc: 0.7605 - head_2_acc: 0.7657 - head_3_acc: 0.7691 - head_4_acc: 0.7698 - head_5_acc: 0.7700 - head_6_acc: 0.7726 - head_7_acc: 0.7679 - head_8_acc: 0.7616 - head_9_acc: 0.7349 - val_loss: 9.2532 - val_head_0_loss: 1.0831 - val_head_1_loss: 0.9542 - val_head_2_loss: 0.8789 - val_head_3_loss: 0.8705 - val_head_4_loss: 0.8684 - val_head_5_loss: 0.8742 - val_head_6_loss: 0.8825 - val_head_7_loss: 0.8985 - val_head_8_loss: 0.9502 - val_head_9_loss: 0.9925 - val_head_0_acc: 0.6630 - val_head_1_acc: 0.6843 - val_head_2_acc: 0.7061 - val_head_3_acc: 0.7100 - val_head_4_acc: 0.7175 - val_head_5_acc: 0.6982 - val_head_6_acc: 0.7105 - val_head_7_acc: 0.7021 - val_head_8_acc: 0.6952 - val_head_9_acc: 0.6749\n",
      "Epoch 56/80\n",
      "18183/18183 [==============================] - 42s 2ms/step - loss: 6.4802 - head_0_loss: 0.7444 - head_1_loss: 0.6586 - head_2_loss: 0.6245 - head_3_loss: 0.6148 - head_4_loss: 0.6113 - head_5_loss: 0.6146 - head_6_loss: 0.6157 - head_7_loss: 0.6177 - head_8_loss: 0.6500 - head_9_loss: 0.7286 - head_0_acc: 0.7359 - head_1_acc: 0.7625 - head_2_acc: 0.7685 - head_3_acc: 0.7731 - head_4_acc: 0.7702 - head_5_acc: 0.7731 - head_6_acc: 0.7751 - head_7_acc: 0.7735 - head_8_acc: 0.7639 - head_9_acc: 0.7464 - val_loss: 9.3252 - val_head_0_loss: 1.0968 - val_head_1_loss: 0.9719 - val_head_2_loss: 0.8865 - val_head_3_loss: 0.8755 - val_head_4_loss: 0.8625 - val_head_5_loss: 0.8851 - val_head_6_loss: 0.8919 - val_head_7_loss: 0.9002 - val_head_8_loss: 0.9556 - val_head_9_loss: 0.9989 - val_head_0_acc: 0.6601 - val_head_1_acc: 0.6863 - val_head_2_acc: 0.7150 - val_head_3_acc: 0.7100 - val_head_4_acc: 0.7269 - val_head_5_acc: 0.7110 - val_head_6_acc: 0.7209 - val_head_7_acc: 0.7140 - val_head_8_acc: 0.6977 - val_head_9_acc: 0.6724\n",
      "Epoch 57/80\n",
      "18183/18183 [==============================] - 43s 2ms/step - loss: 6.4721 - head_0_loss: 0.7478 - head_1_loss: 0.6546 - head_2_loss: 0.6199 - head_3_loss: 0.6068 - head_4_loss: 0.6014 - head_5_loss: 0.6225 - head_6_loss: 0.6106 - head_7_loss: 0.6265 - head_8_loss: 0.6524 - head_9_loss: 0.7297 - head_0_acc: 0.7352 - head_1_acc: 0.7607 - head_2_acc: 0.7730 - head_3_acc: 0.7750 - head_4_acc: 0.7750 - head_5_acc: 0.7706 - head_6_acc: 0.7757 - head_7_acc: 0.7708 - head_8_acc: 0.7627 - head_9_acc: 0.7412 - val_loss: 9.4084 - val_head_0_loss: 1.0907 - val_head_1_loss: 0.9647 - val_head_2_loss: 0.9004 - val_head_3_loss: 0.8798 - val_head_4_loss: 0.8761 - val_head_5_loss: 0.8986 - val_head_6_loss: 0.9021 - val_head_7_loss: 0.9114 - val_head_8_loss: 0.9695 - val_head_9_loss: 1.0151 - val_head_0_acc: 0.6625 - val_head_1_acc: 0.6843 - val_head_2_acc: 0.6992 - val_head_3_acc: 0.7120 - val_head_4_acc: 0.7135 - val_head_5_acc: 0.7021 - val_head_6_acc: 0.7180 - val_head_7_acc: 0.7071 - val_head_8_acc: 0.7001 - val_head_9_acc: 0.6690\n"
     ]
    }
   ],
   "source": [
    "batch_size = 200\n",
    "\n",
    "time_str = time.strftime(\"%Y_%m_%d_%H_%M\")\n",
    "log_dir = './s1p10_logs/' + time_str\n",
    "tb_callback = keras.callbacks.TensorBoard(log_dir=log_dir,  \n",
    "                                          batch_size=batch_size, \n",
    "                                          update_freq='epoch')\n",
    "early_stop_cb = keras.callbacks.EarlyStopping(monitor='val_loss', \n",
    "                                              patience=3,\n",
    "                                              restore_best_weights=True)\n",
    "\n",
    "# eva_metric = EVAMetrics()\n",
    "\n",
    "history = model.fit(x=X_train,\n",
    "                  y=y_train,\n",
    "                  epochs=80,\n",
    "                  validation_data=(X_val, y_val),\n",
    "                  class_weight=CLASSES_WEIGHT,\n",
    "                  initial_epoch=50,\n",
    "                  shuffle=True,\n",
    "                  batch_size=batch_size,\n",
    "                  callbacks=[tb_callback, early_stop_cb])\n",
    "\n",
    "# eva_data = eva_metric.get_data()"
   ]
  },
  {
   "cell_type": "markdown",
   "metadata": {},
   "source": [
    "# Save weights"
   ]
  },
  {
   "cell_type": "code",
   "execution_count": 18,
   "metadata": {},
   "outputs": [
    {
     "name": "stdout",
     "output_type": "stream",
     "text": [
      "Saved model to disk\n"
     ]
    }
   ],
   "source": [
    "# serialize model to JSON\n",
    "model_json = model.to_json()\n",
    "with open(log_dir + \"/ext_bottom_half_s1p10_model_%s.json\" % time_str, \"w\") as json_file:\n",
    "    json_file.write(model_json)\n",
    "    \n",
    "# serialize weights to HDF5\n",
    "model.save_weights(log_dir + \"/ext_bottom_half_s1p10_model_%s.h5\" % time_str)\n",
    "print(\"Saved model to disk\")"
   ]
  },
  {
   "cell_type": "code",
   "execution_count": 10,
   "metadata": {},
   "outputs": [
    {
     "data": {
      "text/plain": [
       "'2019_06_09_16_29'"
      ]
     },
     "execution_count": 10,
     "metadata": {},
     "output_type": "execute_result"
    }
   ],
   "source": [
    "time_str"
   ]
  },
  {
   "cell_type": "code",
   "execution_count": 11,
   "metadata": {},
   "outputs": [],
   "source": [
    "#TODO: save X_train, y_train\n",
    "# np.save('./s1p10_data/corrected_ext_CH2_training_X_%s.npy' % time_str, X_train)\n",
    "# np.save('./s1p10_data/corrected_ext_CH2_training_y_%s.npy' % time_str, y_train)\n",
    "\n",
    "# np.save('./s1p10_data/corrected_ext_CH2_validation_X_%s.npy' % time_str, X_val)\n",
    "# np.save('./s1p10_data/corrected_ext_CH2_validation_y_%s.npy' % time_str, y_val)"
   ]
  },
  {
   "cell_type": "code",
   "execution_count": null,
   "metadata": {},
   "outputs": [],
   "source": []
  }
 ],
 "metadata": {
  "kernelspec": {
   "display_name": "Python 3",
   "language": "python",
   "name": "python3"
  },
  "language_info": {
   "codemirror_mode": {
    "name": "ipython",
    "version": 3
   },
   "file_extension": ".py",
   "mimetype": "text/x-python",
   "name": "python",
   "nbconvert_exporter": "python",
   "pygments_lexer": "ipython3",
   "version": "3.6.6"
  }
 },
 "nbformat": 4,
 "nbformat_minor": 2
}
