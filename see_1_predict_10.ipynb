{
 "cells": [
  {
   "cell_type": "markdown",
   "metadata": {},
   "source": [
    "Idea code name: `S1P10`"
   ]
  },
  {
   "cell_type": "code",
   "execution_count": 1,
   "metadata": {},
   "outputs": [
    {
     "name": "stderr",
     "output_type": "stream",
     "text": [
      "Using TensorFlow backend.\n"
     ]
    }
   ],
   "source": [
    "from keras.layers import Input, Dense, LSTM, PReLU, Reshape, Dropout, Activation, BatchNormalization, Lambda\n",
    "from keras.models import model_from_json, Model\n",
    "import keras.backend as K\n",
    "from keras import regularizers\n",
    "import keras\n",
    "\n",
    "from s1p10_model.resnet8_body import resnet8_body\n",
    "\n",
    "from s1p10_training_utils import gen_classifier_dataset\n",
    "\n",
    "import json\n",
    "import time\n",
    "\n",
    "import numpy as np\n",
    "import sklearn"
   ]
  },
  {
   "cell_type": "markdown",
   "metadata": {},
   "source": [
    "# Global Config"
   ]
  },
  {
   "cell_type": "code",
   "execution_count": 2,
   "metadata": {},
   "outputs": [],
   "source": [
    "IMAGE_SHAPE = (200, 200, 1)\n",
    "NUM_LABELS = 5\n",
    "BINS_EDGE = np.load(\"./s1p10_data/s1p10_bins_edge.npy\")\n",
    "NUM_CLASSES = len(BINS_EDGE) - 1  \n",
    "\n",
    "with open('./s1p10_data/s1p10_classes_weight.json', 'r') as fp:\n",
    "    CLASSES_WEIGHT = json.load(fp)"
   ]
  },
  {
   "cell_type": "markdown",
   "metadata": {},
   "source": [
    "# 1. Model Acrchitect\n",
    "\n",
    "1 Image -> ResNet-8 -> Dense regressor -> 5 steering angles\n",
    "\n",
    "## 1.2 Create Encoder\n",
    "Encoder is body of ResNet-8 from `Drone-Net` since it's already trained to recognize road curve -> helpful spatial information\n"
   ]
  },
  {
   "cell_type": "code",
   "execution_count": 3,
   "metadata": {
    "scrolled": true
   },
   "outputs": [
    {
     "name": "stdout",
     "output_type": "stream",
     "text": [
      "WARNING:tensorflow:From /home/user/venv/lib/python3.6/site-packages/tensorflow/python/framework/op_def_library.py:263: colocate_with (from tensorflow.python.framework.ops) is deprecated and will be removed in a future version.\n",
      "Instructions for updating:\n",
      "Colocations handled automatically by placer.\n",
      "WARNING:tensorflow:From /home/user/venv/lib/python3.6/site-packages/tensorflow/python/training/moving_averages.py:210: calling Zeros.__init__ (from tensorflow.python.ops.init_ops) with dtype is deprecated and will be removed in a future version.\n",
      "Instructions for updating:\n",
      "Call initializer instance with the dtype argument instead of passing it to the constructor\n"
     ]
    }
   ],
   "source": [
    "encoder = resnet8_body(IMAGE_SHAPE)\n",
    "# load resnet8 weights\n",
    "# encoder.load_weights(\"./s1p10_model/named_resnet8_best_weights.h5\", by_name=True)\n",
    "# for l in encoder.layers:\n",
    "#     l.trainable = False\n",
    "# encoder.summary()"
   ]
  },
  {
   "cell_type": "markdown",
   "metadata": {},
   "source": [
    "## 1.3 Create Decoder\n",
    "Decoder is a seri of Dense layers with a non-activate Dense layer at the end to perform regression."
   ]
  },
  {
   "cell_type": "markdown",
   "metadata": {},
   "source": [
    "## 1.4 Create Model"
   ]
  },
  {
   "cell_type": "code",
   "execution_count": 4,
   "metadata": {},
   "outputs": [],
   "source": [
    "reshapor = Reshape((1, -1))\n",
    "\n",
    "def s1p10_model(input_shape):\n",
    "    \"\"\"\n",
    "    Define see-1-predict-10 model\n",
    "    \n",
    "    Input:\n",
    "        input_shape (tuple): shape of input image inputted to encoder\n",
    "        \n",
    "    Output:\n",
    "        keras.Model\n",
    "    \"\"\"\n",
    "    X_in = Input(shape=input_shape, name=\"image_in\")\n",
    "    \n",
    "    # extract feature vector\n",
    "    X_feature = encoder(X_in)\n",
    "    X_feature = Dropout(0.5)(X_feature)\n",
    "    \n",
    "    # apply classifier body\n",
    "    X_body = Dense(800, activation='relu')(X_feature)\n",
    "    \n",
    "    # apply classifier head\n",
    "    y = []\n",
    "    for i in range(NUM_LABELS):\n",
    "        X_body_1 = Dropout(0.5)(X_body)\n",
    "        out = Dense(NUM_CLASSES, activation='softmax', name=\"head_%d\" % i)(X_body_1)\n",
    "        y.append(out)\n",
    "    \n",
    "#     # apply classifier head\n",
    "#     class_neck = []\n",
    "#     for i in range(NUM_LABELS):\n",
    "#         X = Dense(300, activation='relu', name=\"neck_%d\" % i)(X_body)\n",
    "#         X = reshapor(X)\n",
    "#         class_neck.append(X)\n",
    "    \n",
    "#     # apply LSTM\n",
    "#     X = keras.layers.concatenate(class_neck, axis=1)  # to get shape (None, 5, 300)\n",
    "#     X = LSTM(128, return_sequences=True, dropout=0.5)(X)\n",
    "    \n",
    "#     # apply classifier head\n",
    "#     y = []\n",
    "#     for i in range(NUM_LABELS):\n",
    "#         X_neck = Lambda(lambda X : X[:, i, :])(X)\n",
    "#         X = Dropout(0.5)(X)\n",
    "#         out = Dense(NUM_CLASSES, activation=\"softmax\", name=\"head_%d\" % i)(X_neck)\n",
    "#         y.append(out)\n",
    "    \n",
    "    model = Model(inputs=[X_in], outputs=y)\n",
    "    return model\n",
    "        "
   ]
  },
  {
   "cell_type": "code",
   "execution_count": 5,
   "metadata": {
    "scrolled": false
   },
   "outputs": [
    {
     "name": "stdout",
     "output_type": "stream",
     "text": [
      "WARNING:tensorflow:From /home/user/venv/lib/python3.6/site-packages/keras/backend/tensorflow_backend.py:3445: calling dropout (from tensorflow.python.ops.nn_ops) with keep_prob is deprecated and will be removed in a future version.\n",
      "Instructions for updating:\n",
      "Please use `rate` instead of `keep_prob`. Rate should be set to `rate = 1 - keep_prob`.\n",
      "__________________________________________________________________________________________________\n",
      "Layer (type)                    Output Shape         Param #     Connected to                     \n",
      "==================================================================================================\n",
      "image_in (InputLayer)           (None, 200, 200, 1)  0                                            \n",
      "__________________________________________________________________________________________________\n",
      "resnet8 (Model)                 (None, 6272)         309088      image_in[0][0]                   \n",
      "__________________________________________________________________________________________________\n",
      "dropout_1 (Dropout)             (None, 6272)         0           resnet8[1][0]                    \n",
      "__________________________________________________________________________________________________\n",
      "dense_1 (Dense)                 (None, 800)          5018400     dropout_1[0][0]                  \n",
      "__________________________________________________________________________________________________\n",
      "dropout_2 (Dropout)             (None, 800)          0           dense_1[0][0]                    \n",
      "__________________________________________________________________________________________________\n",
      "dropout_3 (Dropout)             (None, 800)          0           dense_1[0][0]                    \n",
      "__________________________________________________________________________________________________\n",
      "dropout_4 (Dropout)             (None, 800)          0           dense_1[0][0]                    \n",
      "__________________________________________________________________________________________________\n",
      "dropout_5 (Dropout)             (None, 800)          0           dense_1[0][0]                    \n",
      "__________________________________________________________________________________________________\n",
      "dropout_6 (Dropout)             (None, 800)          0           dense_1[0][0]                    \n",
      "__________________________________________________________________________________________________\n",
      "head_0 (Dense)                  (None, 114)          91314       dropout_2[0][0]                  \n",
      "__________________________________________________________________________________________________\n",
      "head_1 (Dense)                  (None, 114)          91314       dropout_3[0][0]                  \n",
      "__________________________________________________________________________________________________\n",
      "head_2 (Dense)                  (None, 114)          91314       dropout_4[0][0]                  \n",
      "__________________________________________________________________________________________________\n",
      "head_3 (Dense)                  (None, 114)          91314       dropout_5[0][0]                  \n",
      "__________________________________________________________________________________________________\n",
      "head_4 (Dense)                  (None, 114)          91314       dropout_6[0][0]                  \n",
      "==================================================================================================\n",
      "Total params: 5,784,058\n",
      "Trainable params: 5,783,354\n",
      "Non-trainable params: 704\n",
      "__________________________________________________________________________________________________\n"
     ]
    }
   ],
   "source": [
    "model = s1p10_model(IMAGE_SHAPE)\n",
    "\n",
    "model.summary()"
   ]
  },
  {
   "cell_type": "code",
   "execution_count": 6,
   "metadata": {},
   "outputs": [],
   "source": [
    "model.compile(optimizer='Adam', loss=\"categorical_crossentropy\", metrics=['acc'])"
   ]
  },
  {
   "cell_type": "markdown",
   "metadata": {},
   "source": [
    "# Training"
   ]
  },
  {
   "cell_type": "code",
   "execution_count": 7,
   "metadata": {},
   "outputs": [
    {
     "name": "stderr",
     "output_type": "stream",
     "text": [
      "                                                      \r"
     ]
    }
   ],
   "source": [
    "gen_param = {'num_classes': NUM_CLASSES, \n",
    "             'num_labels': NUM_LABELS, \n",
    "             'bins_edge': BINS_EDGE, \n",
    "             'image_shape': IMAGE_SHAPE, \n",
    "             'num_samples': None, \n",
    "             'data_root_dir': \"/home/user/Bureau/Dataset/udacity/\", \n",
    "             'flip_prob': 0.5}\n",
    "\n",
    "# X_train, y_train = gen_classifier_dataset(\"./s1p10_data/s1p10_CH2_002_output_training.csv\", **gen_param)\n",
    "X_train = np.load('./s1p10_data/bottom_half_CH2_training_X.npy')\n",
    "y_train_arr = np.load('./s1p10_data/bottom_half_CH2_training_y.npy')  # shape (5, len_dataset, num_classes)\n",
    "y_train = [y_train_arr[i, :, :]for i in range(NUM_LABELS)]\n",
    "\n",
    "# X_val, y_val = gen_classifier_dataset(\"./s1p10_data/s1p10_CH2_002_output_validation.csv\", **gen_param)\n",
    "X_val = np.load('./s1p10_data/bottom_half_CH2_validation_X.npy')\n",
    "y_val_arr = np.load('./s1p10_data/bottom_half_CH2_validation_y.npy')\n",
    "y_val = [y_val_arr[i, :, :]for i in range(NUM_LABELS)]"
   ]
  },
  {
   "cell_type": "code",
   "execution_count": 14,
   "metadata": {
    "scrolled": false
   },
   "outputs": [
    {
     "name": "stdout",
     "output_type": "stream",
     "text": [
      "Train on 18232 samples, validate on 2026 samples\n",
      "Epoch 26/50\n",
      "18232/18232 [==============================] - 44s 2ms/step - loss: 2.4116 - head_0_loss: 0.5459 - head_1_loss: 0.4701 - head_2_loss: 0.4522 - head_3_loss: 0.4598 - head_4_loss: 0.4836 - head_0_acc: 0.8096 - head_1_acc: 0.8364 - head_2_acc: 0.8377 - head_3_acc: 0.8330 - head_4_acc: 0.8285 - val_loss: 4.2479 - val_head_0_loss: 0.9375 - val_head_1_loss: 0.8459 - val_head_2_loss: 0.8294 - val_head_3_loss: 0.8204 - val_head_4_loss: 0.8147 - val_head_0_acc: 0.7187 - val_head_1_acc: 0.7404 - val_head_2_acc: 0.7374 - val_head_3_acc: 0.7364 - val_head_4_acc: 0.7483\n",
      "Epoch 27/50\n",
      "18232/18232 [==============================] - 40s 2ms/step - loss: 2.3581 - head_0_loss: 0.5242 - head_1_loss: 0.4607 - head_2_loss: 0.4401 - head_3_loss: 0.4547 - head_4_loss: 0.4784 - head_0_acc: 0.8174 - head_1_acc: 0.8378 - head_2_acc: 0.8430 - head_3_acc: 0.8380 - head_4_acc: 0.8296 - val_loss: 4.0768 - val_head_0_loss: 0.9225 - val_head_1_loss: 0.8029 - val_head_2_loss: 0.7806 - val_head_3_loss: 0.7733 - val_head_4_loss: 0.7975 - val_head_0_acc: 0.7117 - val_head_1_acc: 0.7414 - val_head_2_acc: 0.7488 - val_head_3_acc: 0.7581 - val_head_4_acc: 0.7473\n",
      "Epoch 28/50\n",
      "18232/18232 [==============================] - 43s 2ms/step - loss: 2.3419 - head_0_loss: 0.5131 - head_1_loss: 0.4451 - head_2_loss: 0.4355 - head_3_loss: 0.4521 - head_4_loss: 0.4962 - head_0_acc: 0.8215 - head_1_acc: 0.8436 - head_2_acc: 0.8418 - head_3_acc: 0.8378 - head_4_acc: 0.8237 - val_loss: 4.0782 - val_head_0_loss: 0.9182 - val_head_1_loss: 0.8160 - val_head_2_loss: 0.7994 - val_head_3_loss: 0.7659 - val_head_4_loss: 0.7787 - val_head_0_acc: 0.7285 - val_head_1_acc: 0.7315 - val_head_2_acc: 0.7468 - val_head_3_acc: 0.7606 - val_head_4_acc: 0.7532\n",
      "Epoch 29/50\n",
      "18232/18232 [==============================] - 43s 2ms/step - loss: 2.1933 - head_0_loss: 0.4809 - head_1_loss: 0.4313 - head_2_loss: 0.4100 - head_3_loss: 0.4223 - head_4_loss: 0.4489 - head_0_acc: 0.8338 - head_1_acc: 0.8459 - head_2_acc: 0.8518 - head_3_acc: 0.8500 - head_4_acc: 0.8409 - val_loss: 4.0207 - val_head_0_loss: 0.9023 - val_head_1_loss: 0.7843 - val_head_2_loss: 0.7827 - val_head_3_loss: 0.7722 - val_head_4_loss: 0.7792 - val_head_0_acc: 0.7335 - val_head_1_acc: 0.7493 - val_head_2_acc: 0.7522 - val_head_3_acc: 0.7567 - val_head_4_acc: 0.7567\n",
      "Epoch 30/50\n",
      "18232/18232 [==============================] - 41s 2ms/step - loss: 2.1418 - head_0_loss: 0.4817 - head_1_loss: 0.4054 - head_2_loss: 0.3974 - head_3_loss: 0.4118 - head_4_loss: 0.4456 - head_0_acc: 0.8324 - head_1_acc: 0.8543 - head_2_acc: 0.8586 - head_3_acc: 0.8533 - head_4_acc: 0.8417 - val_loss: 4.0555 - val_head_0_loss: 0.9167 - val_head_1_loss: 0.7961 - val_head_2_loss: 0.7756 - val_head_3_loss: 0.7748 - val_head_4_loss: 0.7923 - val_head_0_acc: 0.7340 - val_head_1_acc: 0.7502 - val_head_2_acc: 0.7557 - val_head_3_acc: 0.7562 - val_head_4_acc: 0.7601\n",
      "Epoch 31/50\n",
      "18232/18232 [==============================] - 39s 2ms/step - loss: 2.0948 - head_0_loss: 0.4628 - head_1_loss: 0.4182 - head_2_loss: 0.3913 - head_3_loss: 0.3948 - head_4_loss: 0.4277 - head_0_acc: 0.8402 - head_1_acc: 0.8524 - head_2_acc: 0.8562 - head_3_acc: 0.8574 - head_4_acc: 0.8509 - val_loss: 4.0136 - val_head_0_loss: 0.9043 - val_head_1_loss: 0.7860 - val_head_2_loss: 0.7709 - val_head_3_loss: 0.7747 - val_head_4_loss: 0.7776 - val_head_0_acc: 0.7315 - val_head_1_acc: 0.7512 - val_head_2_acc: 0.7572 - val_head_3_acc: 0.7606 - val_head_4_acc: 0.7601\n",
      "Epoch 32/50\n",
      "18232/18232 [==============================] - 40s 2ms/step - loss: 2.0532 - head_0_loss: 0.4622 - head_1_loss: 0.3997 - head_2_loss: 0.3820 - head_3_loss: 0.3870 - head_4_loss: 0.4222 - head_0_acc: 0.8420 - head_1_acc: 0.8567 - head_2_acc: 0.8635 - head_3_acc: 0.8581 - head_4_acc: 0.8509 - val_loss: 4.0842 - val_head_0_loss: 0.9097 - val_head_1_loss: 0.8032 - val_head_2_loss: 0.7960 - val_head_3_loss: 0.7786 - val_head_4_loss: 0.7967 - val_head_0_acc: 0.7320 - val_head_1_acc: 0.7438 - val_head_2_acc: 0.7522 - val_head_3_acc: 0.7596 - val_head_4_acc: 0.7606\n",
      "Epoch 33/50\n",
      "18232/18232 [==============================] - 39s 2ms/step - loss: 1.9802 - head_0_loss: 0.4494 - head_1_loss: 0.3829 - head_2_loss: 0.3668 - head_3_loss: 0.3748 - head_4_loss: 0.4064 - head_0_acc: 0.8447 - head_1_acc: 0.8622 - head_2_acc: 0.8678 - head_3_acc: 0.8680 - head_4_acc: 0.8569 - val_loss: 4.3490 - val_head_0_loss: 0.9671 - val_head_1_loss: 0.8683 - val_head_2_loss: 0.8401 - val_head_3_loss: 0.8392 - val_head_4_loss: 0.8343 - val_head_0_acc: 0.7221 - val_head_1_acc: 0.7340 - val_head_2_acc: 0.7453 - val_head_3_acc: 0.7364 - val_head_4_acc: 0.7562\n",
      "Epoch 34/50\n",
      "18232/18232 [==============================] - 40s 2ms/step - loss: 2.0064 - head_0_loss: 0.4499 - head_1_loss: 0.3887 - head_2_loss: 0.3699 - head_3_loss: 0.3866 - head_4_loss: 0.4112 - head_0_acc: 0.8446 - head_1_acc: 0.8615 - head_2_acc: 0.8664 - head_3_acc: 0.8615 - head_4_acc: 0.8522 - val_loss: 4.0792 - val_head_0_loss: 0.9202 - val_head_1_loss: 0.8273 - val_head_2_loss: 0.7959 - val_head_3_loss: 0.7634 - val_head_4_loss: 0.7724 - val_head_0_acc: 0.7266 - val_head_1_acc: 0.7409 - val_head_2_acc: 0.7483 - val_head_3_acc: 0.7626 - val_head_4_acc: 0.7660\n",
      "Epoch 35/50\n",
      "18232/18232 [==============================] - 39s 2ms/step - loss: 1.9254 - head_0_loss: 0.4199 - head_1_loss: 0.3760 - head_2_loss: 0.3532 - head_3_loss: 0.3722 - head_4_loss: 0.4042 - head_0_acc: 0.8542 - head_1_acc: 0.8630 - head_2_acc: 0.8731 - head_3_acc: 0.8659 - head_4_acc: 0.8552 - val_loss: 4.0509 - val_head_0_loss: 0.9083 - val_head_1_loss: 0.8060 - val_head_2_loss: 0.7716 - val_head_3_loss: 0.7694 - val_head_4_loss: 0.7956 - val_head_0_acc: 0.7364 - val_head_1_acc: 0.7522 - val_head_2_acc: 0.7562 - val_head_3_acc: 0.7660 - val_head_4_acc: 0.7611\n",
      "Epoch 36/50\n",
      "18232/18232 [==============================] - 39s 2ms/step - loss: 1.8786 - head_0_loss: 0.4069 - head_1_loss: 0.3657 - head_2_loss: 0.3590 - head_3_loss: 0.3635 - head_4_loss: 0.3833 - head_0_acc: 0.8560 - head_1_acc: 0.8679 - head_2_acc: 0.8714 - head_3_acc: 0.8692 - head_4_acc: 0.8655 - val_loss: 3.9982 - val_head_0_loss: 0.8857 - val_head_1_loss: 0.7970 - val_head_2_loss: 0.7722 - val_head_3_loss: 0.7622 - val_head_4_loss: 0.7811 - val_head_0_acc: 0.7379 - val_head_1_acc: 0.7552 - val_head_2_acc: 0.7631 - val_head_3_acc: 0.7651 - val_head_4_acc: 0.7581\n",
      "Epoch 37/50\n",
      "18232/18232 [==============================] - 39s 2ms/step - loss: 1.9118 - head_0_loss: 0.4312 - head_1_loss: 0.3655 - head_2_loss: 0.3665 - head_3_loss: 0.3648 - head_4_loss: 0.3838 - head_0_acc: 0.8521 - head_1_acc: 0.8713 - head_2_acc: 0.8696 - head_3_acc: 0.8689 - head_4_acc: 0.8642 - val_loss: 4.2068 - val_head_0_loss: 0.9322 - val_head_1_loss: 0.8341 - val_head_2_loss: 0.8167 - val_head_3_loss: 0.7977 - val_head_4_loss: 0.8261 - val_head_0_acc: 0.7246 - val_head_1_acc: 0.7414 - val_head_2_acc: 0.7488 - val_head_3_acc: 0.7547 - val_head_4_acc: 0.7517\n",
      "Epoch 38/50\n",
      "18232/18232 [==============================] - 39s 2ms/step - loss: 1.8441 - head_0_loss: 0.4092 - head_1_loss: 0.3558 - head_2_loss: 0.3435 - head_3_loss: 0.3561 - head_4_loss: 0.3795 - head_0_acc: 0.8539 - head_1_acc: 0.8749 - head_2_acc: 0.8740 - head_3_acc: 0.8717 - head_4_acc: 0.8646 - val_loss: 4.1018 - val_head_0_loss: 0.9341 - val_head_1_loss: 0.8121 - val_head_2_loss: 0.7916 - val_head_3_loss: 0.7747 - val_head_4_loss: 0.7893 - val_head_0_acc: 0.7270 - val_head_1_acc: 0.7453 - val_head_2_acc: 0.7611 - val_head_3_acc: 0.7606 - val_head_4_acc: 0.7601\n",
      "Epoch 39/50\n",
      "18232/18232 [==============================] - 39s 2ms/step - loss: 1.7757 - head_0_loss: 0.3955 - head_1_loss: 0.3447 - head_2_loss: 0.3292 - head_3_loss: 0.3372 - head_4_loss: 0.3691 - head_0_acc: 0.8632 - head_1_acc: 0.8727 - head_2_acc: 0.8819 - head_3_acc: 0.8773 - head_4_acc: 0.8700 - val_loss: 4.1027 - val_head_0_loss: 0.9239 - val_head_1_loss: 0.8268 - val_head_2_loss: 0.7976 - val_head_3_loss: 0.7731 - val_head_4_loss: 0.7814 - val_head_0_acc: 0.7275 - val_head_1_acc: 0.7404 - val_head_2_acc: 0.7591 - val_head_3_acc: 0.7601 - val_head_4_acc: 0.7710\n",
      "Epoch 40/50\n",
      "18232/18232 [==============================] - 39s 2ms/step - loss: 1.7315 - head_0_loss: 0.3796 - head_1_loss: 0.3337 - head_2_loss: 0.3169 - head_3_loss: 0.3411 - head_4_loss: 0.3601 - head_0_acc: 0.8677 - head_1_acc: 0.8794 - head_2_acc: 0.8846 - head_3_acc: 0.8792 - head_4_acc: 0.8733 - val_loss: 3.9863 - val_head_0_loss: 0.8832 - val_head_1_loss: 0.7955 - val_head_2_loss: 0.7717 - val_head_3_loss: 0.7669 - val_head_4_loss: 0.7690 - val_head_0_acc: 0.7448 - val_head_1_acc: 0.7532 - val_head_2_acc: 0.7700 - val_head_3_acc: 0.7646 - val_head_4_acc: 0.7764\n",
      "Epoch 41/50\n",
      "18232/18232 [==============================] - 39s 2ms/step - loss: 1.6852 - head_0_loss: 0.3706 - head_1_loss: 0.3297 - head_2_loss: 0.3189 - head_3_loss: 0.3208 - head_4_loss: 0.3452 - head_0_acc: 0.8691 - head_1_acc: 0.8821 - head_2_acc: 0.8813 - head_3_acc: 0.8822 - head_4_acc: 0.8779 - val_loss: 4.0696 - val_head_0_loss: 0.9055 - val_head_1_loss: 0.8118 - val_head_2_loss: 0.7852 - val_head_3_loss: 0.7768 - val_head_4_loss: 0.7902 - val_head_0_acc: 0.7404 - val_head_1_acc: 0.7527 - val_head_2_acc: 0.7636 - val_head_3_acc: 0.7601 - val_head_4_acc: 0.7606\n",
      "Epoch 42/50\n",
      "18232/18232 [==============================] - 39s 2ms/step - loss: 1.6608 - head_0_loss: 0.3663 - head_1_loss: 0.3144 - head_2_loss: 0.3091 - head_3_loss: 0.3159 - head_4_loss: 0.3551 - head_0_acc: 0.8732 - head_1_acc: 0.8870 - head_2_acc: 0.8883 - head_3_acc: 0.8855 - head_4_acc: 0.8754 - val_loss: 4.0359 - val_head_0_loss: 0.9057 - val_head_1_loss: 0.8052 - val_head_2_loss: 0.7850 - val_head_3_loss: 0.7614 - val_head_4_loss: 0.7786 - val_head_0_acc: 0.7438 - val_head_1_acc: 0.7443 - val_head_2_acc: 0.7596 - val_head_3_acc: 0.7655 - val_head_4_acc: 0.7685\n",
      "Epoch 43/50\n",
      "18232/18232 [==============================] - 39s 2ms/step - loss: 1.6465 - head_0_loss: 0.3704 - head_1_loss: 0.3091 - head_2_loss: 0.3117 - head_3_loss: 0.3172 - head_4_loss: 0.3381 - head_0_acc: 0.8704 - head_1_acc: 0.8892 - head_2_acc: 0.8889 - head_3_acc: 0.8864 - head_4_acc: 0.8822 - val_loss: 4.0165 - val_head_0_loss: 0.8892 - val_head_1_loss: 0.8059 - val_head_2_loss: 0.7848 - val_head_3_loss: 0.7560 - val_head_4_loss: 0.7806 - val_head_0_acc: 0.7453 - val_head_1_acc: 0.7517 - val_head_2_acc: 0.7655 - val_head_3_acc: 0.7626 - val_head_4_acc: 0.7621\n",
      "Epoch 44/50\n",
      "18232/18232 [==============================] - 39s 2ms/step - loss: 1.6484 - head_0_loss: 0.3524 - head_1_loss: 0.3216 - head_2_loss: 0.3155 - head_3_loss: 0.3212 - head_4_loss: 0.3376 - head_0_acc: 0.8763 - head_1_acc: 0.8840 - head_2_acc: 0.8876 - head_3_acc: 0.8871 - head_4_acc: 0.8802 - val_loss: 4.0646 - val_head_0_loss: 0.9119 - val_head_1_loss: 0.7982 - val_head_2_loss: 0.7756 - val_head_3_loss: 0.7701 - val_head_4_loss: 0.8089 - val_head_0_acc: 0.7448 - val_head_1_acc: 0.7601 - val_head_2_acc: 0.7695 - val_head_3_acc: 0.7621 - val_head_4_acc: 0.7655\n",
      "Epoch 45/50\n",
      "18232/18232 [==============================] - 39s 2ms/step - loss: 1.5891 - head_0_loss: 0.3489 - head_1_loss: 0.3013 - head_2_loss: 0.3049 - head_3_loss: 0.3035 - head_4_loss: 0.3305 - head_0_acc: 0.8771 - head_1_acc: 0.8907 - head_2_acc: 0.8885 - head_3_acc: 0.8910 - head_4_acc: 0.8817 - val_loss: 3.9637 - val_head_0_loss: 0.8960 - val_head_1_loss: 0.7901 - val_head_2_loss: 0.7560 - val_head_3_loss: 0.7463 - val_head_4_loss: 0.7753 - val_head_0_acc: 0.7557 - val_head_1_acc: 0.7552 - val_head_2_acc: 0.7715 - val_head_3_acc: 0.7710 - val_head_4_acc: 0.7769\n",
      "Epoch 46/50\n",
      "18232/18232 [==============================] - 39s 2ms/step - loss: 1.5760 - head_0_loss: 0.3488 - head_1_loss: 0.3092 - head_2_loss: 0.2907 - head_3_loss: 0.3020 - head_4_loss: 0.3253 - head_0_acc: 0.8776 - head_1_acc: 0.8896 - head_2_acc: 0.8966 - head_3_acc: 0.8941 - head_4_acc: 0.8849 - val_loss: 3.9889 - val_head_0_loss: 0.8974 - val_head_1_loss: 0.7898 - val_head_2_loss: 0.7606 - val_head_3_loss: 0.7610 - val_head_4_loss: 0.7801 - val_head_0_acc: 0.7419 - val_head_1_acc: 0.7567 - val_head_2_acc: 0.7823 - val_head_3_acc: 0.7705 - val_head_4_acc: 0.7779\n",
      "Epoch 47/50\n",
      "18232/18232 [==============================] - 39s 2ms/step - loss: 1.5683 - head_0_loss: 0.3482 - head_1_loss: 0.3066 - head_2_loss: 0.2936 - head_3_loss: 0.2988 - head_4_loss: 0.3211 - head_0_acc: 0.8791 - head_1_acc: 0.8902 - head_2_acc: 0.8958 - head_3_acc: 0.8935 - head_4_acc: 0.8876 - val_loss: 4.0967 - val_head_0_loss: 0.8972 - val_head_1_loss: 0.8281 - val_head_2_loss: 0.7828 - val_head_3_loss: 0.7775 - val_head_4_loss: 0.8111 - val_head_0_acc: 0.7458 - val_head_1_acc: 0.7532 - val_head_2_acc: 0.7744 - val_head_3_acc: 0.7685 - val_head_4_acc: 0.7779\n",
      "Epoch 48/50\n",
      "18232/18232 [==============================] - 39s 2ms/step - loss: 1.5462 - head_0_loss: 0.3468 - head_1_loss: 0.2975 - head_2_loss: 0.2896 - head_3_loss: 0.2915 - head_4_loss: 0.3209 - head_0_acc: 0.8752 - head_1_acc: 0.8930 - head_2_acc: 0.8979 - head_3_acc: 0.8926 - head_4_acc: 0.8871 - val_loss: 4.0802 - val_head_0_loss: 0.8919 - val_head_1_loss: 0.8127 - val_head_2_loss: 0.7922 - val_head_3_loss: 0.7795 - val_head_4_loss: 0.8037 - val_head_0_acc: 0.7557 - val_head_1_acc: 0.7596 - val_head_2_acc: 0.7734 - val_head_3_acc: 0.7675 - val_head_4_acc: 0.7764\n",
      "Epoch 49/50\n",
      "18232/18232 [==============================] - 39s 2ms/step - loss: 1.5198 - head_0_loss: 0.3415 - head_1_loss: 0.2889 - head_2_loss: 0.2835 - head_3_loss: 0.2975 - head_4_loss: 0.3083 - head_0_acc: 0.8790 - head_1_acc: 0.8963 - head_2_acc: 0.8954 - head_3_acc: 0.8953 - head_4_acc: 0.8907 - val_loss: 4.0417 - val_head_0_loss: 0.8783 - val_head_1_loss: 0.8150 - val_head_2_loss: 0.7730 - val_head_3_loss: 0.7776 - val_head_4_loss: 0.7978 - val_head_0_acc: 0.7606 - val_head_1_acc: 0.7680 - val_head_2_acc: 0.7784 - val_head_3_acc: 0.7720 - val_head_4_acc: 0.7695\n",
      "Epoch 50/50\n",
      "18232/18232 [==============================] - 39s 2ms/step - loss: 1.4711 - head_0_loss: 0.3281 - head_1_loss: 0.2855 - head_2_loss: 0.2777 - head_3_loss: 0.2810 - head_4_loss: 0.2988 - head_0_acc: 0.8836 - head_1_acc: 0.8983 - head_2_acc: 0.8994 - head_3_acc: 0.8985 - head_4_acc: 0.8938 - val_loss: 4.0824 - val_head_0_loss: 0.8857 - val_head_1_loss: 0.8198 - val_head_2_loss: 0.7918 - val_head_3_loss: 0.7807 - val_head_4_loss: 0.8044 - val_head_0_acc: 0.7606 - val_head_1_acc: 0.7670 - val_head_2_acc: 0.7710 - val_head_3_acc: 0.7586 - val_head_4_acc: 0.7710\n"
     ]
    }
   ],
   "source": [
    "batch_size = 200\n",
    "\n",
    "time_str = time.strftime(\"%Y_%m_%d_%H_%M\")\n",
    "log_dir = './s1p10_logs/' + time_str\n",
    "tb_callback = keras.callbacks.TensorBoard(log_dir=log_dir,  \n",
    "                                          batch_size=batch_size, \n",
    "                                          update_freq='epoch')\n",
    "early_stop_cb = keras.callbacks.EarlyStopping(monitor='val_loss', \n",
    "                                              patience=5,\n",
    "                                              restore_best_weights=True)\n",
    "\n",
    "# eva_metric = EVAMetrics()\n",
    "\n",
    "history = model.fit(x=X_train,\n",
    "                  y=y_train,\n",
    "                  epochs=50,\n",
    "                  validation_data=(X_val, y_val),\n",
    "                  class_weight=CLASSES_WEIGHT,\n",
    "                  initial_epoch=25,\n",
    "                  shuffle=True,\n",
    "                  batch_size=batch_size,\n",
    "                  callbacks=[tb_callback, early_stop_cb])\n",
    "\n",
    "# eva_data = eva_metric.get_data()"
   ]
  },
  {
   "cell_type": "markdown",
   "metadata": {},
   "source": [
    "# Save weights"
   ]
  },
  {
   "cell_type": "code",
   "execution_count": 15,
   "metadata": {},
   "outputs": [
    {
     "name": "stdout",
     "output_type": "stream",
     "text": [
      "Saved model to disk\n"
     ]
    }
   ],
   "source": [
    "# serialize model to JSON\n",
    "model_json = model.to_json()\n",
    "with open(log_dir + \"/bottom_half_s1p10_model_%s.json\" % time_str, \"w\") as json_file:\n",
    "    json_file.write(model_json)\n",
    "    \n",
    "# serialize weights to HDF5\n",
    "model.save_weights(log_dir + \"/bottom_half_s1p10_model_%s.h5\" % time_str)\n",
    "print(\"Saved model to disk\")"
   ]
  },
  {
   "cell_type": "code",
   "execution_count": 10,
   "metadata": {},
   "outputs": [
    {
     "data": {
      "text/plain": [
       "'2019_06_04_20_13'"
      ]
     },
     "execution_count": 10,
     "metadata": {},
     "output_type": "execute_result"
    }
   ],
   "source": [
    "time_str"
   ]
  },
  {
   "cell_type": "code",
   "execution_count": 13,
   "metadata": {},
   "outputs": [],
   "source": [
    "# #TODO: save X_train, y_train\n",
    "# np.save('./s1p10_data/bottom_half_CH2_training_X.npy', X_train)\n",
    "# np.save('./s1p10_data/bottom_half_CH2_training_y.npy', y_train)\n",
    "\n",
    "# np.save('./s1p10_data/bottom_half_CH2_validation_X.npy', X_val)\n",
    "# np.save('./s1p10_data/bottom_half_CH2_validation_y.npy', y_val)"
   ]
  },
  {
   "cell_type": "code",
   "execution_count": null,
   "metadata": {},
   "outputs": [],
   "source": []
  }
 ],
 "metadata": {
  "kernelspec": {
   "display_name": "Python 3",
   "language": "python",
   "name": "python3"
  },
  "language_info": {
   "codemirror_mode": {
    "name": "ipython",
    "version": 3
   },
   "file_extension": ".py",
   "mimetype": "text/x-python",
   "name": "python",
   "nbconvert_exporter": "python",
   "pygments_lexer": "ipython3",
   "version": "3.6.6"
  }
 },
 "nbformat": 4,
 "nbformat_minor": 2
}
