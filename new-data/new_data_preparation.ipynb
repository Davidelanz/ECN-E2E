{
 "cells": [
  {
   "cell_type": "code",
   "execution_count": 1,
   "metadata": {},
   "outputs": [],
   "source": [
    "import pandas as pd\n",
    "import numpy as np\n",
    "from data_utils import put_in_PI, find_angle_id, generate_training_sample\n",
    "import matplotlib.pyplot as plt\n",
    "from math import pi\n",
    "from tqdm import tqdm"
   ]
  },
  {
   "cell_type": "markdown",
   "metadata": {},
   "source": [
    "# Read data file and extract center camera image"
   ]
  },
  {
   "cell_type": "code",
   "execution_count": 2,
   "metadata": {},
   "outputs": [],
   "source": [
    "_prefix = \"/home/user/Bureau/Dataset/udacity/\"\n",
    "GLOBAL_PREFIX = 'CH2_002_output/'\n",
    "df = pd.read_csv(_prefix + GLOBAL_PREFIX + 'interpolated.csv')"
   ]
  },
  {
   "cell_type": "code",
   "execution_count": 3,
   "metadata": {},
   "outputs": [],
   "source": [
    "center_cam_idx = df['frame_id'] == 'center_camera'\n",
    "center_cam_df = df[center_cam_idx]"
   ]
  },
  {
   "cell_type": "code",
   "execution_count": 4,
   "metadata": {},
   "outputs": [
    {
     "name": "stderr",
     "output_type": "stream",
     "text": [
      "/home/user/.local/lib/python3.6/site-packages/ipykernel_launcher.py:2: SettingWithCopyWarning: \n",
      "A value is trying to be set on a copy of a slice from a DataFrame.\n",
      "Try using .loc[row_indexer,col_indexer] = value instead\n",
      "\n",
      "See the caveats in the documentation: http://pandas.pydata.org/pandas-docs/stable/indexing.html#indexing-view-versus-copy\n",
      "  \n"
     ]
    }
   ],
   "source": [
    "# Put angle in [-pi, pi]\n",
    "center_cam_df['angle'] = center_cam_df['angle'].apply(put_in_PI)"
   ]
  },
  {
   "cell_type": "markdown",
   "metadata": {},
   "source": [
    "# Assign steering angle ID"
   ]
  },
  {
   "cell_type": "code",
   "execution_count": 5,
   "metadata": {},
   "outputs": [
    {
     "name": "stdout",
     "output_type": "stream",
     "text": [
      "Create histogram with 629 bins\n"
     ]
    }
   ],
   "source": [
    "# Define bins_edge\n",
    "BIN_WIDTH = 0.01  # rad\n",
    "num_bins = int(2*pi / BIN_WIDTH) + 1\n",
    "bins_edge = [-pi + i*BIN_WIDTH for i in range(num_bins)]\n",
    "bins_edge[-1] = pi\n",
    "print(\"Create histogram with %d bins\" % num_bins)"
   ]
  },
  {
   "cell_type": "code",
   "execution_count": 6,
   "metadata": {
    "scrolled": false
   },
   "outputs": [
    {
     "name": "stderr",
     "output_type": "stream",
     "text": [
      "/home/user/.local/lib/python3.6/site-packages/ipykernel_launcher.py:3: SettingWithCopyWarning: \n",
      "A value is trying to be set on a copy of a slice from a DataFrame.\n",
      "Try using .loc[row_indexer,col_indexer] = value instead\n",
      "\n",
      "See the caveats in the documentation: http://pandas.pydata.org/pandas-docs/stable/indexing.html#indexing-view-versus-copy\n",
      "  This is separate from the ipykernel package so we can avoid doing imports until\n",
      "                                                       \r"
     ]
    }
   ],
   "source": [
    "# Append 'steering_id' column to dataframe\n",
    "center_cam_df['angle_id'] = pd.Series(np.array([-1 for i in range(len(center_cam_df.index))]), \n",
    "                                         index=center_cam_df.index)\n",
    "# Assign steering_id to every row of center_cam_df\n",
    "for i in tqdm(range(len(center_cam_df))):\n",
    "    find_angle_id(i, bins_edge, center_cam_df)"
   ]
  },
  {
   "cell_type": "code",
   "execution_count": 7,
   "metadata": {},
   "outputs": [
    {
     "data": {
      "image/png": "[encoded data removed]",
      "text/plain": [
       "<Figure size 432x288 with 1 Axes>"
      ]
     },
     "metadata": {
      "needs_background": "light"
     },
     "output_type": "display_data"
    }
   ],
   "source": [
    "# Histogram of steering_id\n",
    "_, _, _ = plt.hist(center_cam_df.angle_id)"
   ]
  },
  {
   "cell_type": "code",
   "execution_count": 9,
   "metadata": {},
   "outputs": [
    {
     "data": {
      "image/png": "[encoded data removed]",
      "text/plain": [
       "<Figure size 504x288 with 3 Axes>"
      ]
     },
     "metadata": {
      "needs_background": "light"
     },
     "output_type": "display_data"
    }
   ],
   "source": [
    "out = generate_training_sample(center_cam_df, GLOBAL_PREFIX)\n",
    "\n",
    "if out:\n",
    "    plt.figure(figsize=(7, 4))\n",
    "    plt.subplot(311)\n",
    "    plt.plot(out['travelled_dist_list'], out['angle_list'])\n",
    "    plt.ylabel('angle(rad)')\n",
    "    plt.subplot(312)\n",
    "    plt.plot(out['travelled_dist_list'], out['angle_id_list'])\n",
    "    plt.ylabel('angle id')\n",
    "    plt.subplot(313)\n",
    "    plt.plot([out['travelled_dist_list'][i+1] - out['travelled_dist_list'][i] for i in range(10)])\n",
    "    plt.ylabel('meter')\n",
    "    plt.show()"
   ]
  },
  {
   "cell_type": "code",
   "execution_count": null,
   "metadata": {},
   "outputs": [],
   "source": []
  }
 ],
 "metadata": {
  "kernelspec": {
   "display_name": "Python 3",
   "language": "python",
   "name": "python3"
  },
  "language_info": {
   "codemirror_mode": {
    "name": "ipython",
    "version": 3
   },
   "file_extension": ".py",
   "mimetype": "text/x-python",
   "name": "python",
   "nbconvert_exporter": "python",
   "pygments_lexer": "ipython3",
   "version": "3.6.6"
  }
 },
 "nbformat": 4,
 "nbformat_minor": 2
}
