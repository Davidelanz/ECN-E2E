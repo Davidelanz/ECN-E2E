{
 "cells": [
  {
   "cell_type": "code",
   "execution_count": 95,
   "metadata": {},
   "outputs": [],
   "source": [
    "import numpy as np\n",
    "import matplotlib.pyplot as plt"
   ]
  },
  {
   "cell_type": "code",
   "execution_count": 96,
   "metadata": {},
   "outputs": [],
   "source": [
    "# Car dim\n",
    "L = 2."
   ]
  },
  {
   "cell_type": "code",
   "execution_count": 125,
   "metadata": {},
   "outputs": [],
   "source": [
    "# get steering angle from E2E learning\n",
    "steering_angle_arr = [15. * np.pi / 180.0 for i in range(25)]"
   ]
  },
  {
   "cell_type": "code",
   "execution_count": 126,
   "metadata": {},
   "outputs": [],
   "source": [
    "# for each pair of steering angle calculate phi\n",
    "phi_arr = [1. * np.tan(delta) / L for delta in steering_angle_arr] "
   ]
  },
  {
   "cell_type": "code",
   "execution_count": 127,
   "metadata": {},
   "outputs": [],
   "source": [
    "def gRot_m(theta):\n",
    "    '''\n",
    "    Calculate orientation of robot frame wrt global frame\n",
    "    \n",
    "    :param theta: \n",
    "        (rad) orientation of robot frame\n",
    "    '''\n",
    "    return np.array([[np.cos(theta), -np.sin(theta), 0],\n",
    "                     [np.sin(theta), np.cos(theta), 0],\n",
    "                     [0, 0, 1]])\n",
    "\n",
    "\n",
    "def toGlobalFrame(t, theta, m_xy):\n",
    "    '''\n",
    "    transform position in robot frame to global frame\n",
    "    \n",
    "    :param t:\n",
    "        position of robot in global frame\n",
    "        \n",
    "    :param theta:\n",
    "        orientation of robot frame\n",
    "    \n",
    "    :param m_xy:\n",
    "        position in robot frame\n",
    "    '''\n",
    "    m_xy = m_xy.reshape((-1, 1))\n",
    "    g_xy = gRot_m(theta).dot(m_xy) + t.reshape((-1, 1))\n",
    "    return g_xy.squeeze()\n",
    "    "
   ]
  },
  {
   "cell_type": "code",
   "execution_count": 133,
   "metadata": {},
   "outputs": [],
   "source": [
    "way_pts_x = []  # coord in global frame\n",
    "way_pts_y = []\n",
    "\n",
    "theta_t = 0  # initial orientation\n",
    "t = np.zeros(3)  # initial position\n",
    "t[-1] = 1\n",
    "\n",
    "icr_x = []\n",
    "icr_y = []\n",
    "\n",
    "for delta, phi in zip(steering_angle_arr, phi_arr):\n",
    "    if delta < 1e-4:\n",
    "        pass\n",
    "    R = L / np.tan(delta)  # radius of the circle on which robot moves \n",
    "    for gamma in np.linspace(0, phi):\n",
    "        # way_pts\n",
    "        m_xy = np.array([R * np.sin(gamma), R * (1 - np.cos(gamma)), 1])  # local coord\n",
    "        g_xy = toGlobalFrame(t, theta_t, m_xy)\n",
    "        way_pts_x.append(g_xy[0])\n",
    "        way_pts_y.append(g_xy[1])\n",
    "        \n",
    "        # ICR\n",
    "        g_icr_xy = toGlobalFrame(t, theta_t, np.array([0, R, 1]))\n",
    "        icr_x.append(g_icr_xy[0])\n",
    "        icr_y.append(g_icr_xy[1])\n",
    "    \n",
    "    # Update pose \n",
    "    theta_t += phi\n",
    "    t = np.array([way_pts_x[-1], way_pts_y[-1], 1])"
   ]
  },
  {
   "cell_type": "code",
   "execution_count": 136,
   "metadata": {},
   "outputs": [
    {
     "data": {
      "image/png": "[encoded data removed]",
      "text/plain": [
       "<Figure size 432x288 with 1 Axes>"
      ]
     },
     "metadata": {
      "needs_background": "light"
     },
     "output_type": "display_data"
    }
   ],
   "source": [
    "plt.plot(way_pts_x, way_pts_y, '*', label='traj')\n",
    "plt.plot(icr_x, icr_y, 'r*', label='ICR')\n",
    "plt.legend()\n",
    "plt.xlim(-16, 16)\n",
    "plt.ylim(-16, 16)\n",
    "plt.gca().set_aspect('equal', adjustable='box')\n",
    "plt.show()"
   ]
  },
  {
   "cell_type": "code",
   "execution_count": null,
   "metadata": {},
   "outputs": [],
   "source": []
  }
 ],
 "metadata": {
  "kernelspec": {
   "display_name": "Python 3",
   "language": "python",
   "name": "python3"
  },
  "language_info": {
   "codemirror_mode": {
    "name": "ipython",
    "version": 3
   },
   "file_extension": ".py",
   "mimetype": "text/x-python",
   "name": "python",
   "nbconvert_exporter": "python",
   "pygments_lexer": "ipython3",
   "version": "3.6.7"
  }
 },
 "nbformat": 4,
 "nbformat_minor": 2
}
