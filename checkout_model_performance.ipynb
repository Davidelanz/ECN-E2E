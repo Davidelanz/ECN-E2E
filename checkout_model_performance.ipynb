{
 "cells": [
  {
   "cell_type": "code",
   "execution_count": 1,
   "metadata": {},
   "outputs": [],
   "source": [
    "from tensorflow.keras.models import model_from_json\n",
    "import numpy as np\n",
    "import matplotlib.pyplot as plt\n",
    "from sklearn.metrics import explained_variance_score"
   ]
  },
  {
   "cell_type": "markdown",
   "metadata": {},
   "source": [
    "# Load Model"
   ]
  },
  {
   "cell_type": "code",
   "execution_count": 2,
   "metadata": {
    "scrolled": false
   },
   "outputs": [
    {
     "name": "stdout",
     "output_type": "stream",
     "text": [
      "Loaded model from disk\n",
      "Model: \"model_1\"\n",
      "__________________________________________________________________________________________________\n",
      "Layer (type)                    Output Shape         Param #     Connected to                     \n",
      "==================================================================================================\n",
      "input_1 (InputLayer)            [(None, 200, 200, 1) 0                                            \n",
      "__________________________________________________________________________________________________\n",
      "conv_0 (Conv2D)                 (None, 100, 100, 32) 832         input_1[0][0]                    \n",
      "__________________________________________________________________________________________________\n",
      "max_pooling2d_1 (MaxPooling2D)  (None, 49, 49, 32)   0           conv_0[0][0]                     \n",
      "__________________________________________________________________________________________________\n",
      "bn_1_a (BatchNormalizationV1)   (None, 49, 49, 32)   128         max_pooling2d_1[0][0]            \n",
      "__________________________________________________________________________________________________\n",
      "feature_map_0 (Activation)      (None, 49, 49, 32)   0           bn_1_a[0][0]                     \n",
      "__________________________________________________________________________________________________\n",
      "conv_1_a (Conv2D)               (None, 25, 25, 32)   9248        feature_map_0[0][0]              \n",
      "__________________________________________________________________________________________________\n",
      "bn_1_b (BatchNormalizationV1)   (None, 25, 25, 32)   128         conv_1_a[0][0]                   \n",
      "__________________________________________________________________________________________________\n",
      "activation_1 (Activation)       (None, 25, 25, 32)   0           bn_1_b[0][0]                     \n",
      "__________________________________________________________________________________________________\n",
      "conv_1_b (Conv2D)               (None, 25, 25, 32)   9248        activation_1[0][0]               \n",
      "__________________________________________________________________________________________________\n",
      "conv_1_c (Conv2D)               (None, 25, 25, 32)   1056        max_pooling2d_1[0][0]            \n",
      "__________________________________________________________________________________________________\n",
      "add_1 (Add)                     (None, 25, 25, 32)   0           conv_1_b[0][0]                   \n",
      "                                                                 conv_1_c[0][0]                   \n",
      "__________________________________________________________________________________________________\n",
      "bn_2_a (BatchNormalizationV1)   (None, 25, 25, 32)   128         add_1[0][0]                      \n",
      "__________________________________________________________________________________________________\n",
      "feature_map_1 (Activation)      (None, 25, 25, 32)   0           bn_2_a[0][0]                     \n",
      "__________________________________________________________________________________________________\n",
      "conv_2_a (Conv2D)               (None, 13, 13, 64)   18496       feature_map_1[0][0]              \n",
      "__________________________________________________________________________________________________\n",
      "bn_2_b (BatchNormalizationV1)   (None, 13, 13, 64)   256         conv_2_a[0][0]                   \n",
      "__________________________________________________________________________________________________\n",
      "activation_2 (Activation)       (None, 13, 13, 64)   0           bn_2_b[0][0]                     \n",
      "__________________________________________________________________________________________________\n",
      "conv_2_b (Conv2D)               (None, 13, 13, 64)   36928       activation_2[0][0]               \n",
      "__________________________________________________________________________________________________\n",
      "conv_2_c (Conv2D)               (None, 13, 13, 64)   2112        add_1[0][0]                      \n",
      "__________________________________________________________________________________________________\n",
      "add_2 (Add)                     (None, 13, 13, 64)   0           conv_2_b[0][0]                   \n",
      "                                                                 conv_2_c[0][0]                   \n",
      "__________________________________________________________________________________________________\n",
      "bn_3_a (BatchNormalizationV1)   (None, 13, 13, 64)   256         add_2[0][0]                      \n",
      "__________________________________________________________________________________________________\n",
      "feature_map_2 (Activation)      (None, 13, 13, 64)   0           bn_3_a[0][0]                     \n",
      "__________________________________________________________________________________________________\n",
      "conv_3_a (Conv2D)               (None, 7, 7, 128)    73856       feature_map_2[0][0]              \n",
      "__________________________________________________________________________________________________\n",
      "bn_3_b (BatchNormalizationV1)   (None, 7, 7, 128)    512         conv_3_a[0][0]                   \n",
      "__________________________________________________________________________________________________\n",
      "activation_3 (Activation)       (None, 7, 7, 128)    0           bn_3_b[0][0]                     \n",
      "__________________________________________________________________________________________________\n",
      "conv_3_b (Conv2D)               (None, 7, 7, 128)    147584      activation_3[0][0]               \n",
      "__________________________________________________________________________________________________\n",
      "conv_3_c (Conv2D)               (None, 7, 7, 128)    8320        add_2[0][0]                      \n",
      "__________________________________________________________________________________________________\n",
      "add_3 (Add)                     (None, 7, 7, 128)    0           conv_3_b[0][0]                   \n",
      "                                                                 conv_3_c[0][0]                   \n",
      "__________________________________________________________________________________________________\n",
      "flatten_1 (Flatten)             (None, 6272)         0           add_3[0][0]                      \n",
      "__________________________________________________________________________________________________\n",
      "activation_4 (Activation)       (None, 6272)         0           flatten_1[0][0]                  \n",
      "__________________________________________________________________________________________________\n",
      "dropout_1 (Dropout)             (None, 6272)         0           activation_4[0][0]               \n",
      "__________________________________________________________________________________________________\n",
      "dense_1 (Dense)                 (None, 800)          5018400     dropout_1[0][0]                  \n",
      "__________________________________________________________________________________________________\n",
      "dense_2 (Dense)                 (None, 800)          5018400     dropout_1[0][0]                  \n",
      "__________________________________________________________________________________________________\n",
      "dense_3 (Dense)                 (None, 800)          5018400     dropout_1[0][0]                  \n",
      "__________________________________________________________________________________________________\n",
      "dense_4 (Dense)                 (None, 800)          5018400     dropout_1[0][0]                  \n",
      "__________________________________________________________________________________________________\n",
      "dense_5 (Dense)                 (None, 800)          5018400     dropout_1[0][0]                  \n",
      "__________________________________________________________________________________________________\n",
      "dropout_2 (Dropout)             (None, 800)          0           dense_1[0][0]                    \n",
      "__________________________________________________________________________________________________\n",
      "dropout_3 (Dropout)             (None, 800)          0           dense_2[0][0]                    \n",
      "__________________________________________________________________________________________________\n",
      "dropout_4 (Dropout)             (None, 800)          0           dense_3[0][0]                    \n",
      "__________________________________________________________________________________________________\n",
      "dropout_5 (Dropout)             (None, 800)          0           dense_4[0][0]                    \n",
      "__________________________________________________________________________________________________\n",
      "dropout_6 (Dropout)             (None, 800)          0           dense_5[0][0]                    \n",
      "__________________________________________________________________________________________________\n",
      "head_0 (Dense)                  (None, 114)          91314       dropout_2[0][0]                  \n",
      "__________________________________________________________________________________________________\n",
      "head_1 (Dense)                  (None, 114)          91314       dropout_3[0][0]                  \n",
      "__________________________________________________________________________________________________\n",
      "head_2 (Dense)                  (None, 114)          91314       dropout_4[0][0]                  \n",
      "__________________________________________________________________________________________________\n",
      "head_3 (Dense)                  (None, 114)          91314       dropout_5[0][0]                  \n",
      "__________________________________________________________________________________________________\n",
      "head_4 (Dense)                  (None, 114)          91314       dropout_6[0][0]                  \n",
      "==================================================================================================\n",
      "Total params: 25,857,658\n",
      "Trainable params: 25,856,954\n",
      "Non-trainable params: 704\n",
      "__________________________________________________________________________________________________\n"
     ]
    }
   ],
   "source": [
    "MODEL_DIR = \"./best_weights/2019_06_17_14_25/\"\n",
    "MODEL_NAME = \"s1p10_model_2019_06_17_14_25\"\n",
    "# load json and create model\n",
    "with open(MODEL_DIR + \"%s.json\" % MODEL_NAME, 'r') as json_file:\n",
    "    loaded_model_json = json_file.read()\n",
    "\n",
    "model = model_from_json(loaded_model_json)\n",
    "\n",
    "# load weights into new model\n",
    "model.load_weights(MODEL_DIR + \"%s.h5\" % MODEL_NAME)\n",
    "print(\"Loaded model from disk\")\n",
    "\n",
    "model.summary()"
   ]
  },
  {
   "cell_type": "code",
   "execution_count": 3,
   "metadata": {},
   "outputs": [],
   "source": [
    "IMAGE_SHAPE = (200, 200, 1)\n",
    "NUM_LABELS = 5\n",
    "BINS_EDGE = np.load(\"./data/bins_edge.npy\")\n",
    "NUM_CLASSES = len(BINS_EDGE) - 1  "
   ]
  },
  {
   "cell_type": "markdown",
   "metadata": {},
   "source": [
    "# Load Validation Dataset & Get Model Prediction"
   ]
  },
  {
   "cell_type": "code",
   "execution_count": 4,
   "metadata": {},
   "outputs": [],
   "source": [
    "# X_val, y_val = gen_classifier_dataset(\"./s1p10_data/s1p10_CH2_002_output_validation.csv\", **gen_param)\n",
    "X_val = np.load('./data/no_cut_CH2_validation_X.npy')\n",
    "y_val_arr = np.load('./data/no_cut_CH2_validation_y.npy')\n",
    "y_val = [y_val_arr[i, :, :]for i in range(NUM_LABELS)]"
   ]
  },
  {
   "cell_type": "code",
   "execution_count": 5,
   "metadata": {},
   "outputs": [
    {
     "data": {
      "text/plain": [
       "(2021, 200, 200, 1)"
      ]
     },
     "execution_count": 5,
     "metadata": {},
     "output_type": "execute_result"
    }
   ],
   "source": [
    "X_val.shape"
   ]
  },
  {
   "cell_type": "code",
   "execution_count": 6,
   "metadata": {},
   "outputs": [
    {
     "data": {
      "text/plain": [
       "(2021, 114)"
      ]
     },
     "execution_count": 6,
     "metadata": {},
     "output_type": "execute_result"
    }
   ],
   "source": [
    "y_val[0].shape"
   ]
  },
  {
   "cell_type": "code",
   "execution_count": 7,
   "metadata": {},
   "outputs": [
    {
     "name": "stdout",
     "output_type": "stream",
     "text": [
      "2021/2021 [==============================] - 4s 2ms/sample\n"
     ]
    }
   ],
   "source": [
    "# Get model prediction\n",
    "y_hat = model.predict(X_val, verbose=1)"
   ]
  },
  {
   "cell_type": "code",
   "execution_count": 8,
   "metadata": {},
   "outputs": [
    {
     "data": {
      "text/plain": [
       "(2021, 114)"
      ]
     },
     "execution_count": 8,
     "metadata": {},
     "output_type": "execute_result"
    }
   ],
   "source": [
    "y_hat[0].shape"
   ]
  },
  {
   "cell_type": "markdown",
   "metadata": {},
   "source": [
    "# 2. Model Performance\n",
    "## 2.1 Metrics \n",
    "Two metrics are used to access model peformance\n",
    "* **Root Mean Square Error**\n",
    "* **Exaplained Variance Score**"
   ]
  },
  {
   "cell_type": "code",
   "execution_count": 9,
   "metadata": {},
   "outputs": [],
   "source": [
    "def one_hot_to_angle(one_hot_arr):\n",
    "    \"\"\"\n",
    "    Decode 1 one hot encoded vector to get angle\n",
    "    \n",
    "    Input:\n",
    "        one_hot_arr (np.ndarray): shape (1, NUM_CLASSES)\n",
    "        bins_edge (np.ndarray): shape (1, NUM_CLASSES + 1)\n",
    "    \"\"\"\n",
    "    angle_id = np.argmax(one_hot_arr)\n",
    "    if angle_id < NUM_CLASSES:\n",
    "        return (BINS_EDGE[angle_id] + BINS_EDGE[angle_id + 1]) / 2.\n",
    "    else:\n",
    "        return BINS_EDGE[angle_id]\n",
    "\n",
    "def id_to_angle(one_hot_arr):\n",
    "    \"\"\"\n",
    "    Decode a matrix of one_hot vector (each vector is a row)\n",
    "    \"\"\"\n",
    "    angels = np.zeros(one_hot_arr.shape[0])\n",
    "    for i in range(len(angels)):\n",
    "        angels[i] = one_hot_to_angle(one_hot_arr[i, :])\n",
    "    return angels"
   ]
  },
  {
   "cell_type": "code",
   "execution_count": 10,
   "metadata": {},
   "outputs": [],
   "source": [
    "def root_mean_squared_error(y, y_hat):\n",
    "    return np.sqrt(np.mean(np.square(y_hat - y)))"
   ]
  },
  {
   "cell_type": "code",
   "execution_count": 11,
   "metadata": {},
   "outputs": [],
   "source": [
    "rmse_seq = []\n",
    "eva_seq = []\n",
    "for i in range(NUM_LABELS):\n",
    "    # Get first angle ID in the sequence\n",
    "    y_id = y_val[i]\n",
    "    y_hat_id = y_hat[i]\n",
    "\n",
    "    # Convert angle ID to angle value\n",
    "    y_value = id_to_angle(y_id)\n",
    "    y_hat_value = id_to_angle(y_hat_id)\n",
    "    \n",
    "    # calculate RMSE\n",
    "    rmse_seq.append(root_mean_squared_error(y_value, y_hat_value))\n",
    "    eva_seq.append(explained_variance_score(y_value, y_hat_value))"
   ]
  },
  {
   "cell_type": "markdown",
   "metadata": {},
   "source": [
    "### Baseline from DroNet paper:\n",
    "**RMSE: 0.109**\n",
    "\n",
    "**EVA: 0.737**"
   ]
  },
  {
   "cell_type": "code",
   "execution_count": 12,
   "metadata": {},
   "outputs": [
    {
     "name": "stdout",
     "output_type": "stream",
     "text": [
      "\t\t RMSE \t\t EVA\n",
      "Pred 0: \t 0.1101 \t 0.8245\n",
      "Pred 1: \t 0.1159 \t 0.8042\n",
      "Pred 2: \t 0.1012 \t 0.8491\n",
      "Pred 3: \t 0.1159 \t 0.8020\n",
      "Pred 4: \t 0.1050 \t 0.8409\n"
     ]
    }
   ],
   "source": [
    "print(\"\\t\\t RMSE \\t\\t EVA\")\n",
    "for i in range(NUM_LABELS):\n",
    "    print(\"Pred %d: \\t %.4f \\t %.4f\" % (i, rmse_seq[i], eva_seq[i]))"
   ]
  },
  {
   "cell_type": "markdown",
   "metadata": {},
   "source": [
    "## 2.2 Angle ID distribution"
   ]
  },
  {
   "cell_type": "code",
   "execution_count": 16,
   "metadata": {
    "scrolled": false
   },
   "outputs": [
    {
     "data": {
      "image/png": "[encoded data removed]",
      "text/plain": [
       "<Figure size 720x720 with 5 Axes>"
      ]
     },
     "metadata": {
      "needs_background": "light"
     },
     "output_type": "display_data"
    }
   ],
   "source": [
    "# convert y_val to ID\n",
    "y_val_id_list = [np.argmax(y_val[j], axis=1) for j in range(NUM_LABELS)]\n",
    "y_hat_id_list = [np.argmax(y_hat[j], axis=1) for j in range(NUM_LABELS)]\n",
    "\n",
    "# Plot angel ID histogram for each prediciton in the sequence\n",
    "plt.figure(figsize=(10, 10))\n",
    "plt.subplot(231)\n",
    "plt.hist(y_val_id_list[0], bins=NUM_CLASSES, label=\"true\")\n",
    "plt.hist(y_hat_id_list[0], bins=NUM_CLASSES, label=\"predict\")\n",
    "plt.title(\"1st angle\")\n",
    "plt.legend(loc='upper right')\n",
    "\n",
    "plt.subplot(232)\n",
    "plt.hist(y_val_id_list[1], bins=NUM_CLASSES, label=\"true\")\n",
    "plt.hist(y_hat_id_list[1], bins=NUM_CLASSES, label=\"predict\")\n",
    "plt.title(\"2nd angle\")\n",
    "plt.legend(loc='upper right')\n",
    "\n",
    "plt.subplot(233)\n",
    "plt.hist(y_val_id_list[2], bins=NUM_CLASSES, label=\"true\")\n",
    "plt.hist(y_hat_id_list[2], bins=NUM_CLASSES, label=\"predict\")\n",
    "plt.title(\"3rd angle\")\n",
    "plt.legend(loc='upper right')\n",
    "\n",
    "plt.subplot(234)\n",
    "plt.hist(y_val_id_list[3], bins=NUM_CLASSES, label=\"true\")\n",
    "plt.hist(y_hat_id_list[3], bins=NUM_CLASSES, label=\"predict\")\n",
    "plt.title(\"4th angle\")\n",
    "plt.legend(loc='upper right')\n",
    "\n",
    "plt.subplot(235)\n",
    "plt.hist(y_val_id_list[4], bins=NUM_CLASSES, label=\"true\")\n",
    "plt.hist(y_hat_id_list[4], bins=NUM_CLASSES, label=\"predict\")\n",
    "plt.title(\"5th angle\")\n",
    "plt.legend(loc='upper right')\n",
    "\n",
    "plt.savefig(\"./images/predicted_angles_distribution.png\")\n",
    "plt.show()"
   ]
  },
  {
   "cell_type": "code",
   "execution_count": null,
   "metadata": {},
   "outputs": [],
   "source": []
  }
 ],
 "metadata": {
  "kernelspec": {
   "display_name": "Python 3",
   "language": "python",
   "name": "python3"
  },
  "language_info": {
   "codemirror_mode": {
    "name": "ipython",
    "version": 3
   },
   "file_extension": ".py",
   "mimetype": "text/x-python",
   "name": "python",
   "nbconvert_exporter": "python",
   "pygments_lexer": "ipython3",
   "version": "3.6.7"
  }
 },
 "nbformat": 4,
 "nbformat_minor": 2
}
